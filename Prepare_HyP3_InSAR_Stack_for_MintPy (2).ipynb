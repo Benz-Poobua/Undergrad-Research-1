{
 "cells": [
  {
   "cell_type": "markdown",
   "metadata": {
    "hidePrompt": true
   },
   "source": [
    "<img src=\"NotebookAddons/blackboard-banner.png\" width=\"100%\" />\n",
    "\n",
    "# Preparing a HyP3 InSAR Stack for MintPy\n",
    "\n",
    "**Author**: Alex Lewandowski; University of Alaska Fairbanks\n",
    " \n",
    "Based on [prep_hyp3_for_mintpy.ipynb](https://github.com/ASFHyP3/hyp3-docs) by Jiang Zhu; University of Alaska Fairbanks\n",
    "\n",
    "<img src=\"NotebookAddons/UAFLogo_A_647.png\" width=\"170\" align=\"right\" />\n",
    "\n",
    "**Important Note about JupyterHub**\n",
    "Your JupyterHub server will automatically shutdown when left idle for more than 1 hour. Your notebooks will not be lost but you will have to restart their kernels and re-run them from the beginning. You will not be able to seamlessly continue running a partially run notebook."
   ]
  },
  {
   "cell_type": "code",
   "execution_count": 1,
   "metadata": {},
   "outputs": [
    {
     "data": {
      "application/vnd.jupyter.widget-view+json": {
       "model_id": "08c8929eb6dd42fc925ece5225d2cb06",
       "version_major": 2,
       "version_minor": 0
      },
      "text/plain": [
       "URLWidget()"
      ]
     },
     "metadata": {},
     "output_type": "display_data"
    }
   ],
   "source": [
    "import url_widget as url_w\n",
    "notebookUrl = url_w.URLWidget()\n",
    "display(notebookUrl)"
   ]
  },
  {
   "cell_type": "code",
   "execution_count": 2,
   "metadata": {},
   "outputs": [],
   "source": [
    "from IPython.display import Markdown\n",
    "from IPython.display import display\n",
    "\n",
    "notebookUrl = notebookUrl.value\n",
    "user = !echo $JUPYTERHUB_USER\n",
    "env = !echo $CONDA_PREFIX\n",
    "if env[0] == '':\n",
    "    env[0] = 'Python 3 (base)'\n",
    "if env[0] != '/home/jovyan/.local/envs/osl_mintpy':\n",
    "    display(Markdown(f'<text style=color:red><strong>WARNING:</strong></text>'))\n",
    "    display(Markdown(f'<text style=color:red>This notebook should be run using the \"osl_mintpy\" conda environment.</text>'))\n",
    "    display(Markdown(f'<text style=color:red>It is currently using the \"{env[0].split(\"/\")[-1]}\" environment.</text>'))\n",
    "    display(Markdown(f'<text style=color:red>Select the \"osl_mintpy\" from the \"Change Kernel\" submenu of the \"Kernel\" menu.</text>'))\n",
    "    display(Markdown(f'<text style=color:red>If the \"osl_mintpy\" environment is not present, use <a href=\"{notebookUrl.split(\"/user\")[0]}/user/{user[0]}/notebooks/conda_environments/Create_OSL_Conda_Environments.ipynb\"> Create_OSL_Conda_Environments.ipynb </a> to create it.</text>'))\n",
    "    display(Markdown(f'<text style=color:red>Note that you must restart your server after creating a new environment before it is usable by notebooks.</text>'))"
   ]
  },
  {
   "cell_type": "markdown",
   "metadata": {},
   "source": [
    "## 0. Importing Relevant Python Packages\n",
    "\n",
    "In this notebook we will use the following scientific libraries:\n",
    "- [GDAL](https://www.gdal.org/) is a software library for reading and writing raster and vector geospatial data formats. It includes a collection of programs tailored for geospatial data processing. Most modern GIS systems (such as ArcGIS or QGIS) use GDAL in the background.\n",
    "\n",
    "**Our first step is to import gdal and other needed packages**"
   ]
  },
  {
   "cell_type": "code",
   "execution_count": 3,
   "metadata": {},
   "outputs": [],
   "source": [
    "import copy\n",
    "from datetime import datetime, timedelta\n",
    "import ipywidgets as widgets\n",
    "from itertools import chain\n",
    "import json\n",
    "from pathlib import Path\n",
    "import re\n",
    "import requests\n",
    "from tqdm.auto import tqdm\n",
    "from typing import Union\n",
    "\n",
    "import numpy as np\n",
    "from osgeo import gdal\n",
    "gdal.UseExceptions()\n",
    "import pandas\n",
    "from rasterio.warp import transform_bounds\n",
    "\n",
    "import opensarlab_lib as asfn\n",
    "\n",
    "from hyp3_sdk import Batch, HyP3\n",
    "\n",
    "%matplotlib widget"
   ]
  },
  {
   "cell_type": "markdown",
   "metadata": {},
   "source": [
    "## 1. Load Your Own Data Stack Into the Notebook\n",
    "\n",
    "This notebook assumes that you are accessing an InSAR time series created using the [Alaska Satellite Facility's](https://www.asf.alaska.edu/) value-added product system HyP3, available via [ASF Data Search/Vertex](https://search.asf.alaska.edu/). HyP3 is an ASF service used to prototype value added products and provide them to users to collect feedback.\n",
    "\n",
    "You can access HyP3 on-demand products from your HyP3 account or from publically available, pre-processed SARVIEWS Event data. https://sarviews-hazards.alaska.edu/\n",
    "\n",
    "Before downloading anything, create an analysis directory to hold your data.\n",
    "\n",
    "**Select or create a working directory for the analysis:**"
   ]
  },
  {
   "cell_type": "code",
   "execution_count": 4,
   "metadata": {},
   "outputs": [
    {
     "name": "stdout",
     "output_type": "stream",
     "text": [
      "Current working directory: /home/jovyan/notebooks/SAR_Training/English/Master\n"
     ]
    },
    {
     "name": "stdin",
     "output_type": "stream",
     "text": [
      "\n",
      "Please enter the name of a directory in which to store your data for this analysis. SBAS_2017-2022_1\n"
     ]
    }
   ],
   "source": [
    "while True:\n",
    "    print(f\"Current working directory: {Path.cwd()}\")\n",
    "    data_dir = Path(input(f\"\\nPlease enter the name of a directory in which to store your data for this analysis.\"))\n",
    "    if data_dir == Path('.'):\n",
    "        continue\n",
    "    if data_dir.is_dir():\n",
    "        contents = data_dir.glob('*')\n",
    "        if len(list(contents)) > 0:\n",
    "            choice = asfn.handle_old_data(data_dir)\n",
    "            if choice == 1:\n",
    "                if data_dir.exists():\n",
    "                    shutil.rmtree(data_dir)\n",
    "                data_dir.mkdir()\n",
    "                break\n",
    "            elif choice == 2:\n",
    "                break\n",
    "            else:\n",
    "                clear_output()\n",
    "                continue\n",
    "        else:\n",
    "            break\n",
    "    else:\n",
    "        data_dir.mkdir()\n",
    "        break"
   ]
  },
  {
   "cell_type": "markdown",
   "metadata": {},
   "source": [
    "**Define absolute path to  analysis directory:**"
   ]
  },
  {
   "cell_type": "code",
   "execution_count": 5,
   "metadata": {},
   "outputs": [
    {
     "name": "stdout",
     "output_type": "stream",
     "text": [
      "analysis_directory: /home/jovyan/notebooks/SAR_Training/English/Master/SBAS_2017-2022_1\n"
     ]
    }
   ],
   "source": [
    "analysis_directory = Path.cwd()/(data_dir)\n",
    "print(f\"analysis_directory: {analysis_directory}\")"
   ]
  },
  {
   "cell_type": "code",
   "execution_count": 6,
   "metadata": {},
   "outputs": [],
   "source": [
    "def dates_from_product_name(product_name):\n",
    "    regex = \"[0-9]{8}T[0-9]{6}_[0-9]{8}T[0-9]{6}\"\n",
    "    results = re.search(regex, product_name)\n",
    "    if results:\n",
    "        return results.group(0)\n",
    "    else:\n",
    "        return None"
   ]
  },
  {
   "cell_type": "markdown",
   "metadata": {},
   "source": [
    "**Create a HyP3 object and authenticate:**"
   ]
  },
  {
   "cell_type": "code",
   "execution_count": 7,
   "metadata": {
    "slideshow": {
     "slide_type": "subslide"
    }
   },
   "outputs": [
    {
     "name": "stdin",
     "output_type": "stream",
     "text": [
      "NASA Earthdata Login username:  Suphakorn1207\n",
      "NASA Earthdata Login password:  ········\n"
     ]
    }
   ],
   "source": [
    "hyp3 = HyP3(prompt=True)"
   ]
  },
  {
   "cell_type": "markdown",
   "metadata": {},
   "source": [
    "**List projects containing active InSAR products and select one:**\n",
    "\n",
    "Your HyP3 InSAR project should include DEMs, which are available as options when submitting a HyP3 project"
   ]
  },
  {
   "cell_type": "code",
   "execution_count": 8,
   "metadata": {},
   "outputs": [
    {
     "name": "stdout",
     "output_type": "stream",
     "text": [
      "Checking all HyP3 projects for current INSAR_GAMMA jobs\n"
     ]
    },
    {
     "data": {
      "application/vnd.jupyter.widget-view+json": {
       "model_id": "1bc3b9d3c39f46ee9c618375e111bb82",
       "version_major": 2,
       "version_minor": 0
      },
      "text/plain": [
       "  0%|          | 0/14 [00:00<?, ?it/s]"
      ]
     },
     "metadata": {},
     "output_type": "display_data"
    },
    {
     "data": {
      "text/markdown": [
       "<text style='color:darkred;'>Note: After selecting a project, you must select the next cell before hitting the 'Run' button or typing Shift/Enter.</text>"
      ],
      "text/plain": [
       "<IPython.core.display.Markdown object>"
      ]
     },
     "metadata": {},
     "output_type": "display_data"
    },
    {
     "data": {
      "text/markdown": [
       "<text style='color:darkred;'>Otherwise, you will rerun this code cell.</text>"
      ],
      "text/plain": [
       "<IPython.core.display.Markdown object>"
      ]
     },
     "metadata": {},
     "output_type": "display_data"
    },
    {
     "name": "stdout",
     "output_type": "stream",
     "text": [
      "\n",
      "Select a Project:\n"
     ]
    },
    {
     "data": {
      "application/vnd.jupyter.widget-view+json": {
       "model_id": "490c37092f6741fcabb45f27e6900659",
       "version_major": 2,
       "version_minor": 0
      },
      "text/plain": [
       "RadioButtons(layout=Layout(min_width='800px'), options=('Demo_opensarlab', 'Yakima_2015_2017_SBAS', 'Yakima_20…"
      ]
     },
     "metadata": {},
     "output_type": "display_data"
    }
   ],
   "source": [
    "my_hyp3_info = hyp3.my_info()\n",
    "active_projects = dict()\n",
    "\n",
    "print(\"Checking all HyP3 projects for current INSAR_GAMMA jobs\")\n",
    "for project in tqdm(my_hyp3_info['job_names']):\n",
    "    batch = Batch()\n",
    "    batch = hyp3.find_jobs(name=project, job_type='INSAR_GAMMA').filter_jobs(running=False, include_expired=False)\n",
    "    if len(batch) > 0:\n",
    "        active_projects.update({batch.jobs[0].name: batch})\n",
    "\n",
    "if len(active_projects) > 0:\n",
    "    display(Markdown(\"<text style='color:darkred;'>Note: After selecting a project, you must select the next cell before hitting the 'Run' button or typing Shift/Enter.</text>\"))\n",
    "    display(Markdown(\"<text style='color:darkred;'>Otherwise, you will rerun this code cell.</text>\"))\n",
    "    print('\\nSelect a Project:')\n",
    "    project_select = asfn.select_parameter(active_projects.keys())\n",
    "    display(project_select)\n",
    "else:\n",
    "    print(\"Found no active projects containing InSAR products\")"
   ]
  },
  {
   "cell_type": "markdown",
   "metadata": {},
   "source": [
    "**Select a date range of products to download:**"
   ]
  },
  {
   "cell_type": "code",
   "execution_count": 9,
   "metadata": {},
   "outputs": [
    {
     "data": {
      "text/markdown": [
       "<text style='color:darkred;'>Note: After selecting a date range, you should select the next cell before hitting the 'Run' button or typing Shift/Enter.</text>"
      ],
      "text/plain": [
       "<IPython.core.display.Markdown object>"
      ]
     },
     "metadata": {},
     "output_type": "display_data"
    },
    {
     "data": {
      "text/markdown": [
       "<text style='color:darkred;'>Otherwise, you may simply rerun this code cell.</text>"
      ],
      "text/plain": [
       "<IPython.core.display.Markdown object>"
      ]
     },
     "metadata": {},
     "output_type": "display_data"
    },
    {
     "name": "stdout",
     "output_type": "stream",
     "text": [
      "\n",
      "Select a Date Range:\n"
     ]
    },
    {
     "data": {
      "application/vnd.jupyter.widget-view+json": {
       "model_id": "46618d2aba414116a303b3c2269ce6fe",
       "version_major": 2,
       "version_minor": 0
      },
      "text/plain": [
       "SelectionRangeSlider(description='Dates', index=(0, 2904), layout=Layout(width='500px'), options=((' 01/14/201…"
      ]
     },
     "metadata": {},
     "output_type": "display_data"
    }
   ],
   "source": [
    "jobs = active_projects[project_select.value]\n",
    "\n",
    "display(Markdown(\"<text style='color:darkred;'>Note: After selecting a date range, you should select the next cell before hitting the 'Run' button or typing Shift/Enter.</text>\"))\n",
    "display(Markdown(\"<text style='color:darkred;'>Otherwise, you may simply rerun this code cell.</text>\"))\n",
    "print('\\nSelect a Date Range:')\n",
    "dates = asfn.get_job_dates(jobs)\n",
    "date_picker = asfn.gui_date_picker(dates)\n",
    "display(date_picker)"
   ]
  },
  {
   "cell_type": "markdown",
   "metadata": {},
   "source": [
    "**Save the selected date range and remove products falling outside of it:**"
   ]
  },
  {
   "cell_type": "code",
   "execution_count": 10,
   "metadata": {},
   "outputs": [
    {
     "name": "stdout",
     "output_type": "stream",
     "text": [
      "Date Range: 2017-01-10 to 2022-12-27\n"
     ]
    }
   ],
   "source": [
    "date_range = asfn.get_slider_vals(date_picker)\n",
    "date_range[0] = date_range[0].date()\n",
    "date_range[1] = date_range[1].date()\n",
    "print(f\"Date Range: {str(date_range[0])} to {str(date_range[1])}\")\n",
    "jobs = asfn.filter_jobs_by_date(jobs, date_range)"
   ]
  },
  {
   "cell_type": "markdown",
   "metadata": {},
   "source": [
    "**Gather the available paths and orbit directions for the remaining products:**"
   ]
  },
  {
   "cell_type": "code",
   "execution_count": 11,
   "metadata": {},
   "outputs": [
    {
     "data": {
      "text/markdown": [
       "<text style='color:darkred;'><text style='font-size:150%;'>This may take some time for projects containing many jobs...</text></text>"
      ],
      "text/plain": [
       "<IPython.core.display.Markdown object>"
      ]
     },
     "metadata": {},
     "output_type": "display_data"
    },
    {
     "data": {
      "text/markdown": [
       "<text style=color:blue><text style='font-size:175%;'>Done.</text></text>"
      ],
      "text/plain": [
       "<IPython.core.display.Markdown object>"
      ]
     },
     "metadata": {},
     "output_type": "display_data"
    }
   ],
   "source": [
    "display(Markdown(\"<text style='color:darkred;'><text style='font-size:150%;'>This may take some time for projects containing many jobs...</text></text>\"))\n",
    "asfn.set_paths_orbits(jobs)\n",
    "paths = set()\n",
    "orbit_directions = set()\n",
    "for p in jobs:\n",
    "    paths.add(p.path)\n",
    "    orbit_directions.add(p.orbit_direction)\n",
    "display(Markdown(f\"<text style=color:blue><text style='font-size:175%;'>Done.</text></text>\"))"
   ]
  },
  {
   "cell_type": "markdown",
   "metadata": {},
   "source": [
    "---\n",
    "**Select a path:**\n",
    "\n",
    "This notebook does not currently support merging InSAR products in multiple paths"
   ]
  },
  {
   "cell_type": "code",
   "execution_count": 12,
   "metadata": {},
   "outputs": [
    {
     "data": {
      "text/markdown": [
       "<text style='color:darkred;'>Note: After selecting a path, you must select the next cell before hitting the 'Run' button or typing Shift/Enter.</text>"
      ],
      "text/plain": [
       "<IPython.core.display.Markdown object>"
      ]
     },
     "metadata": {},
     "output_type": "display_data"
    },
    {
     "data": {
      "text/markdown": [
       "<text style='color:darkred;'>Otherwise, you will simply rerun this code cell.</text>"
      ],
      "text/plain": [
       "<IPython.core.display.Markdown object>"
      ]
     },
     "metadata": {},
     "output_type": "display_data"
    },
    {
     "name": "stdout",
     "output_type": "stream",
     "text": [
      "\n",
      "Select a Path:\n"
     ]
    },
    {
     "data": {
      "application/vnd.jupyter.widget-view+json": {
       "model_id": "acbd768423cd4aa6be63129a5a56d270",
       "version_major": 2,
       "version_minor": 0
      },
      "text/plain": [
       "RadioButtons(layout=Layout(min_width='800px'), options=(64,), value=64)"
      ]
     },
     "metadata": {},
     "output_type": "display_data"
    }
   ],
   "source": [
    "display(Markdown(\"<text style='color:darkred;'>Note: After selecting a path, you must select the next cell before hitting the 'Run' button or typing Shift/Enter.</text>\"))\n",
    "display(Markdown(\"<text style='color:darkred;'>Otherwise, you will simply rerun this code cell.</text>\"))\n",
    "print('\\nSelect a Path:')\n",
    "path_choice = asfn.select_parameter(paths)\n",
    "display(path_choice)"
   ]
  },
  {
   "cell_type": "markdown",
   "metadata": {},
   "source": [
    "**Save the selected flight path/s:**"
   ]
  },
  {
   "cell_type": "code",
   "execution_count": 13,
   "metadata": {},
   "outputs": [
    {
     "name": "stdout",
     "output_type": "stream",
     "text": [
      "Flight Path: 64\n"
     ]
    }
   ],
   "source": [
    "flight_path = path_choice.value\n",
    "if flight_path:\n",
    "    if flight_path:\n",
    "        print(f\"Flight Path: {flight_path}\")\n",
    "    else:\n",
    "        print('Flight Path: All Paths')\n",
    "else:\n",
    "    print(\"WARNING: You must select a flight path in the previous cell, then rerun this cell.\")"
   ]
  },
  {
   "cell_type": "markdown",
   "metadata": {},
   "source": [
    "**Select an orbit direction:**"
   ]
  },
  {
   "cell_type": "code",
   "execution_count": 14,
   "metadata": {},
   "outputs": [
    {
     "name": "stdout",
     "output_type": "stream",
     "text": [
      "\n",
      "Select a Flight Direction:\n"
     ]
    },
    {
     "data": {
      "application/vnd.jupyter.widget-view+json": {
       "model_id": "402fd5d4dd334b40a385f5d4d3a63ad0",
       "version_major": 2,
       "version_minor": 0
      },
      "text/plain": [
       "RadioButtons(description='Direction:', layout=Layout(min_width='800px'), options=('ASCENDING',), value='ASCEND…"
      ]
     },
     "metadata": {},
     "output_type": "display_data"
    }
   ],
   "source": [
    "if len(orbit_directions) > 1:\n",
    "    display(Markdown(\"<text style='color:red;'>Note: After selecting a flight direction, you must select the next cell before hitting the 'Run' button or typing Shift/Enter.</text>\"))\n",
    "    display(Markdown(\"<text style='color:red;'>Otherwise, you will simply rerun this code cell.</text>\"))\n",
    "print('\\nSelect a Flight Direction:')\n",
    "direction_choice = asfn.select_parameter(orbit_directions, 'Direction:')\n",
    "display(direction_choice)"
   ]
  },
  {
   "cell_type": "markdown",
   "metadata": {},
   "source": [
    "**Save the selected orbit direction:**"
   ]
  },
  {
   "cell_type": "code",
   "execution_count": 15,
   "metadata": {},
   "outputs": [
    {
     "name": "stdout",
     "output_type": "stream",
     "text": [
      "Orbit Direction: ASCENDING\n"
     ]
    }
   ],
   "source": [
    "direction = direction_choice.value\n",
    "print(f\"Orbit Direction: {direction}\")"
   ]
  },
  {
   "cell_type": "markdown",
   "metadata": {},
   "source": [
    "**Filter jobs by path and orbit direction:**"
   ]
  },
  {
   "cell_type": "code",
   "execution_count": 16,
   "metadata": {},
   "outputs": [
    {
     "name": "stdout",
     "output_type": "stream",
     "text": [
      "There are 411 products to download.\n"
     ]
    }
   ],
   "source": [
    "jobs = asfn.filter_jobs_by_path(jobs, [flight_path])\n",
    "jobs = asfn.filter_jobs_by_orbit(jobs, direction)\n",
    "print(f\"There are {len(jobs)} products to download.\")"
   ]
  },
  {
   "cell_type": "markdown",
   "metadata": {},
   "source": [
    "**Download the products, unzip them into a directory named after the product type, and delete the zip files:**"
   ]
  },
  {
   "cell_type": "code",
   "execution_count": 17,
   "metadata": {
    "tags": []
   },
   "outputs": [
    {
     "name": "stdout",
     "output_type": "stream",
     "text": [
      "\n",
      "Project: sbas_2015_2022_all\n"
     ]
    },
    {
     "data": {
      "application/vnd.jupyter.widget-view+json": {
       "model_id": "ff2ab5b865094ab390453aff1e5fe95e",
       "version_major": 2,
       "version_minor": 0
      },
      "text/plain": [
       "  0%|          | 0/411 [00:00<?, ?it/s]"
      ]
     },
     "metadata": {},
     "output_type": "display_data"
    },
    {
     "data": {
      "application/vnd.jupyter.widget-view+json": {
       "model_id": "ecc1b0cf805b4a3aa4982cdcd1e82e4f",
       "version_major": 2,
       "version_minor": 0
      },
      "text/plain": [
       "S1AA_20221121T015403_20221227T015401_VVP036_INT80_G_ueF_9BDE.zip:   0%|          | 0/359246426 [00:00<?, ?it/s…"
      ]
     },
     "metadata": {},
     "output_type": "display_data"
    },
    {
     "data": {
      "application/vnd.jupyter.widget-view+json": {
       "model_id": "9e46500fde7643759193b893c52dad08",
       "version_major": 2,
       "version_minor": 0
      },
      "text/plain": [
       "S1AA_20221203T015403_20221227T015401_VVP024_INT80_G_ueF_56F4.zip:   0%|          | 0/361035199 [00:00<?, ?it/s…"
      ]
     },
     "metadata": {},
     "output_type": "display_data"
    },
    {
     "data": {
      "application/vnd.jupyter.widget-view+json": {
       "model_id": "81b3cea420fa49028e35c56faf0c7898",
       "version_major": 2,
       "version_minor": 0
      },
      "text/plain": [
       "S1AA_20221016T015404_20221215T015402_VVP060_INT80_G_ueF_6078.zip:   0%|          | 0/359396871 [00:00<?, ?it/s…"
      ]
     },
     "metadata": {},
     "output_type": "display_data"
    },
    {
     "data": {
      "application/vnd.jupyter.widget-view+json": {
       "model_id": "2310f5e4a311499e8f16488eea48a8bf",
       "version_major": 2,
       "version_minor": 0
      },
      "text/plain": [
       "S1AA_20220910T015403_20221028T015404_VVP048_INT80_G_ueF_1B1E.zip:   0%|          | 0/359702651 [00:00<?, ?it/s…"
      ]
     },
     "metadata": {},
     "output_type": "display_data"
    },
    {
     "data": {
      "application/vnd.jupyter.widget-view+json": {
       "model_id": "23f7dbcaefe448538d2cb2231854b99b",
       "version_major": 2,
       "version_minor": 0
      },
      "text/plain": [
       "S1AA_20221028T015404_20221227T015401_VVP060_INT80_G_ueF_3A20.zip:   0%|          | 0/361076987 [00:00<?, ?it/s…"
      ]
     },
     "metadata": {},
     "output_type": "display_data"
    },
    {
     "data": {
      "application/vnd.jupyter.widget-view+json": {
       "model_id": "afdbbe6d0dc64151a7f8d3ca72e1cede",
       "version_major": 2,
       "version_minor": 0
      },
      "text/plain": [
       "S1AA_20221004T015404_20221028T015404_VVP024_INT80_G_ueF_6434.zip:   0%|          | 0/359389565 [00:00<?, ?it/s…"
      ]
     },
     "metadata": {},
     "output_type": "display_data"
    },
    {
     "data": {
      "application/vnd.jupyter.widget-view+json": {
       "model_id": "9f7b7b07d2694e4cbb8f13157ae5dc8f",
       "version_major": 2,
       "version_minor": 0
      },
      "text/plain": [
       "S1AA_20221028T015404_20221121T015403_VVP024_INT80_G_ueF_DB5F.zip:   0%|          | 0/360106715 [00:00<?, ?it/s…"
      ]
     },
     "metadata": {},
     "output_type": "display_data"
    },
    {
     "data": {
      "application/vnd.jupyter.widget-view+json": {
       "model_id": "5aa7b5334ffc43c3b525d7057fb13673",
       "version_major": 2,
       "version_minor": 0
      },
      "text/plain": [
       "S1AA_20220829T015402_20221028T015404_VVP060_INT80_G_ueF_A119.zip:   0%|          | 0/359385070 [00:00<?, ?it/s…"
      ]
     },
     "metadata": {},
     "output_type": "display_data"
    },
    {
     "data": {
      "application/vnd.jupyter.widget-view+json": {
       "model_id": "61b6c32d5ce940ca8bdbf84588403534",
       "version_major": 2,
       "version_minor": 0
      },
      "text/plain": [
       "S1AA_20221016T015404_20221121T015403_VVP036_INT80_G_ueF_C5AC.zip:   0%|          | 0/358974213 [00:00<?, ?it/s…"
      ]
     },
     "metadata": {},
     "output_type": "display_data"
    },
    {
     "data": {
      "application/vnd.jupyter.widget-view+json": {
       "model_id": "2c4f6e57b2ab47bda885f7c24e372558",
       "version_major": 2,
       "version_minor": 0
      },
      "text/plain": [
       "S1AA_20221109T015403_20221215T015402_VVP036_INT80_G_ueF_6CC5.zip:   0%|          | 0/360757614 [00:00<?, ?it/s…"
      ]
     },
     "metadata": {},
     "output_type": "display_data"
    },
    {
     "data": {
      "application/vnd.jupyter.widget-view+json": {
       "model_id": "8332750ec2264f60a2b0e3ec0e2586cf",
       "version_major": 2,
       "version_minor": 0
      },
      "text/plain": [
       "S1AA_20221028T015404_20221215T015402_VVP048_INT80_G_ueF_24D9.zip:   0%|          | 0/359895747 [00:00<?, ?it/s…"
      ]
     },
     "metadata": {},
     "output_type": "display_data"
    },
    {
     "data": {
      "application/vnd.jupyter.widget-view+json": {
       "model_id": "945fdba23a0a4969aef7a2b2c201c2e3",
       "version_major": 2,
       "version_minor": 0
      },
      "text/plain": [
       "S1AA_20221109T015403_20221227T015401_VVP048_INT80_G_ueF_B3F0.zip:   0%|          | 0/360424333 [00:00<?, ?it/s…"
      ]
     },
     "metadata": {},
     "output_type": "display_data"
    },
    {
     "data": {
      "application/vnd.jupyter.widget-view+json": {
       "model_id": "dfeb58b6617d45a3b2f398418d62e043",
       "version_major": 2,
       "version_minor": 0
      },
      "text/plain": [
       "S1AA_20220829T015402_20221016T015404_VVP048_INT80_G_ueF_7241.zip:   0%|          | 0/357813502 [00:00<?, ?it/s…"
      ]
     },
     "metadata": {},
     "output_type": "display_data"
    },
    {
     "data": {
      "application/vnd.jupyter.widget-view+json": {
       "model_id": "db1edc40598c4fbab9f304e1067ea3df",
       "version_major": 2,
       "version_minor": 0
      },
      "text/plain": [
       "S1AA_20221028T015404_20221203T015403_VVP036_INT80_G_ueF_B915.zip:   0%|          | 0/361472202 [00:00<?, ?it/s…"
      ]
     },
     "metadata": {},
     "output_type": "display_data"
    },
    {
     "data": {
      "application/vnd.jupyter.widget-view+json": {
       "model_id": "7eda48ccf36a47d29da5f65bf43bd7a7",
       "version_major": 2,
       "version_minor": 0
      },
      "text/plain": [
       "S1AA_20220817T015402_20221016T015404_VVP060_INT80_G_ueF_FFEB.zip:   0%|          | 0/358011720 [00:00<?, ?it/s…"
      ]
     },
     "metadata": {},
     "output_type": "display_data"
    },
    {
     "data": {
      "application/vnd.jupyter.widget-view+json": {
       "model_id": "dc55c5040a034f01b01724a748787919",
       "version_major": 2,
       "version_minor": 0
      },
      "text/plain": [
       "S1AA_20220910T015403_20221016T015404_VVP036_INT80_G_ueF_2B38.zip:   0%|          | 0/358456613 [00:00<?, ?it/s…"
      ]
     },
     "metadata": {},
     "output_type": "display_data"
    },
    {
     "data": {
      "application/vnd.jupyter.widget-view+json": {
       "model_id": "fc5e187dc7de48a5970975e8a1ebee70",
       "version_major": 2,
       "version_minor": 0
      },
      "text/plain": [
       "S1AA_20221004T015404_20221121T015403_VVP048_INT80_G_ueF_7702.zip:   0%|          | 0/359551623 [00:00<?, ?it/s…"
      ]
     },
     "metadata": {},
     "output_type": "display_data"
    },
    {
     "data": {
      "application/vnd.jupyter.widget-view+json": {
       "model_id": "911aaf75869a42e8acc9797970197fb7",
       "version_major": 2,
       "version_minor": 0
      },
      "text/plain": [
       "S1AA_20220829T015402_20221004T015404_VVP036_INT80_G_ueF_4090.zip:   0%|          | 0/355487787 [00:00<?, ?it/s…"
      ]
     },
     "metadata": {},
     "output_type": "display_data"
    },
    {
     "data": {
      "application/vnd.jupyter.widget-view+json": {
       "model_id": "d2038aeee8fe4311814e62df1546062b",
       "version_major": 2,
       "version_minor": 0
      },
      "text/plain": [
       "S1AA_20221016T015404_20221203T015403_VVP048_INT80_G_ueF_F852.zip:   0%|          | 0/358135334 [00:00<?, ?it/s…"
      ]
     },
     "metadata": {},
     "output_type": "display_data"
    },
    {
     "data": {
      "application/vnd.jupyter.widget-view+json": {
       "model_id": "6257072cc6f44cbdaa143797fce6af02",
       "version_major": 2,
       "version_minor": 0
      },
      "text/plain": [
       "S1AA_20221004T015404_20221203T015403_VVP060_INT80_G_ueF_AC9C.zip:   0%|          | 0/362597742 [00:00<?, ?it/s…"
      ]
     },
     "metadata": {},
     "output_type": "display_data"
    },
    {
     "data": {
      "application/vnd.jupyter.widget-view+json": {
       "model_id": "ccdc586aee1341e9b477d634f0ff88ce",
       "version_major": 2,
       "version_minor": 0
      },
      "text/plain": [
       "S1AA_20220910T015403_20221004T015404_VVP024_INT80_G_ueF_B065.zip:   0%|          | 0/357948547 [00:00<?, ?it/s…"
      ]
     },
     "metadata": {},
     "output_type": "display_data"
    },
    {
     "data": {
      "application/vnd.jupyter.widget-view+json": {
       "model_id": "5f7a4015324446ab8aea08fcb82039ab",
       "version_major": 2,
       "version_minor": 0
      },
      "text/plain": [
       "S1AA_20221121T015403_20221215T015402_VVP024_INT80_G_ueF_CB79.zip:   0%|          | 0/357344265 [00:00<?, ?it/s…"
      ]
     },
     "metadata": {},
     "output_type": "display_data"
    },
    {
     "data": {
      "application/vnd.jupyter.widget-view+json": {
       "model_id": "d329c366082d43db8ec1e08239a118d6",
       "version_major": 2,
       "version_minor": 0
      },
      "text/plain": [
       "S1AA_20220805T015401_20221004T015404_VVP060_INT80_G_ueF_A713.zip:   0%|          | 0/359790968 [00:00<?, ?it/s…"
      ]
     },
     "metadata": {},
     "output_type": "display_data"
    },
    {
     "data": {
      "application/vnd.jupyter.widget-view+json": {
       "model_id": "2321ff6b686b447ab58052134e945073",
       "version_major": 2,
       "version_minor": 0
      },
      "text/plain": [
       "S1AA_20220817T015402_20220910T015403_VVP024_INT80_G_ueF_5D37.zip:   0%|          | 0/359550828 [00:00<?, ?it/s…"
      ]
     },
     "metadata": {},
     "output_type": "display_data"
    },
    {
     "data": {
      "application/vnd.jupyter.widget-view+json": {
       "model_id": "0296e9a970c342a38e3d59d5163dfbe9",
       "version_major": 2,
       "version_minor": 0
      },
      "text/plain": [
       "S1AA_20220724T015401_20220910T015403_VVP048_INT80_G_ueF_B147.zip:   0%|          | 0/362403966 [00:00<?, ?it/s…"
      ]
     },
     "metadata": {},
     "output_type": "display_data"
    },
    {
     "data": {
      "application/vnd.jupyter.widget-view+json": {
       "model_id": "21ed76053f90417586deb6bdc1ad03f5",
       "version_major": 2,
       "version_minor": 0
      },
      "text/plain": [
       "S1AA_20220525T015356_20220712T015400_VVP048_INT80_G_ueF_C039.zip:   0%|          | 0/360312163 [00:00<?, ?it/s…"
      ]
     },
     "metadata": {},
     "output_type": "display_data"
    },
    {
     "data": {
      "application/vnd.jupyter.widget-view+json": {
       "model_id": "c37be415ea3547469b1fcc306778f359",
       "version_major": 2,
       "version_minor": 0
      },
      "text/plain": [
       "S1AA_20220606T015358_20220724T015401_VVP048_INT80_G_ueF_245E.zip:   0%|          | 0/361018351 [00:00<?, ?it/s…"
      ]
     },
     "metadata": {},
     "output_type": "display_data"
    },
    {
     "data": {
      "application/vnd.jupyter.widget-view+json": {
       "model_id": "694abd4747774501a3f2bcae4fa59e99",
       "version_major": 2,
       "version_minor": 0
      },
      "text/plain": [
       "S1AA_20220618T015358_20220712T015400_VVP024_INT80_G_ueF_8EF5.zip:   0%|          | 0/359539275 [00:00<?, ?it/s…"
      ]
     },
     "metadata": {},
     "output_type": "display_data"
    },
    {
     "data": {
      "application/vnd.jupyter.widget-view+json": {
       "model_id": "21c76b5212624a44ae4512b46a32d13a",
       "version_major": 2,
       "version_minor": 0
      },
      "text/plain": [
       "S1AA_20220618T015358_20220724T015401_VVP036_INT80_G_ueF_6A1C.zip:   0%|          | 0/359091617 [00:00<?, ?it/s…"
      ]
     },
     "metadata": {},
     "output_type": "display_data"
    },
    {
     "data": {
      "application/vnd.jupyter.widget-view+json": {
       "model_id": "5ea444fca7d042dda4ef8d8e80d157e3",
       "version_major": 2,
       "version_minor": 0
      },
      "text/plain": [
       "S1AA_20220618T015358_20220817T015402_VVP060_INT80_G_ueF_92C0.zip:   0%|          | 0/358619832 [00:00<?, ?it/s…"
      ]
     },
     "metadata": {},
     "output_type": "display_data"
    },
    {
     "data": {
      "application/vnd.jupyter.widget-view+json": {
       "model_id": "44309a60ed754549bfe9e2486f2ec99e",
       "version_major": 2,
       "version_minor": 0
      },
      "text/plain": [
       "S1AA_20220724T015401_20220817T015402_VVP024_INT80_G_ueF_05DC.zip:   0%|          | 0/360498910 [00:00<?, ?it/s…"
      ]
     },
     "metadata": {},
     "output_type": "display_data"
    },
    {
     "data": {
      "application/vnd.jupyter.widget-view+json": {
       "model_id": "f1143cbf04de46008bb7e994552d9537",
       "version_major": 2,
       "version_minor": 0
      },
      "text/plain": [
       "S1AA_20220525T015356_20220630T015359_VVP036_INT80_G_ueF_7D61.zip:   0%|          | 0/363101566 [00:00<?, ?it/s…"
      ]
     },
     "metadata": {},
     "output_type": "display_data"
    },
    {
     "data": {
      "application/vnd.jupyter.widget-view+json": {
       "model_id": "954b9c893273467aa5d735c617ca561f",
       "version_major": 2,
       "version_minor": 0
      },
      "text/plain": [
       "S1AA_20220712T015400_20220910T015403_VVP060_INT80_G_ueF_A26C.zip:   0%|          | 0/361676575 [00:00<?, ?it/s…"
      ]
     },
     "metadata": {},
     "output_type": "display_data"
    },
    {
     "data": {
      "application/vnd.jupyter.widget-view+json": {
       "model_id": "9ca2277547024ae98656dab5fbad0418",
       "version_major": 2,
       "version_minor": 0
      },
      "text/plain": [
       "S1AA_20220817T015402_20221004T015404_VVP048_INT80_G_ueF_D523.zip:   0%|          | 0/360371376 [00:00<?, ?it/s…"
      ]
     },
     "metadata": {},
     "output_type": "display_data"
    },
    {
     "data": {
      "application/vnd.jupyter.widget-view+json": {
       "model_id": "60097561a0864d698cc9651dfd950d99",
       "version_major": 2,
       "version_minor": 0
      },
      "text/plain": [
       "S1AA_20220724T015401_20220829T015402_VVP036_INT80_G_ueF_1286.zip:   0%|          | 0/360638663 [00:00<?, ?it/s…"
      ]
     },
     "metadata": {},
     "output_type": "display_data"
    },
    {
     "data": {
      "application/vnd.jupyter.widget-view+json": {
       "model_id": "4f72d482b2134bdf92b87d4d47b754f7",
       "version_major": 2,
       "version_minor": 0
      },
      "text/plain": [
       "S1AA_20220712T015400_20220829T015402_VVP048_INT80_G_ueF_A771.zip:   0%|          | 0/358361376 [00:00<?, ?it/s…"
      ]
     },
     "metadata": {},
     "output_type": "display_data"
    },
    {
     "data": {
      "application/vnd.jupyter.widget-view+json": {
       "model_id": "6399b4edc369417b9d80a0a0fe6fb7f0",
       "version_major": 2,
       "version_minor": 0
      },
      "text/plain": [
       "S1AA_20220606T015358_20220805T015401_VVP060_INT80_G_ueF_4BD4.zip:   0%|          | 0/360445731 [00:00<?, ?it/s…"
      ]
     },
     "metadata": {},
     "output_type": "display_data"
    },
    {
     "data": {
      "application/vnd.jupyter.widget-view+json": {
       "model_id": "2d1638e7377f4fdda688818bd831b298",
       "version_major": 2,
       "version_minor": 0
      },
      "text/plain": [
       "S1AA_20220805T015401_20220910T015403_VVP036_INT80_G_ueF_9AE5.zip:   0%|          | 0/358737029 [00:00<?, ?it/s…"
      ]
     },
     "metadata": {},
     "output_type": "display_data"
    },
    {
     "data": {
      "application/vnd.jupyter.widget-view+json": {
       "model_id": "f8f589ca3db84f5eb7e07b8b6845ecbb",
       "version_major": 2,
       "version_minor": 0
      },
      "text/plain": [
       "S1AA_20220525T015356_20220618T015358_VVP024_INT80_G_ueF_B96F.zip:   0%|          | 0/360061952 [00:00<?, ?it/s…"
      ]
     },
     "metadata": {},
     "output_type": "display_data"
    },
    {
     "data": {
      "application/vnd.jupyter.widget-view+json": {
       "model_id": "80cd9a77a2d344809e014f477ae4cc91",
       "version_major": 2,
       "version_minor": 0
      },
      "text/plain": [
       "S1AA_20220712T015400_20220817T015402_VVP036_INT80_G_ueF_31A6.zip:   0%|          | 0/361518372 [00:00<?, ?it/s…"
      ]
     },
     "metadata": {},
     "output_type": "display_data"
    },
    {
     "data": {
      "application/vnd.jupyter.widget-view+json": {
       "model_id": "f5b3374f0910495e96969aaea9aeeeae",
       "version_major": 2,
       "version_minor": 0
      },
      "text/plain": [
       "S1AA_20220630T015359_20220829T015402_VVP060_INT80_G_ueF_67DF.zip:   0%|          | 0/361345036 [00:00<?, ?it/s…"
      ]
     },
     "metadata": {},
     "output_type": "display_data"
    },
    {
     "data": {
      "application/vnd.jupyter.widget-view+json": {
       "model_id": "a56b5ea918c54f6ebcdad97b4bb0c6be",
       "version_major": 2,
       "version_minor": 0
      },
      "text/plain": [
       "S1AA_20220513T015356_20220712T015400_VVP060_INT80_G_ueF_0FD4.zip:   0%|          | 0/359239600 [00:00<?, ?it/s…"
      ]
     },
     "metadata": {},
     "output_type": "display_data"
    },
    {
     "data": {
      "application/vnd.jupyter.widget-view+json": {
       "model_id": "8fb66644e66e453f8be68a789c7e8cad",
       "version_major": 2,
       "version_minor": 0
      },
      "text/plain": [
       "S1AA_20220407T015354_20220513T015356_VVP036_INT80_G_ueF_C9B3.zip:   0%|          | 0/358974145 [00:00<?, ?it/s…"
      ]
     },
     "metadata": {},
     "output_type": "display_data"
    },
    {
     "data": {
      "application/vnd.jupyter.widget-view+json": {
       "model_id": "8cbb1b350a25435d979f33cda46e230b",
       "version_major": 2,
       "version_minor": 0
      },
      "text/plain": [
       "S1AA_20220407T015354_20220501T015355_VVP024_INT80_G_ueF_5D43.zip:   0%|          | 0/361524297 [00:00<?, ?it/s…"
      ]
     },
     "metadata": {},
     "output_type": "display_data"
    },
    {
     "data": {
      "application/vnd.jupyter.widget-view+json": {
       "model_id": "373c2f4f822a4dffacc5017703c92992",
       "version_major": 2,
       "version_minor": 0
      },
      "text/plain": [
       "S1AA_20220407T015354_20220525T015356_VVP048_INT80_G_ueF_A9C3.zip:   0%|          | 0/360198792 [00:00<?, ?it/s…"
      ]
     },
     "metadata": {},
     "output_type": "display_data"
    },
    {
     "data": {
      "application/vnd.jupyter.widget-view+json": {
       "model_id": "c9dfa6cbf86f4748817c89589c3744af",
       "version_major": 2,
       "version_minor": 0
      },
      "text/plain": [
       "S1AA_20220314T015354_20220419T015355_VVP036_INT80_G_ueF_42FC.zip:   0%|          | 0/361008763 [00:00<?, ?it/s…"
      ]
     },
     "metadata": {},
     "output_type": "display_data"
    },
    {
     "data": {
      "application/vnd.jupyter.widget-view+json": {
       "model_id": "809eaeff389e44ae8808714569465063",
       "version_major": 2,
       "version_minor": 0
      },
      "text/plain": [
       "S1AA_20220501T015355_20220630T015359_VVP060_INT80_G_ueF_31FA.zip:   0%|          | 0/361208212 [00:00<?, ?it/s…"
      ]
     },
     "metadata": {},
     "output_type": "display_data"
    },
    {
     "data": {
      "application/vnd.jupyter.widget-view+json": {
       "model_id": "c403e249b92a4c7baed536baacf4b744",
       "version_major": 2,
       "version_minor": 0
      },
      "text/plain": [
       "S1AA_20220513T015356_20220606T015358_VVP024_INT80_G_ueF_8977.zip:   0%|          | 0/359044851 [00:00<?, ?it/s…"
      ]
     },
     "metadata": {},
     "output_type": "display_data"
    },
    {
     "data": {
      "application/vnd.jupyter.widget-view+json": {
       "model_id": "d3ab7f60b40049889f9d69d55eb3c6db",
       "version_major": 2,
       "version_minor": 0
      },
      "text/plain": [
       "S1AA_20220419T015355_20220618T015358_VVP060_INT80_G_ueF_452A.zip:   0%|          | 0/359547442 [00:00<?, ?it/s…"
      ]
     },
     "metadata": {},
     "output_type": "display_data"
    },
    {
     "data": {
      "application/vnd.jupyter.widget-view+json": {
       "model_id": "ffe893dd56a043f4a2bf03acc906b185",
       "version_major": 2,
       "version_minor": 0
      },
      "text/plain": [
       "S1AA_20220326T015354_20220513T015356_VVP048_INT80_G_ueF_5F62.zip:   0%|          | 0/359190011 [00:00<?, ?it/s…"
      ]
     },
     "metadata": {},
     "output_type": "display_data"
    },
    {
     "data": {
      "application/vnd.jupyter.widget-view+json": {
       "model_id": "a8319c1ee22746349763bda5d7bf4bbe",
       "version_major": 2,
       "version_minor": 0
      },
      "text/plain": [
       "S1AA_20220419T015355_20220525T015356_VVP036_INT80_G_ueF_9443.zip:   0%|          | 0/360382933 [00:00<?, ?it/s…"
      ]
     },
     "metadata": {},
     "output_type": "display_data"
    },
    {
     "data": {
      "application/vnd.jupyter.widget-view+json": {
       "model_id": "6947890eeb704dbfaf530e91a9b081d9",
       "version_major": 2,
       "version_minor": 0
      },
      "text/plain": [
       "S1AA_20220314T015354_20220407T015354_VVP024_INT80_G_ueF_C6D3.zip:   0%|          | 0/360302050 [00:00<?, ?it/s…"
      ]
     },
     "metadata": {},
     "output_type": "display_data"
    },
    {
     "data": {
      "application/vnd.jupyter.widget-view+json": {
       "model_id": "9d6ee95b0c5c44b2940368ade0bb1755",
       "version_major": 2,
       "version_minor": 0
      },
      "text/plain": [
       "S1AA_20220501T015355_20220525T015356_VVP024_INT80_G_ueF_3FA8.zip:   0%|          | 0/362165472 [00:00<?, ?it/s…"
      ]
     },
     "metadata": {},
     "output_type": "display_data"
    },
    {
     "data": {
      "application/vnd.jupyter.widget-view+json": {
       "model_id": "7752518c956542b69775017c81af7719",
       "version_major": 2,
       "version_minor": 0
      },
      "text/plain": [
       "S1BB_20211120T015310_20211214T015309_VVP024_INT80_G_ueF_6F8A.zip:   0%|          | 0/361397388 [00:00<?, ?it/s…"
      ]
     },
     "metadata": {},
     "output_type": "display_data"
    },
    {
     "data": {
      "application/vnd.jupyter.widget-view+json": {
       "model_id": "d39a40c836fd4c298fb48d75bd70ccb4",
       "version_major": 2,
       "version_minor": 0
      },
      "text/plain": [
       "S1AA_20220501T015355_20220618T015358_VVP048_INT80_G_ueF_BB9A.zip:   0%|          | 0/363425461 [00:00<?, ?it/s…"
      ]
     },
     "metadata": {},
     "output_type": "display_data"
    },
    {
     "data": {
      "application/vnd.jupyter.widget-view+json": {
       "model_id": "d9491db3dcc24d919f970f4d83ba575c",
       "version_major": 2,
       "version_minor": 0
      },
      "text/plain": [
       "S1AA_20220326T015354_20220501T015355_VVP036_INT80_G_ueF_41D8.zip:   0%|          | 0/360349533 [00:00<?, ?it/s…"
      ]
     },
     "metadata": {},
     "output_type": "display_data"
    },
    {
     "data": {
      "application/vnd.jupyter.widget-view+json": {
       "model_id": "5e4e820092824104bf446916ca37d4a8",
       "version_major": 2,
       "version_minor": 0
      },
      "text/plain": [
       "S1AA_20220314T015354_20220501T015355_VVP048_INT80_G_ueF_62BE.zip:   0%|          | 0/361998978 [00:00<?, ?it/s…"
      ]
     },
     "metadata": {},
     "output_type": "display_data"
    },
    {
     "data": {
      "application/vnd.jupyter.widget-view+json": {
       "model_id": "4882795a920b441ea8feccfc5ec53d69",
       "version_major": 2,
       "version_minor": 0
      },
      "text/plain": [
       "S1AA_20220314T015354_20220513T015356_VVP060_INT80_G_ueF_6A6F.zip:   0%|          | 0/360209335 [00:00<?, ?it/s…"
      ]
     },
     "metadata": {},
     "output_type": "display_data"
    },
    {
     "data": {
      "application/vnd.jupyter.widget-view+json": {
       "model_id": "f57c6be404df487c9f3dd7d533a7b911",
       "version_major": 2,
       "version_minor": 0
      },
      "text/plain": [
       "S1BA_20211120T015310_20211220T015356_VVP030_INT80_G_ueF_FD82.zip:   0%|          | 0/289875535 [00:00<?, ?it/s…"
      ]
     },
     "metadata": {},
     "output_type": "display_data"
    },
    {
     "data": {
      "application/vnd.jupyter.widget-view+json": {
       "model_id": "74e25d5c97b846f7881581f38d8bca8d",
       "version_major": 2,
       "version_minor": 0
      },
      "text/plain": [
       "S1AA_20220513T015356_20220618T015358_VVP036_INT80_G_ueF_5F1B.zip:   0%|          | 0/363773982 [00:00<?, ?it/s…"
      ]
     },
     "metadata": {},
     "output_type": "display_data"
    },
    {
     "data": {
      "application/vnd.jupyter.widget-view+json": {
       "model_id": "157cdfa4a8cd4a449d34267a85119cf3",
       "version_major": 2,
       "version_minor": 0
      },
      "text/plain": [
       "S1AA_20220326T015354_20220419T015355_VVP024_INT80_G_ueF_7DF4.zip:   0%|          | 0/359047124 [00:00<?, ?it/s…"
      ]
     },
     "metadata": {},
     "output_type": "display_data"
    },
    {
     "data": {
      "application/vnd.jupyter.widget-view+json": {
       "model_id": "d39fda71cd6c4c799a5f42c793005cec",
       "version_major": 2,
       "version_minor": 0
      },
      "text/plain": [
       "S1AA_20220419T015355_20220513T015356_VVP024_INT80_G_ueF_859F.zip:   0%|          | 0/357037759 [00:00<?, ?it/s…"
      ]
     },
     "metadata": {},
     "output_type": "display_data"
    },
    {
     "data": {
      "application/vnd.jupyter.widget-view+json": {
       "model_id": "90042cb5f9ac4999b259b7dc97489cf6",
       "version_major": 2,
       "version_minor": 0
      },
      "text/plain": [
       "S1BB_20210828T015309_20211003T015311_VVP036_INT80_G_ueF_2451.zip:   0%|          | 0/359206815 [00:00<?, ?it/s…"
      ]
     },
     "metadata": {},
     "output_type": "display_data"
    },
    {
     "data": {
      "application/vnd.jupyter.widget-view+json": {
       "model_id": "9fcb25eab2294f6f96d0e79680ba9847",
       "version_major": 2,
       "version_minor": 0
      },
      "text/plain": [
       "S1BA_20211108T015310_20211208T015356_VVP030_INT80_G_ueF_A046.zip:   0%|          | 0/291171401 [00:00<?, ?it/s…"
      ]
     },
     "metadata": {},
     "output_type": "display_data"
    },
    {
     "data": {
      "application/vnd.jupyter.widget-view+json": {
       "model_id": "8ff87c37f57b45feb66b6c24e6033486",
       "version_major": 2,
       "version_minor": 0
      },
      "text/plain": [
       "S1BA_20211015T015310_20211208T015356_VVP054_INT80_G_ueF_E38B.zip:   0%|          | 0/290238115 [00:00<?, ?it/s…"
      ]
     },
     "metadata": {},
     "output_type": "display_data"
    },
    {
     "data": {
      "application/vnd.jupyter.widget-view+json": {
       "model_id": "36a01536eb88467fa083d0f20c83c2df",
       "version_major": 2,
       "version_minor": 0
      },
      "text/plain": [
       "S1BB_20211015T015310_20211214T015309_VVP060_INT80_G_ueF_57A9.zip:   0%|          | 0/361884890 [00:00<?, ?it/s…"
      ]
     },
     "metadata": {},
     "output_type": "display_data"
    },
    {
     "data": {
      "application/vnd.jupyter.widget-view+json": {
       "model_id": "61a22747fd6a4a5c9a2b0df1d6eedc4f",
       "version_major": 2,
       "version_minor": 0
      },
      "text/plain": [
       "S1BA_20211108T015310_20211220T015356_VVP042_INT80_G_ueF_0E1F.zip:   0%|          | 0/288325215 [00:00<?, ?it/s…"
      ]
     },
     "metadata": {},
     "output_type": "display_data"
    },
    {
     "data": {
      "application/vnd.jupyter.widget-view+json": {
       "model_id": "f1663c628af548dc93fe1d7147d854b0",
       "version_major": 2,
       "version_minor": 0
      },
      "text/plain": [
       "S1BB_20211003T015311_20211027T015310_VVP024_INT80_G_ueF_5FC8.zip:   0%|          | 0/363420570 [00:00<?, ?it/s…"
      ]
     },
     "metadata": {},
     "output_type": "display_data"
    },
    {
     "data": {
      "application/vnd.jupyter.widget-view+json": {
       "model_id": "6c55ebe5991b4ac3b35dc5bcd4e7dc7e",
       "version_major": 2,
       "version_minor": 0
      },
      "text/plain": [
       "S1BA_20211015T015310_20211126T015357_VVP042_INT80_G_ueF_8A6C.zip:   0%|          | 0/291416243 [00:00<?, ?it/s…"
      ]
     },
     "metadata": {},
     "output_type": "display_data"
    },
    {
     "data": {
      "application/vnd.jupyter.widget-view+json": {
       "model_id": "cb7094c5bd4e47098870d44d27897a67",
       "version_major": 2,
       "version_minor": 0
      },
      "text/plain": [
       "S1BB_20210828T015309_20211027T015310_VVP060_INT80_G_ueF_50C4.zip:   0%|          | 0/364387246 [00:00<?, ?it/s…"
      ]
     },
     "metadata": {},
     "output_type": "display_data"
    },
    {
     "data": {
      "application/vnd.jupyter.widget-view+json": {
       "model_id": "25139c466ec5459eb4a28a197cf54d44",
       "version_major": 2,
       "version_minor": 0
      },
      "text/plain": [
       "S1BB_20210921T015310_20211108T015310_VVP048_INT80_G_ueF_79E7.zip:   0%|          | 0/361444521 [00:00<?, ?it/s…"
      ]
     },
     "metadata": {},
     "output_type": "display_data"
    },
    {
     "data": {
      "application/vnd.jupyter.widget-view+json": {
       "model_id": "50387cd1fb85437f9750660efb46f832",
       "version_major": 2,
       "version_minor": 0
      },
      "text/plain": [
       "S1BB_20210828T015309_20211015T015310_VVP048_INT80_G_ueF_0E3F.zip:   0%|          | 0/360747395 [00:00<?, ?it/s…"
      ]
     },
     "metadata": {},
     "output_type": "display_data"
    },
    {
     "data": {
      "application/vnd.jupyter.widget-view+json": {
       "model_id": "52fea3e2b9bc4b30a45e0cbdc7dbb972",
       "version_major": 2,
       "version_minor": 0
      },
      "text/plain": [
       "S1BB_20210921T015310_20211120T015310_VVP060_INT80_G_ueF_E7EA.zip:   0%|          | 0/362204238 [00:00<?, ?it/s…"
      ]
     },
     "metadata": {},
     "output_type": "display_data"
    },
    {
     "data": {
      "application/vnd.jupyter.widget-view+json": {
       "model_id": "15a3bc69086d4b87b3658e2f1dbe54d6",
       "version_major": 2,
       "version_minor": 0
      },
      "text/plain": [
       "S1BB_20210804T015308_20210921T015310_VVP048_INT80_G_ueF_F28A.zip:   0%|          | 0/362071178 [00:00<?, ?it/s…"
      ]
     },
     "metadata": {},
     "output_type": "display_data"
    },
    {
     "data": {
      "application/vnd.jupyter.widget-view+json": {
       "model_id": "245c2e9b63224efd943f46783b44f96b",
       "version_major": 2,
       "version_minor": 0
      },
      "text/plain": [
       "S1BB_20211015T015310_20211108T015310_VVP024_INT80_G_ueF_58BC.zip:   0%|          | 0/363305268 [00:00<?, ?it/s…"
      ]
     },
     "metadata": {},
     "output_type": "display_data"
    },
    {
     "data": {
      "application/vnd.jupyter.widget-view+json": {
       "model_id": "d4686c054a454553835d5c8605b889a3",
       "version_major": 2,
       "version_minor": 0
      },
      "text/plain": [
       "S1BB_20210921T015310_20211015T015310_VVP024_INT80_G_ueF_1CE9.zip:   0%|          | 0/360148057 [00:00<?, ?it/s…"
      ]
     },
     "metadata": {},
     "output_type": "display_data"
    },
    {
     "data": {
      "application/vnd.jupyter.widget-view+json": {
       "model_id": "2b80724a23284b62a4c0f7417e7214d7",
       "version_major": 2,
       "version_minor": 0
      },
      "text/plain": [
       "S1BB_20210909T015309_20211108T015310_VVP060_INT80_G_ueF_9738.zip:   0%|          | 0/361088351 [00:00<?, ?it/s…"
      ]
     },
     "metadata": {},
     "output_type": "display_data"
    },
    {
     "data": {
      "application/vnd.jupyter.widget-view+json": {
       "model_id": "3291840060724bdebb48adf54ce98ed4",
       "version_major": 2,
       "version_minor": 0
      },
      "text/plain": [
       "S1BA_20211027T015310_20211208T015356_VVP042_INT80_G_ueF_84CE.zip:   0%|          | 0/291432602 [00:00<?, ?it/s…"
      ]
     },
     "metadata": {},
     "output_type": "display_data"
    },
    {
     "data": {
      "application/vnd.jupyter.widget-view+json": {
       "model_id": "1fc25603bf2d4be8b7bf3dc4ca6b0708",
       "version_major": 2,
       "version_minor": 0
      },
      "text/plain": [
       "S1BB_20211027T015310_20211214T015309_VVP048_INT80_G_ueF_B76F.zip:   0%|          | 0/361034012 [00:00<?, ?it/s…"
      ]
     },
     "metadata": {},
     "output_type": "display_data"
    },
    {
     "data": {
      "application/vnd.jupyter.widget-view+json": {
       "model_id": "7d9ce0687de44740b89b36bd0b7e475d",
       "version_major": 2,
       "version_minor": 0
      },
      "text/plain": [
       "S1BA_20211027T015310_20211126T015357_VVP030_INT80_G_ueF_AC0C.zip:   0%|          | 0/290214086 [00:00<?, ?it/s…"
      ]
     },
     "metadata": {},
     "output_type": "display_data"
    },
    {
     "data": {
      "application/vnd.jupyter.widget-view+json": {
       "model_id": "8d779647c3334526870317745d3c0934",
       "version_major": 2,
       "version_minor": 0
      },
      "text/plain": [
       "S1BB_20211108T015310_20211202T015309_VVP024_INT80_G_ueF_73C8.zip:   0%|          | 0/358292859 [00:00<?, ?it/s…"
      ]
     },
     "metadata": {},
     "output_type": "display_data"
    },
    {
     "data": {
      "application/vnd.jupyter.widget-view+json": {
       "model_id": "46999643c5f14d4798bc6d4d1ea3caf1",
       "version_major": 2,
       "version_minor": 0
      },
      "text/plain": [
       "S1BB_20211108T015310_20211214T015309_VVP036_INT80_G_ueF_B9A5.zip:   0%|          | 0/357736536 [00:00<?, ?it/s…"
      ]
     },
     "metadata": {},
     "output_type": "display_data"
    },
    {
     "data": {
      "application/vnd.jupyter.widget-view+json": {
       "model_id": "d8c69a90ca6f48b981a061e97fb08d31",
       "version_major": 2,
       "version_minor": 0
      },
      "text/plain": [
       "S1BB_20210804T015308_20210909T015309_VVP036_INT80_G_ueF_6575.zip:   0%|          | 0/361515387 [00:00<?, ?it/s…"
      ]
     },
     "metadata": {},
     "output_type": "display_data"
    },
    {
     "data": {
      "application/vnd.jupyter.widget-view+json": {
       "model_id": "60c7008aba1f4fb6bb397980342c9a74",
       "version_major": 2,
       "version_minor": 0
      },
      "text/plain": [
       "S1BB_20210617T015305_20210723T015307_VVP036_INT80_G_ueF_7DF2.zip:   0%|          | 0/362078668 [00:00<?, ?it/s…"
      ]
     },
     "metadata": {},
     "output_type": "display_data"
    },
    {
     "data": {
      "application/vnd.jupyter.widget-view+json": {
       "model_id": "71ef7c023a244784b74d4c940e5c68b9",
       "version_major": 2,
       "version_minor": 0
      },
      "text/plain": [
       "S1AB_20210729T015332_20210921T015310_VVP054_INT80_G_ueF_D7C4.zip:   0%|          | 0/155532794 [00:00<?, ?it/s…"
      ]
     },
     "metadata": {},
     "output_type": "display_data"
    },
    {
     "data": {
      "application/vnd.jupyter.widget-view+json": {
       "model_id": "0879e7057720407087bdc844f23f6165",
       "version_major": 2,
       "version_minor": 0
      },
      "text/plain": [
       "S1AB_20210729T015357_20210921T015310_VVP054_INT80_G_ueF_D716.zip:   0%|          | 0/256128710 [00:00<?, ?it/s…"
      ]
     },
     "metadata": {},
     "output_type": "display_data"
    },
    {
     "data": {
      "application/vnd.jupyter.widget-view+json": {
       "model_id": "a4428ac124e04b40bff4f04895331788",
       "version_major": 2,
       "version_minor": 0
      },
      "text/plain": [
       "S1BA_20210629T015305_20210729T015332_VVP030_INT80_G_ueF_4073.zip:   0%|          | 0/154996633 [00:00<?, ?it/s…"
      ]
     },
     "metadata": {},
     "output_type": "display_data"
    },
    {
     "data": {
      "application/vnd.jupyter.widget-view+json": {
       "model_id": "4f47f2bb4ead460298c0eaf47a671db4",
       "version_major": 2,
       "version_minor": 0
      },
      "text/plain": [
       "S1BB_20210723T015307_20210921T015310_VVP060_INT80_G_ueF_2F31.zip:   0%|          | 0/362291756 [00:00<?, ?it/s…"
      ]
     },
     "metadata": {},
     "output_type": "display_data"
    },
    {
     "data": {
      "application/vnd.jupyter.widget-view+json": {
       "model_id": "e201f78b844b4313a7ebfc39127cc5b6",
       "version_major": 2,
       "version_minor": 0
      },
      "text/plain": [
       "S1AB_20210729T015357_20210909T015309_VVP042_INT80_G_ueF_6432.zip:   0%|          | 0/257519518 [00:00<?, ?it/s…"
      ]
     },
     "metadata": {},
     "output_type": "display_data"
    },
    {
     "data": {
      "application/vnd.jupyter.widget-view+json": {
       "model_id": "b51573865ddf4670a94c8d289e1b3841",
       "version_major": 2,
       "version_minor": 0
      },
      "text/plain": [
       "S1BB_20210524T015303_20210629T015305_VVP036_INT80_G_ueF_6E7D.zip:   0%|          | 0/361100454 [00:00<?, ?it/s…"
      ]
     },
     "metadata": {},
     "output_type": "display_data"
    },
    {
     "data": {
      "application/vnd.jupyter.widget-view+json": {
       "model_id": "beadb92e6322479c84e3bcf13b712889",
       "version_major": 2,
       "version_minor": 0
      },
      "text/plain": [
       "S1BB_20210524T015303_20210723T015307_VVP060_INT80_G_ueF_20DD.zip:   0%|          | 0/361505092 [00:00<?, ?it/s…"
      ]
     },
     "metadata": {},
     "output_type": "display_data"
    },
    {
     "data": {
      "application/vnd.jupyter.widget-view+json": {
       "model_id": "d3f72780b6144c9796ff03bec0c6209d",
       "version_major": 2,
       "version_minor": 0
      },
      "text/plain": [
       "S1BB_20210723T015307_20210909T015309_VVP048_INT80_G_ueF_58E3.zip:   0%|          | 0/360866285 [00:00<?, ?it/s…"
      ]
     },
     "metadata": {},
     "output_type": "display_data"
    },
    {
     "data": {
      "application/vnd.jupyter.widget-view+json": {
       "model_id": "c7ef0929b8bf489e9fe7cdd37692d11e",
       "version_major": 2,
       "version_minor": 0
      },
      "text/plain": [
       "S1BB_20210629T015305_20210828T015309_VVP060_INT80_G_ueF_0178.zip:   0%|          | 0/363018342 [00:00<?, ?it/s…"
      ]
     },
     "metadata": {},
     "output_type": "display_data"
    },
    {
     "data": {
      "application/vnd.jupyter.widget-view+json": {
       "model_id": "df56f7cb7a264dfb924217910616d201",
       "version_major": 2,
       "version_minor": 0
      },
      "text/plain": [
       "S1BB_20210524T015303_20210617T015305_VVP024_INT80_G_ueF_6D8C.zip:   0%|          | 0/360161176 [00:00<?, ?it/s…"
      ]
     },
     "metadata": {},
     "output_type": "display_data"
    },
    {
     "data": {
      "application/vnd.jupyter.widget-view+json": {
       "model_id": "431e3cacb2d04e35ba59026f1b5b083d",
       "version_major": 2,
       "version_minor": 0
      },
      "text/plain": [
       "S1AB_20210729T015332_20210909T015309_VVP042_INT80_G_ueF_618E.zip:   0%|          | 0/154947320 [00:00<?, ?it/s…"
      ]
     },
     "metadata": {},
     "output_type": "display_data"
    },
    {
     "data": {
      "application/vnd.jupyter.widget-view+json": {
       "model_id": "637d20b8c76e444ba0bad5bd358dd4e7",
       "version_major": 2,
       "version_minor": 0
      },
      "text/plain": [
       "S1BB_20210617T015305_20210804T015308_VVP048_INT80_G_ueF_3C90.zip:   0%|          | 0/365339364 [00:00<?, ?it/s…"
      ]
     },
     "metadata": {},
     "output_type": "display_data"
    },
    {
     "data": {
      "application/vnd.jupyter.widget-view+json": {
       "model_id": "f9edc0b2090f4e62a0b73d642f8a92da",
       "version_major": 2,
       "version_minor": 0
      },
      "text/plain": [
       "S1BB_20210629T015305_20210804T015308_VVP036_INT80_G_ueF_C388.zip:   0%|          | 0/363635934 [00:00<?, ?it/s…"
      ]
     },
     "metadata": {},
     "output_type": "display_data"
    },
    {
     "data": {
      "application/vnd.jupyter.widget-view+json": {
       "model_id": "af322f46216e49eb97424f6f2af991a2",
       "version_major": 2,
       "version_minor": 0
      },
      "text/plain": [
       "S1BB_20210804T015308_20210828T015309_VVP024_INT80_G_ueF_E27A.zip:   0%|          | 0/360776529 [00:00<?, ?it/s…"
      ]
     },
     "metadata": {},
     "output_type": "display_data"
    },
    {
     "data": {
      "application/vnd.jupyter.widget-view+json": {
       "model_id": "b491e6519f1849bb964ccf07e07cc296",
       "version_major": 2,
       "version_minor": 0
      },
      "text/plain": [
       "S1BA_20210629T015305_20210729T015357_VVP030_INT80_G_ueF_07DC.zip:   0%|          | 0/256962831 [00:00<?, ?it/s…"
      ]
     },
     "metadata": {},
     "output_type": "display_data"
    },
    {
     "data": {
      "application/vnd.jupyter.widget-view+json": {
       "model_id": "6db5510dc9f44c759c2d9a3fc87a78f2",
       "version_major": 2,
       "version_minor": 0
      },
      "text/plain": [
       "S1BB_20210629T015305_20210723T015307_VVP024_INT80_G_ueF_9485.zip:   0%|          | 0/362791890 [00:00<?, ?it/s…"
      ]
     },
     "metadata": {},
     "output_type": "display_data"
    },
    {
     "data": {
      "application/vnd.jupyter.widget-view+json": {
       "model_id": "b29e555b941847cdaa46d6e9c4c0e9a9",
       "version_major": 2,
       "version_minor": 0
      },
      "text/plain": [
       "S1BB_20210711T015306_20210909T015309_VVP060_INT80_G_ueF_2515.zip:   0%|          | 0/362022099 [00:00<?, ?it/s…"
      ]
     },
     "metadata": {},
     "output_type": "display_data"
    },
    {
     "data": {
      "application/vnd.jupyter.widget-view+json": {
       "model_id": "8bc833fa40fb482d8dea117dbad8765f",
       "version_major": 2,
       "version_minor": 0
      },
      "text/plain": [
       "S1BB_20210711T015306_20210804T015308_VVP024_INT80_G_ueF_3703.zip:   0%|          | 0/361084837 [00:00<?, ?it/s…"
      ]
     },
     "metadata": {},
     "output_type": "display_data"
    },
    {
     "data": {
      "application/vnd.jupyter.widget-view+json": {
       "model_id": "ab39907656de4e7c891af5785a667d59",
       "version_major": 2,
       "version_minor": 0
      },
      "text/plain": [
       "S1BB_20210406T015301_20210512T015303_VVP036_INT80_G_ueF_151F.zip:   0%|          | 0/361869465 [00:00<?, ?it/s…"
      ]
     },
     "metadata": {},
     "output_type": "display_data"
    },
    {
     "data": {
      "application/vnd.jupyter.widget-view+json": {
       "model_id": "6450372a7249481f81f9d6c90565b09e",
       "version_major": 2,
       "version_minor": 0
      },
      "text/plain": [
       "S1BB_20210325T015301_20210512T015303_VVP048_INT80_G_ueF_4254.zip:   0%|          | 0/361254374 [00:00<?, ?it/s…"
      ]
     },
     "metadata": {},
     "output_type": "display_data"
    },
    {
     "data": {
      "application/vnd.jupyter.widget-view+json": {
       "model_id": "f35d228fe3fc40aaa53ebf3618675484",
       "version_major": 2,
       "version_minor": 0
      },
      "text/plain": [
       "S1BB_20210325T015301_20210418T015302_VVP024_INT80_G_ueF_709A.zip:   0%|          | 0/360923507 [00:00<?, ?it/s…"
      ]
     },
     "metadata": {},
     "output_type": "display_data"
    },
    {
     "data": {
      "application/vnd.jupyter.widget-view+json": {
       "model_id": "6513a4f83c7542fb8a2a1077e4cca2db",
       "version_major": 2,
       "version_minor": 0
      },
      "text/plain": [
       "S1BB_20210418T015302_20210617T015305_VVP060_INT80_G_ueF_7780.zip:   0%|          | 0/363342399 [00:00<?, ?it/s…"
      ]
     },
     "metadata": {},
     "output_type": "display_data"
    },
    {
     "data": {
      "application/vnd.jupyter.widget-view+json": {
       "model_id": "d28687c63e4242878cd52005baaef59a",
       "version_major": 2,
       "version_minor": 0
      },
      "text/plain": [
       "S1BB_20210430T015302_20210629T015305_VVP060_INT80_G_ueF_930A.zip:   0%|          | 0/364020552 [00:00<?, ?it/s…"
      ]
     },
     "metadata": {},
     "output_type": "display_data"
    },
    {
     "data": {
      "application/vnd.jupyter.widget-view+json": {
       "model_id": "5efb1e65ccb24956a50297bbaaa0ea98",
       "version_major": 2,
       "version_minor": 0
      },
      "text/plain": [
       "S1BB_20210512T015303_20210605T015304_VVP024_INT80_G_ueF_EE54.zip:   0%|          | 0/365309504 [00:00<?, ?it/s…"
      ]
     },
     "metadata": {},
     "output_type": "display_data"
    },
    {
     "data": {
      "application/vnd.jupyter.widget-view+json": {
       "model_id": "00a3575fa1fa4a3289f6c71b6e3bd811",
       "version_major": 2,
       "version_minor": 0
      },
      "text/plain": [
       "S1BB_20210325T015301_20210430T015302_VVP036_INT80_G_ueF_ADE9.zip:   0%|          | 0/360652093 [00:00<?, ?it/s…"
      ]
     },
     "metadata": {},
     "output_type": "display_data"
    },
    {
     "data": {
      "application/vnd.jupyter.widget-view+json": {
       "model_id": "3cfc65d746034b22a6e5b4e548db48d9",
       "version_major": 2,
       "version_minor": 0
      },
      "text/plain": [
       "S1BB_20210406T015301_20210430T015302_VVP024_INT80_G_ueF_0620.zip:   0%|          | 0/362666978 [00:00<?, ?it/s…"
      ]
     },
     "metadata": {},
     "output_type": "display_data"
    },
    {
     "data": {
      "application/vnd.jupyter.widget-view+json": {
       "model_id": "48b75108afaf4c15bb1e10d5baa8b789",
       "version_major": 2,
       "version_minor": 0
      },
      "text/plain": [
       "S1BB_20210313T015301_20210512T015303_VVP060_INT80_G_ueF_24FB.zip:   0%|          | 0/362460655 [00:00<?, ?it/s…"
      ]
     },
     "metadata": {},
     "output_type": "display_data"
    },
    {
     "data": {
      "application/vnd.jupyter.widget-view+json": {
       "model_id": "9b8e5fa825184228992463d00f0326f3",
       "version_major": 2,
       "version_minor": 0
      },
      "text/plain": [
       "S1BB_20210512T015303_20210629T015305_VVP048_INT80_G_ueF_EDFB.zip:   0%|          | 0/363378546 [00:00<?, ?it/s…"
      ]
     },
     "metadata": {},
     "output_type": "display_data"
    },
    {
     "data": {
      "application/vnd.jupyter.widget-view+json": {
       "model_id": "5d43d82842864c7d927beac532dd1325",
       "version_major": 2,
       "version_minor": 0
      },
      "text/plain": [
       "S1BB_20210313T015301_20210430T015302_VVP048_INT80_G_ueF_8E3F.zip:   0%|          | 0/362286923 [00:00<?, ?it/s…"
      ]
     },
     "metadata": {},
     "output_type": "display_data"
    },
    {
     "data": {
      "application/vnd.jupyter.widget-view+json": {
       "model_id": "3aaec972c4eb4f5db919efb08b71f662",
       "version_major": 2,
       "version_minor": 0
      },
      "text/plain": [
       "S1BB_20210406T015301_20210524T015303_VVP048_INT80_G_ueF_E334.zip:   0%|          | 0/361162951 [00:00<?, ?it/s…"
      ]
     },
     "metadata": {},
     "output_type": "display_data"
    },
    {
     "data": {
      "application/vnd.jupyter.widget-view+json": {
       "model_id": "0c51ebc1e63d47cd9629720d8ae9aa90",
       "version_major": 2,
       "version_minor": 0
      },
      "text/plain": [
       "S1BB_20210418T015302_20210605T015304_VVP048_INT80_G_ueF_4AB1.zip:   0%|          | 0/360961017 [00:00<?, ?it/s…"
      ]
     },
     "metadata": {},
     "output_type": "display_data"
    },
    {
     "data": {
      "application/vnd.jupyter.widget-view+json": {
       "model_id": "34764a605df3425bad86944ac290553f",
       "version_major": 2,
       "version_minor": 0
      },
      "text/plain": [
       "S1BB_20210418T015302_20210524T015303_VVP036_INT80_G_ueF_DD87.zip:   0%|          | 0/361993931 [00:00<?, ?it/s…"
      ]
     },
     "metadata": {},
     "output_type": "display_data"
    },
    {
     "data": {
      "application/vnd.jupyter.widget-view+json": {
       "model_id": "1aec3cd2aacc4e80baecffd10312e615",
       "version_major": 2,
       "version_minor": 0
      },
      "text/plain": [
       "S1BB_20210406T015301_20210605T015304_VVP060_INT80_G_ueF_8912.zip:   0%|          | 0/362455016 [00:00<?, ?it/s…"
      ]
     },
     "metadata": {},
     "output_type": "display_data"
    },
    {
     "data": {
      "application/vnd.jupyter.widget-view+json": {
       "model_id": "697f4d97ae7f43b7ad9a17a10fc9dc7d",
       "version_major": 2,
       "version_minor": 0
      },
      "text/plain": [
       "S1BB_20210313T015301_20210418T015302_VVP036_INT80_G_ueF_FBBA.zip:   0%|          | 0/362074693 [00:00<?, ?it/s…"
      ]
     },
     "metadata": {},
     "output_type": "display_data"
    },
    {
     "data": {
      "application/vnd.jupyter.widget-view+json": {
       "model_id": "ae2bb96abb854167804daa1f44e81f05",
       "version_major": 2,
       "version_minor": 0
      },
      "text/plain": [
       "S1BB_20210512T015303_20210617T015305_VVP036_INT80_G_ueF_97B9.zip:   0%|          | 0/364524383 [00:00<?, ?it/s…"
      ]
     },
     "metadata": {},
     "output_type": "display_data"
    },
    {
     "data": {
      "application/vnd.jupyter.widget-view+json": {
       "model_id": "fb854c5d911148c1b19f36b0c2839c63",
       "version_major": 2,
       "version_minor": 0
      },
      "text/plain": [
       "S1BB_20210418T015302_20210512T015303_VVP024_INT80_G_ueF_D8FD.zip:   0%|          | 0/357891028 [00:00<?, ?it/s…"
      ]
     },
     "metadata": {},
     "output_type": "display_data"
    },
    {
     "data": {
      "application/vnd.jupyter.widget-view+json": {
       "model_id": "b62b3b40baa9451fb7f944ac8c86c654",
       "version_major": 2,
       "version_minor": 0
      },
      "text/plain": [
       "S1BB_20210430T015302_20210524T015303_VVP024_INT80_G_ueF_E82B.zip:   0%|          | 0/361533800 [00:00<?, ?it/s…"
      ]
     },
     "metadata": {},
     "output_type": "display_data"
    },
    {
     "data": {
      "application/vnd.jupyter.widget-view+json": {
       "model_id": "6592f4b7950a4830a8cec8620ae29669",
       "version_major": 2,
       "version_minor": 0
      },
      "text/plain": [
       "S1BB_20210325T015301_20210524T015303_VVP060_INT80_G_ueF_543D.zip:   0%|          | 0/361040970 [00:00<?, ?it/s…"
      ]
     },
     "metadata": {},
     "output_type": "display_data"
    },
    {
     "data": {
      "application/vnd.jupyter.widget-view+json": {
       "model_id": "eb783362246c49b39efd400c0ec53f5f",
       "version_major": 2,
       "version_minor": 0
      },
      "text/plain": [
       "S1BB_20210112T015302_20210205T015301_VVP024_INT80_G_ueF_542D.zip:   0%|          | 0/359776302 [00:00<?, ?it/s…"
      ]
     },
     "metadata": {},
     "output_type": "display_data"
    },
    {
     "data": {
      "application/vnd.jupyter.widget-view+json": {
       "model_id": "d0bfa8df51fc4c7a8e50e78dbd44e0b8",
       "version_major": 2,
       "version_minor": 0
      },
      "text/plain": [
       "S1BB_20210301T015300_20210430T015302_VVP060_INT80_G_ueF_660A.zip:   0%|          | 0/363775986 [00:00<?, ?it/s…"
      ]
     },
     "metadata": {},
     "output_type": "display_data"
    },
    {
     "data": {
      "application/vnd.jupyter.widget-view+json": {
       "model_id": "1f95227d47ae4f4f8c44d0e536503934",
       "version_major": 2,
       "version_minor": 0
      },
      "text/plain": [
       "S1BB_20210217T015301_20210406T015301_VVP048_INT80_G_ueF_5034.zip:   0%|          | 0/363956338 [00:00<?, ?it/s…"
      ]
     },
     "metadata": {},
     "output_type": "display_data"
    },
    {
     "data": {
      "application/vnd.jupyter.widget-view+json": {
       "model_id": "0de86dc1a54e4dfa886c015b866d541a",
       "version_major": 2,
       "version_minor": 0
      },
      "text/plain": [
       "S1BB_20210205T015301_20210325T015301_VVP048_INT80_G_ueF_76F2.zip:   0%|          | 0/360800893 [00:00<?, ?it/s…"
      ]
     },
     "metadata": {},
     "output_type": "display_data"
    },
    {
     "data": {
      "application/vnd.jupyter.widget-view+json": {
       "model_id": "5da22238bb9c46dd94364115f000956f",
       "version_major": 2,
       "version_minor": 0
      },
      "text/plain": [
       "S1BB_20210205T015301_20210313T015301_VVP036_INT80_G_ueF_F446.zip:   0%|          | 0/358618876 [00:00<?, ?it/s…"
      ]
     },
     "metadata": {},
     "output_type": "display_data"
    },
    {
     "data": {
      "application/vnd.jupyter.widget-view+json": {
       "model_id": "5878a0bae445423c851be95dede5dc00",
       "version_major": 2,
       "version_minor": 0
      },
      "text/plain": [
       "S1BB_20210205T015301_20210301T015300_VVP024_INT80_G_ueF_8AB6.zip:   0%|          | 0/359302930 [00:00<?, ?it/s…"
      ]
     },
     "metadata": {},
     "output_type": "display_data"
    },
    {
     "data": {
      "application/vnd.jupyter.widget-view+json": {
       "model_id": "36bfe1e71f694be8a070788e8aaa4545",
       "version_major": 2,
       "version_minor": 0
      },
      "text/plain": [
       "S1BB_20210112T015302_20210301T015300_VVP048_INT80_G_ueF_A52D.zip:   0%|          | 0/363336992 [00:00<?, ?it/s…"
      ]
     },
     "metadata": {},
     "output_type": "display_data"
    },
    {
     "data": {
      "application/vnd.jupyter.widget-view+json": {
       "model_id": "f2647d7e8f734594a6db858f7b741e7e",
       "version_major": 2,
       "version_minor": 0
      },
      "text/plain": [
       "S1BB_20210301T015300_20210406T015301_VVP036_INT80_G_ueF_3AFA.zip:   0%|          | 0/361229924 [00:00<?, ?it/s…"
      ]
     },
     "metadata": {},
     "output_type": "display_data"
    },
    {
     "data": {
      "application/vnd.jupyter.widget-view+json": {
       "model_id": "146ced28458c4dc5aa59c08871b252fe",
       "version_major": 2,
       "version_minor": 0
      },
      "text/plain": [
       "S1BB_20210217T015301_20210325T015301_VVP036_INT80_G_ueF_4D0A.zip:   0%|          | 0/364135957 [00:00<?, ?it/s…"
      ]
     },
     "metadata": {},
     "output_type": "display_data"
    },
    {
     "data": {
      "application/vnd.jupyter.widget-view+json": {
       "model_id": "96036657b8664e4a916c20dabb48146c",
       "version_major": 2,
       "version_minor": 0
      },
      "text/plain": [
       "S1BB_20210217T015301_20210418T015302_VVP060_INT80_G_ueF_4FEC.zip:   0%|          | 0/361550550 [00:00<?, ?it/s…"
      ]
     },
     "metadata": {},
     "output_type": "display_data"
    },
    {
     "data": {
      "application/vnd.jupyter.widget-view+json": {
       "model_id": "3d2c536c38f14e949d9e78d1cbe94f0b",
       "version_major": 2,
       "version_minor": 0
      },
      "text/plain": [
       "S1BB_20210205T015301_20210406T015301_VVP060_INT80_G_ueF_76D9.zip:   0%|          | 0/360162267 [00:00<?, ?it/s…"
      ]
     },
     "metadata": {},
     "output_type": "display_data"
    },
    {
     "data": {
      "application/vnd.jupyter.widget-view+json": {
       "model_id": "d6d6964f7dff432f99dcdf757d278537",
       "version_major": 2,
       "version_minor": 0
      },
      "text/plain": [
       "S1BB_20210313T015301_20210406T015301_VVP024_INT80_G_ueF_C804.zip:   0%|          | 0/360881004 [00:00<?, ?it/s…"
      ]
     },
     "metadata": {},
     "output_type": "display_data"
    },
    {
     "data": {
      "application/vnd.jupyter.widget-view+json": {
       "model_id": "468cd0a4b7fd4b1d85288cbde3a47eb1",
       "version_major": 2,
       "version_minor": 0
      },
      "text/plain": [
       "S1BB_20210301T015300_20210325T015301_VVP024_INT80_G_ueF_ABC8.zip:   0%|          | 0/359202954 [00:00<?, ?it/s…"
      ]
     },
     "metadata": {},
     "output_type": "display_data"
    },
    {
     "data": {
      "application/vnd.jupyter.widget-view+json": {
       "model_id": "4350eeae92a841fdb3e88a2cd6e394b3",
       "version_major": 2,
       "version_minor": 0
      },
      "text/plain": [
       "S1BB_20210124T015301_20210325T015301_VVP060_INT80_G_ueF_6800.zip:   0%|          | 0/362187316 [00:00<?, ?it/s…"
      ]
     },
     "metadata": {},
     "output_type": "display_data"
    },
    {
     "data": {
      "application/vnd.jupyter.widget-view+json": {
       "model_id": "998aaeff959a4c85bf7e679bf27aeca1",
       "version_major": 2,
       "version_minor": 0
      },
      "text/plain": [
       "S1BB_20210124T015301_20210217T015301_VVP024_INT80_G_ueF_99E6.zip:   0%|          | 0/359310667 [00:00<?, ?it/s…"
      ]
     },
     "metadata": {},
     "output_type": "display_data"
    },
    {
     "data": {
      "application/vnd.jupyter.widget-view+json": {
       "model_id": "f97f63cbdc7949d08991a08c0ab3e212",
       "version_major": 2,
       "version_minor": 0
      },
      "text/plain": [
       "S1BB_20210124T015301_20210301T015300_VVP036_INT80_G_ueF_AB3F.zip:   0%|          | 0/358645426 [00:00<?, ?it/s…"
      ]
     },
     "metadata": {},
     "output_type": "display_data"
    },
    {
     "data": {
      "application/vnd.jupyter.widget-view+json": {
       "model_id": "bbba311e460a4adeae2092f99d460507",
       "version_major": 2,
       "version_minor": 0
      },
      "text/plain": [
       "S1BB_20210124T015301_20210313T015301_VVP048_INT80_G_ueF_D71E.zip:   0%|          | 0/360139614 [00:00<?, ?it/s…"
      ]
     },
     "metadata": {},
     "output_type": "display_data"
    },
    {
     "data": {
      "application/vnd.jupyter.widget-view+json": {
       "model_id": "d858f2c9034e4c2baa9adeddd4876a23",
       "version_major": 2,
       "version_minor": 0
      },
      "text/plain": [
       "S1BB_20210112T015302_20210313T015301_VVP060_INT80_G_ueF_CE3B.zip:   0%|          | 0/360380041 [00:00<?, ?it/s…"
      ]
     },
     "metadata": {},
     "output_type": "display_data"
    },
    {
     "data": {
      "application/vnd.jupyter.widget-view+json": {
       "model_id": "862bb0acd3f345d79e06dec72771c902",
       "version_major": 2,
       "version_minor": 0
      },
      "text/plain": [
       "S1BB_20210217T015301_20210313T015301_VVP024_INT80_G_ueF_5761.zip:   0%|          | 0/360525397 [00:00<?, ?it/s…"
      ]
     },
     "metadata": {},
     "output_type": "display_data"
    },
    {
     "data": {
      "application/vnd.jupyter.widget-view+json": {
       "model_id": "63d0385efc0f4b57952fe98c835ddc43",
       "version_major": 2,
       "version_minor": 0
      },
      "text/plain": [
       "S1BB_20210301T015300_20210418T015302_VVP048_INT80_G_ueF_FE52.zip:   0%|          | 0/362372484 [00:00<?, ?it/s…"
      ]
     },
     "metadata": {},
     "output_type": "display_data"
    },
    {
     "data": {
      "application/vnd.jupyter.widget-view+json": {
       "model_id": "1a81fa78fed34f928d7db027b2f040b7",
       "version_major": 2,
       "version_minor": 0
      },
      "text/plain": [
       "S1BB_20201207T015303_20210205T015301_VVP060_INT80_G_ueF_F985.zip:   0%|          | 0/362558254 [00:00<?, ?it/s…"
      ]
     },
     "metadata": {},
     "output_type": "display_data"
    },
    {
     "data": {
      "application/vnd.jupyter.widget-view+json": {
       "model_id": "d48ecf3e38f1499a8ba6389b6b8728b8",
       "version_major": 2,
       "version_minor": 0
      },
      "text/plain": [
       "S1BB_20201020T015304_20201207T015303_VVP048_INT80_G_ueF_9D7F.zip:   0%|          | 0/362113925 [00:00<?, ?it/s…"
      ]
     },
     "metadata": {},
     "output_type": "display_data"
    },
    {
     "data": {
      "application/vnd.jupyter.widget-view+json": {
       "model_id": "6de16958840d44f9968888d99f253e65",
       "version_major": 2,
       "version_minor": 0
      },
      "text/plain": [
       "S1BB_20201125T015304_20201219T015303_VVP024_INT80_G_ueF_A3D8.zip:   0%|          | 0/357265628 [00:00<?, ?it/s…"
      ]
     },
     "metadata": {},
     "output_type": "display_data"
    },
    {
     "data": {
      "application/vnd.jupyter.widget-view+json": {
       "model_id": "34ec679b37bc4f15812b30788e89378a",
       "version_major": 2,
       "version_minor": 0
      },
      "text/plain": [
       "S1BB_20201113T015304_20201207T015303_VVP024_INT80_G_ueF_98D8.zip:   0%|          | 0/358922776 [00:00<?, ?it/s…"
      ]
     },
     "metadata": {},
     "output_type": "display_data"
    },
    {
     "data": {
      "application/vnd.jupyter.widget-view+json": {
       "model_id": "64628565fe114e4a995f0c6bfd60a1c2",
       "version_major": 2,
       "version_minor": 0
      },
      "text/plain": [
       "S1BB_20201231T015302_20210301T015300_VVP060_INT80_G_ueF_CB55.zip:   0%|          | 0/363329096 [00:00<?, ?it/s…"
      ]
     },
     "metadata": {},
     "output_type": "display_data"
    },
    {
     "data": {
      "application/vnd.jupyter.widget-view+json": {
       "model_id": "964afa6a0c5245ab86198fa9ca75631c",
       "version_major": 2,
       "version_minor": 0
      },
      "text/plain": [
       "S1BB_20201113T015304_20210112T015302_VVP060_INT80_G_ueF_F077.zip:   0%|          | 0/358193750 [00:00<?, ?it/s…"
      ]
     },
     "metadata": {},
     "output_type": "display_data"
    },
    {
     "data": {
      "application/vnd.jupyter.widget-view+json": {
       "model_id": "0484dd726c3245a7bf0460efc0596e19",
       "version_major": 2,
       "version_minor": 0
      },
      "text/plain": [
       "S1BB_20201219T015303_20210124T015301_VVP036_INT80_G_ueF_32D6.zip:   0%|          | 0/362353444 [00:00<?, ?it/s…"
      ]
     },
     "metadata": {},
     "output_type": "display_data"
    },
    {
     "data": {
      "application/vnd.jupyter.widget-view+json": {
       "model_id": "ab22cefb35154c0ea778c06aa7795977",
       "version_major": 2,
       "version_minor": 0
      },
      "text/plain": [
       "S1BB_20201113T015304_20201231T015302_VVP048_INT80_G_ueF_BC81.zip:   0%|          | 0/361161170 [00:00<?, ?it/s…"
      ]
     },
     "metadata": {},
     "output_type": "display_data"
    },
    {
     "data": {
      "application/vnd.jupyter.widget-view+json": {
       "model_id": "9335d5bebf5844619cf275ee594e2998",
       "version_major": 2,
       "version_minor": 0
      },
      "text/plain": [
       "S1BB_20201231T015302_20210124T015301_VVP024_INT80_G_ueF_2064.zip:   0%|          | 0/361606881 [00:00<?, ?it/s…"
      ]
     },
     "metadata": {},
     "output_type": "display_data"
    },
    {
     "data": {
      "application/vnd.jupyter.widget-view+json": {
       "model_id": "fb98b96ca9f2482b966f6f7d2c44b2e7",
       "version_major": 2,
       "version_minor": 0
      },
      "text/plain": [
       "S1BB_20201125T015304_20210112T015302_VVP048_INT80_G_ueF_038E.zip:   0%|          | 0/360799306 [00:00<?, ?it/s…"
      ]
     },
     "metadata": {},
     "output_type": "display_data"
    },
    {
     "data": {
      "application/vnd.jupyter.widget-view+json": {
       "model_id": "cd45718693f645c38b16c3a237d525c6",
       "version_major": 2,
       "version_minor": 0
      },
      "text/plain": [
       "S1BB_20201101T015304_20201125T015304_VVP024_INT80_G_ueF_07CB.zip:   0%|          | 0/361800233 [00:00<?, ?it/s…"
      ]
     },
     "metadata": {},
     "output_type": "display_data"
    },
    {
     "data": {
      "application/vnd.jupyter.widget-view+json": {
       "model_id": "251bf4c1ba1a45fbaa98ca42bcc7c5aa",
       "version_major": 2,
       "version_minor": 0
      },
      "text/plain": [
       "S1BB_20201125T015304_20210124T015301_VVP060_INT80_G_ueF_B252.zip:   0%|          | 0/359426828 [00:00<?, ?it/s…"
      ]
     },
     "metadata": {},
     "output_type": "display_data"
    },
    {
     "data": {
      "application/vnd.jupyter.widget-view+json": {
       "model_id": "25c14f27dec94832a332c2213f19d50e",
       "version_major": 2,
       "version_minor": 0
      },
      "text/plain": [
       "S1BB_20201219T015303_20210205T015301_VVP048_INT80_G_ueF_2824.zip:   0%|          | 0/359595702 [00:00<?, ?it/s…"
      ]
     },
     "metadata": {},
     "output_type": "display_data"
    },
    {
     "data": {
      "application/vnd.jupyter.widget-view+json": {
       "model_id": "3bd633ed174c47d48131e176761f5ac0",
       "version_major": 2,
       "version_minor": 0
      },
      "text/plain": [
       "S1BB_20201113T015304_20201219T015303_VVP036_INT80_G_ueF_E1DF.zip:   0%|          | 0/360364904 [00:00<?, ?it/s…"
      ]
     },
     "metadata": {},
     "output_type": "display_data"
    },
    {
     "data": {
      "application/vnd.jupyter.widget-view+json": {
       "model_id": "76e6d06cc03b4d15a31d691dbc4a6ca8",
       "version_major": 2,
       "version_minor": 0
      },
      "text/plain": [
       "S1BB_20201231T015302_20210205T015301_VVP036_INT80_G_ueF_ACFE.zip:   0%|          | 0/362962437 [00:00<?, ?it/s…"
      ]
     },
     "metadata": {},
     "output_type": "display_data"
    },
    {
     "data": {
      "application/vnd.jupyter.widget-view+json": {
       "model_id": "fd09cb691f1f43368a01b755019eb90b",
       "version_major": 2,
       "version_minor": 0
      },
      "text/plain": [
       "S1BB_20201020T015304_20201219T015303_VVP060_INT80_G_ueF_FB81.zip:   0%|          | 0/361545346 [00:00<?, ?it/s…"
      ]
     },
     "metadata": {},
     "output_type": "display_data"
    },
    {
     "data": {
      "application/vnd.jupyter.widget-view+json": {
       "model_id": "42ce554c3e414004a7b248712bdf2632",
       "version_major": 2,
       "version_minor": 0
      },
      "text/plain": [
       "S1BB_20201219T015303_20210217T015301_VVP060_INT80_G_ueF_E397.zip:   0%|          | 0/364399779 [00:00<?, ?it/s…"
      ]
     },
     "metadata": {},
     "output_type": "display_data"
    },
    {
     "data": {
      "application/vnd.jupyter.widget-view+json": {
       "model_id": "77c9177dc8d44f7f842417b2355b7ddd",
       "version_major": 2,
       "version_minor": 0
      },
      "text/plain": [
       "S1BB_20201125T015304_20201231T015302_VVP036_INT80_G_ueF_9F97.zip:   0%|          | 0/360392243 [00:00<?, ?it/s…"
      ]
     },
     "metadata": {},
     "output_type": "display_data"
    },
    {
     "data": {
      "application/vnd.jupyter.widget-view+json": {
       "model_id": "ce64966f304d4072b38c2592e249870e",
       "version_major": 2,
       "version_minor": 0
      },
      "text/plain": [
       "S1BB_20201207T015303_20210124T015301_VVP048_INT80_G_ueF_E561.zip:   0%|          | 0/361361082 [00:00<?, ?it/s…"
      ]
     },
     "metadata": {},
     "output_type": "display_data"
    },
    {
     "data": {
      "application/vnd.jupyter.widget-view+json": {
       "model_id": "53f37839790d40c38b6b5b746260dd41",
       "version_major": 2,
       "version_minor": 0
      },
      "text/plain": [
       "S1BB_20201101T015304_20201231T015302_VVP060_INT80_G_ueF_7DCC.zip:   0%|          | 0/363200490 [00:00<?, ?it/s…"
      ]
     },
     "metadata": {},
     "output_type": "display_data"
    },
    {
     "data": {
      "application/vnd.jupyter.widget-view+json": {
       "model_id": "905565d0a3c941ca87c3335d55811e86",
       "version_major": 2,
       "version_minor": 0
      },
      "text/plain": [
       "S1BB_20200902T015303_20201101T015304_VVP060_INT80_G_ueF_24B1.zip:   0%|          | 0/363733107 [00:00<?, ?it/s…"
      ]
     },
     "metadata": {},
     "output_type": "display_data"
    },
    {
     "data": {
      "application/vnd.jupyter.widget-view+json": {
       "model_id": "38037a8606e14ac5a12b5293ed4166db",
       "version_major": 2,
       "version_minor": 0
      },
      "text/plain": [
       "S1BB_20200821T015303_20201020T015304_VVP060_INT80_G_ueF_91E7.zip:   0%|          | 0/361677932 [00:00<?, ?it/s…"
      ]
     },
     "metadata": {},
     "output_type": "display_data"
    },
    {
     "data": {
      "application/vnd.jupyter.widget-view+json": {
       "model_id": "a0bd409620994e08b1ece1769d549f7a",
       "version_major": 2,
       "version_minor": 0
      },
      "text/plain": [
       "S1BB_20200728T015301_20200914T015304_VVP048_INT80_G_ueF_02EA.zip:   0%|          | 0/361965617 [00:00<?, ?it/s…"
      ]
     },
     "metadata": {},
     "output_type": "display_data"
    },
    {
     "data": {
      "application/vnd.jupyter.widget-view+json": {
       "model_id": "6c2f74160a67472cbdbe28d6e0f73c60",
       "version_major": 2,
       "version_minor": 0
      },
      "text/plain": [
       "S1BB_20200902T015303_20201020T015304_VVP048_INT80_G_ueF_8E2D.zip:   0%|          | 0/364055734 [00:00<?, ?it/s…"
      ]
     },
     "metadata": {},
     "output_type": "display_data"
    },
    {
     "data": {
      "application/vnd.jupyter.widget-view+json": {
       "model_id": "c3cb0c2fa3fe4a709888db6f21b9637f",
       "version_major": 2,
       "version_minor": 0
      },
      "text/plain": [
       "S1BB_20200914T015304_20201008T015304_VVP024_INT80_G_ueF_46E3.zip:   0%|          | 0/359331691 [00:00<?, ?it/s…"
      ]
     },
     "metadata": {},
     "output_type": "display_data"
    },
    {
     "data": {
      "application/vnd.jupyter.widget-view+json": {
       "model_id": "9fc17553804c4709a91045af735e6ec6",
       "version_major": 2,
       "version_minor": 0
      },
      "text/plain": [
       "S1BB_20200728T015301_20200926T015304_VVP060_INT80_G_ueF_CE57.zip:   0%|          | 0/360899560 [00:00<?, ?it/s…"
      ]
     },
     "metadata": {},
     "output_type": "display_data"
    },
    {
     "data": {
      "application/vnd.jupyter.widget-view+json": {
       "model_id": "2ef09448d2c645c4b4dffa9ea2044867",
       "version_major": 2,
       "version_minor": 0
      },
      "text/plain": [
       "S1BB_20200926T015304_20201125T015304_VVP060_INT80_G_ueF_D5AA.zip:   0%|          | 0/361020193 [00:00<?, ?it/s…"
      ]
     },
     "metadata": {},
     "output_type": "display_data"
    },
    {
     "data": {
      "application/vnd.jupyter.widget-view+json": {
       "model_id": "013c47669a9b45e58f4cdcf424d32226",
       "version_major": 2,
       "version_minor": 0
      },
      "text/plain": [
       "S1BB_20201008T015304_20201207T015303_VVP060_INT80_G_ueF_CFBC.zip:   0%|          | 0/361078747 [00:00<?, ?it/s…"
      ]
     },
     "metadata": {},
     "output_type": "display_data"
    },
    {
     "data": {
      "application/vnd.jupyter.widget-view+json": {
       "model_id": "1661438ece6742379c359b4cd704bc30",
       "version_major": 2,
       "version_minor": 0
      },
      "text/plain": [
       "S1BB_20200716T015300_20200914T015304_VVP060_INT80_G_ueF_851A.zip:   0%|          | 0/363445984 [00:00<?, ?it/s…"
      ]
     },
     "metadata": {},
     "output_type": "display_data"
    },
    {
     "data": {
      "application/vnd.jupyter.widget-view+json": {
       "model_id": "bad271938ad7425aaac0999bdff10680",
       "version_major": 2,
       "version_minor": 0
      },
      "text/plain": [
       "S1BB_20200809T015302_20200914T015304_VVP036_INT80_G_ueF_EC3F.zip:   0%|          | 0/360117614 [00:00<?, ?it/s…"
      ]
     },
     "metadata": {},
     "output_type": "display_data"
    },
    {
     "data": {
      "application/vnd.jupyter.widget-view+json": {
       "model_id": "cb77268959d34ad7a6ff7e4fd974b1c0",
       "version_major": 2,
       "version_minor": 0
      },
      "text/plain": [
       "S1BB_20201020T015304_20201113T015304_VVP024_INT80_G_ueF_6B39.zip:   0%|          | 0/361102139 [00:00<?, ?it/s…"
      ]
     },
     "metadata": {},
     "output_type": "display_data"
    },
    {
     "data": {
      "application/vnd.jupyter.widget-view+json": {
       "model_id": "0af810bc1c2e4f3d8ffdbdf041d8748d",
       "version_major": 2,
       "version_minor": 0
      },
      "text/plain": [
       "S1BB_20201008T015304_20201125T015304_VVP048_INT80_G_ueF_283F.zip:   0%|          | 0/361187525 [00:00<?, ?it/s…"
      ]
     },
     "metadata": {},
     "output_type": "display_data"
    },
    {
     "data": {
      "application/vnd.jupyter.widget-view+json": {
       "model_id": "d49c79bd9dfa4b98b23eb66307b612bd",
       "version_major": 2,
       "version_minor": 0
      },
      "text/plain": [
       "S1BB_20200809T015302_20200926T015304_VVP048_INT80_G_ueF_F364.zip:   0%|          | 0/360043278 [00:00<?, ?it/s…"
      ]
     },
     "metadata": {},
     "output_type": "display_data"
    },
    {
     "data": {
      "application/vnd.jupyter.widget-view+json": {
       "model_id": "922c955e83014915ab41a1b307990796",
       "version_major": 2,
       "version_minor": 0
      },
      "text/plain": [
       "S1BB_20200809T015302_20201008T015304_VVP060_INT80_G_ueF_6C84.zip:   0%|          | 0/361591552 [00:00<?, ?it/s…"
      ]
     },
     "metadata": {},
     "output_type": "display_data"
    },
    {
     "data": {
      "application/vnd.jupyter.widget-view+json": {
       "model_id": "82d310de4d5e4b84a77e28cad2d5483b",
       "version_major": 2,
       "version_minor": 0
      },
      "text/plain": [
       "S1BB_20200728T015301_20200902T015303_VVP036_INT80_G_ueF_C2F9.zip:   0%|          | 0/360842240 [00:00<?, ?it/s…"
      ]
     },
     "metadata": {},
     "output_type": "display_data"
    },
    {
     "data": {
      "application/vnd.jupyter.widget-view+json": {
       "model_id": "2ae86d19c603415da3501345cc4d0f45",
       "version_major": 2,
       "version_minor": 0
      },
      "text/plain": [
       "S1BB_20200902T015303_20200926T015304_VVP024_INT80_G_ueF_C711.zip:   0%|          | 0/362108398 [00:00<?, ?it/s…"
      ]
     },
     "metadata": {},
     "output_type": "display_data"
    },
    {
     "data": {
      "application/vnd.jupyter.widget-view+json": {
       "model_id": "d173a642b3b2449c925a3b1954f8bd7b",
       "version_major": 2,
       "version_minor": 0
      },
      "text/plain": [
       "S1BB_20200902T015303_20201008T015304_VVP036_INT80_G_ueF_9BBB.zip:   0%|          | 0/362174378 [00:00<?, ?it/s…"
      ]
     },
     "metadata": {},
     "output_type": "display_data"
    },
    {
     "data": {
      "application/vnd.jupyter.widget-view+json": {
       "model_id": "9dd605b84f57484dba79432063be4cc1",
       "version_major": 2,
       "version_minor": 0
      },
      "text/plain": [
       "S1BB_20201020T015304_20201125T015304_VVP036_INT80_G_ueF_6F82.zip:   0%|          | 0/361303916 [00:00<?, ?it/s…"
      ]
     },
     "metadata": {},
     "output_type": "display_data"
    },
    {
     "data": {
      "application/vnd.jupyter.widget-view+json": {
       "model_id": "2b4992b6f1d045779c10ff8825e7aa51",
       "version_major": 2,
       "version_minor": 0
      },
      "text/plain": [
       "S1BB_20200809T015302_20200902T015303_VVP024_INT80_G_ueF_05AE.zip:   0%|          | 0/358118618 [00:00<?, ?it/s…"
      ]
     },
     "metadata": {},
     "output_type": "display_data"
    },
    {
     "data": {
      "application/vnd.jupyter.widget-view+json": {
       "model_id": "ad523993f02441628e4cd8d2ebf7e56b",
       "version_major": 2,
       "version_minor": 0
      },
      "text/plain": [
       "S1BB_20200716T015300_20200902T015303_VVP048_INT80_G_ueF_78EA.zip:   0%|          | 0/362959617 [00:00<?, ?it/s…"
      ]
     },
     "metadata": {},
     "output_type": "display_data"
    },
    {
     "data": {
      "application/vnd.jupyter.widget-view+json": {
       "model_id": "94bfa26650964c2a98511eb19f49120e",
       "version_major": 2,
       "version_minor": 0
      },
      "text/plain": [
       "S1BB_20200622T015259_20200716T015300_VVP024_INT80_G_ueF_0F7E.zip:   0%|          | 0/364379506 [00:00<?, ?it/s…"
      ]
     },
     "metadata": {},
     "output_type": "display_data"
    },
    {
     "data": {
      "application/vnd.jupyter.widget-view+json": {
       "model_id": "16bcf9be496540f589c9c97881b93744",
       "version_major": 2,
       "version_minor": 0
      },
      "text/plain": [
       "S1BB_20200622T015259_20200821T015303_VVP060_INT80_G_ueF_A5AA.zip:   0%|          | 0/363208507 [00:00<?, ?it/s…"
      ]
     },
     "metadata": {},
     "output_type": "display_data"
    },
    {
     "data": {
      "application/vnd.jupyter.widget-view+json": {
       "model_id": "71741ba1b56b4d848946041c0eb0588d",
       "version_major": 2,
       "version_minor": 0
      },
      "text/plain": [
       "S1BB_20200610T015259_20200716T015300_VVP036_INT80_G_ueF_26B6.zip:   0%|          | 0/361052685 [00:00<?, ?it/s…"
      ]
     },
     "metadata": {},
     "output_type": "display_data"
    },
    {
     "data": {
      "application/vnd.jupyter.widget-view+json": {
       "model_id": "d407034a8dbc436b890fcc1992a1cc74",
       "version_major": 2,
       "version_minor": 0
      },
      "text/plain": [
       "S1BB_20200716T015300_20200809T015302_VVP024_INT80_G_ueF_8872.zip:   0%|          | 0/363377565 [00:00<?, ?it/s…"
      ]
     },
     "metadata": {},
     "output_type": "display_data"
    },
    {
     "data": {
      "application/vnd.jupyter.widget-view+json": {
       "model_id": "0091510afa1248329721ed6f8e9ef96d",
       "version_major": 2,
       "version_minor": 0
      },
      "text/plain": [
       "S1BB_20200704T015300_20200821T015303_VVP048_INT80_G_ueF_DDDA.zip:   0%|          | 0/361352610 [00:00<?, ?it/s…"
      ]
     },
     "metadata": {},
     "output_type": "display_data"
    },
    {
     "data": {
      "application/vnd.jupyter.widget-view+json": {
       "model_id": "cbab63a6707047ef9758cc5c686ca957",
       "version_major": 2,
       "version_minor": 0
      },
      "text/plain": [
       "S1BB_20200505T015256_20200704T015300_VVP060_INT80_G_ueF_34AD.zip:   0%|          | 0/361377236 [00:00<?, ?it/s…"
      ]
     },
     "metadata": {},
     "output_type": "display_data"
    },
    {
     "data": {
      "application/vnd.jupyter.widget-view+json": {
       "model_id": "3fb67c467c4b489fb8883ea7a0040f37",
       "version_major": 2,
       "version_minor": 0
      },
      "text/plain": [
       "S1BB_20200610T015259_20200809T015302_VVP060_INT80_G_ueF_B338.zip:   0%|          | 0/362582781 [00:00<?, ?it/s…"
      ]
     },
     "metadata": {},
     "output_type": "display_data"
    },
    {
     "data": {
      "application/vnd.jupyter.widget-view+json": {
       "model_id": "cc9128cebfed4f45829a3e2808eeca5a",
       "version_major": 2,
       "version_minor": 0
      },
      "text/plain": [
       "S1BB_20200505T015256_20200529T015258_VVP024_INT80_G_ueF_4DDC.zip:   0%|          | 0/360796360 [00:00<?, ?it/s…"
      ]
     },
     "metadata": {},
     "output_type": "display_data"
    },
    {
     "data": {
      "application/vnd.jupyter.widget-view+json": {
       "model_id": "6e4ebc3c6fc340698db715496050f91e",
       "version_major": 2,
       "version_minor": 0
      },
      "text/plain": [
       "S1BB_20200704T015300_20200902T015303_VVP060_INT80_G_ueF_C896.zip:   0%|          | 0/361010805 [00:00<?, ?it/s…"
      ]
     },
     "metadata": {},
     "output_type": "display_data"
    },
    {
     "data": {
      "application/vnd.jupyter.widget-view+json": {
       "model_id": "426789804b7740eba065cb40156325ec",
       "version_major": 2,
       "version_minor": 0
      },
      "text/plain": [
       "S1BB_20200610T015259_20200728T015301_VVP048_INT80_G_ueF_28F3.zip:   0%|          | 0/360735568 [00:00<?, ?it/s…"
      ]
     },
     "metadata": {},
     "output_type": "display_data"
    },
    {
     "data": {
      "application/vnd.jupyter.widget-view+json": {
       "model_id": "a9c7e916da83482fbed29cae40aab087",
       "version_major": 2,
       "version_minor": 0
      },
      "text/plain": [
       "S1BB_20200517T015257_20200704T015300_VVP048_INT80_G_ueF_C415.zip:   0%|          | 0/360733831 [00:00<?, ?it/s…"
      ]
     },
     "metadata": {},
     "output_type": "display_data"
    },
    {
     "data": {
      "application/vnd.jupyter.widget-view+json": {
       "model_id": "86ac1d6cd78f4799a2cbc74e3318dc26",
       "version_major": 2,
       "version_minor": 0
      },
      "text/plain": [
       "S1BB_20200610T015259_20200704T015300_VVP024_INT80_G_ueF_FCCB.zip:   0%|          | 0/361240223 [00:00<?, ?it/s…"
      ]
     },
     "metadata": {},
     "output_type": "display_data"
    },
    {
     "data": {
      "application/vnd.jupyter.widget-view+json": {
       "model_id": "ebc973a094d241858b5ec8294f28f43f",
       "version_major": 2,
       "version_minor": 0
      },
      "text/plain": [
       "S1BB_20200517T015257_20200622T015259_VVP036_INT80_G_ueF_8D2D.zip:   0%|          | 0/363465079 [00:00<?, ?it/s…"
      ]
     },
     "metadata": {},
     "output_type": "display_data"
    },
    {
     "data": {
      "application/vnd.jupyter.widget-view+json": {
       "model_id": "094f703891794cbf90190a3538765d5b",
       "version_major": 2,
       "version_minor": 0
      },
      "text/plain": [
       "S1BB_20200529T015258_20200716T015300_VVP048_INT80_G_ueF_8F36.zip:   0%|          | 0/362766091 [00:00<?, ?it/s…"
      ]
     },
     "metadata": {},
     "output_type": "display_data"
    },
    {
     "data": {
      "application/vnd.jupyter.widget-view+json": {
       "model_id": "0669d707742145e088d2553d9c9a2360",
       "version_major": 2,
       "version_minor": 0
      },
      "text/plain": [
       "S1BB_20200716T015300_20200821T015303_VVP036_INT80_G_ueF_28F2.zip:   0%|          | 0/362995020 [00:00<?, ?it/s…"
      ]
     },
     "metadata": {},
     "output_type": "display_data"
    },
    {
     "data": {
      "application/vnd.jupyter.widget-view+json": {
       "model_id": "6545b795469d4f06b52e262d84b2a85d",
       "version_major": 2,
       "version_minor": 0
      },
      "text/plain": [
       "S1BB_20200517T015257_20200716T015300_VVP060_INT80_G_ueF_F94F.zip:   0%|          | 0/361951894 [00:00<?, ?it/s…"
      ]
     },
     "metadata": {},
     "output_type": "display_data"
    },
    {
     "data": {
      "application/vnd.jupyter.widget-view+json": {
       "model_id": "047e487fac6d461a93f91afeec426b62",
       "version_major": 2,
       "version_minor": 0
      },
      "text/plain": [
       "S1BB_20200505T015256_20200622T015259_VVP048_INT80_G_ueF_25C7.zip:   0%|          | 0/361753792 [00:00<?, ?it/s…"
      ]
     },
     "metadata": {},
     "output_type": "display_data"
    },
    {
     "data": {
      "application/vnd.jupyter.widget-view+json": {
       "model_id": "c58e4bd027be4c3cadd8e26eaee371d5",
       "version_major": 2,
       "version_minor": 0
      },
      "text/plain": [
       "S1BB_20200517T015257_20200610T015259_VVP024_INT80_G_ueF_A8AD.zip:   0%|          | 0/362799427 [00:00<?, ?it/s…"
      ]
     },
     "metadata": {},
     "output_type": "display_data"
    },
    {
     "data": {
      "application/vnd.jupyter.widget-view+json": {
       "model_id": "fcbdfc7e2a1f47bb95d824afe3a78c95",
       "version_major": 2,
       "version_minor": 0
      },
      "text/plain": [
       "S1BB_20200529T015258_20200728T015301_VVP060_INT80_G_ueF_FB6F.zip:   0%|          | 0/361083502 [00:00<?, ?it/s…"
      ]
     },
     "metadata": {},
     "output_type": "display_data"
    },
    {
     "data": {
      "application/vnd.jupyter.widget-view+json": {
       "model_id": "2f06234756f74c2d84c212b1675ec3dd",
       "version_major": 2,
       "version_minor": 0
      },
      "text/plain": [
       "S1BB_20200505T015256_20200610T015259_VVP036_INT80_G_ueF_B5B1.zip:   0%|          | 0/360489882 [00:00<?, ?it/s…"
      ]
     },
     "metadata": {},
     "output_type": "display_data"
    },
    {
     "data": {
      "application/vnd.jupyter.widget-view+json": {
       "model_id": "1e19015c6ffe4118a81217b96aa4057b",
       "version_major": 2,
       "version_minor": 0
      },
      "text/plain": [
       "S1BB_20200411T015255_20200610T015259_VVP060_INT80_G_ueF_54F0.zip:   0%|          | 0/362720725 [00:00<?, ?it/s…"
      ]
     },
     "metadata": {},
     "output_type": "display_data"
    },
    {
     "data": {
      "application/vnd.jupyter.widget-view+json": {
       "model_id": "a3f763136a0b4ff69d53729d1fde44b1",
       "version_major": 2,
       "version_minor": 0
      },
      "text/plain": [
       "S1BB_20200306T015255_20200505T015256_VVP060_INT80_G_ueF_B596.zip:   0%|          | 0/360684807 [00:00<?, ?it/s…"
      ]
     },
     "metadata": {},
     "output_type": "display_data"
    },
    {
     "data": {
      "application/vnd.jupyter.widget-view+json": {
       "model_id": "c8853b42660b45f08094b194dbd1a400",
       "version_major": 2,
       "version_minor": 0
      },
      "text/plain": [
       "S1BB_20200306T015255_20200411T015255_VVP036_INT80_G_ueF_B4DD.zip:   0%|          | 0/362933335 [00:00<?, ?it/s…"
      ]
     },
     "metadata": {},
     "output_type": "display_data"
    },
    {
     "data": {
      "application/vnd.jupyter.widget-view+json": {
       "model_id": "75d546ccab364203a6b560818318f77d",
       "version_major": 2,
       "version_minor": 0
      },
      "text/plain": [
       "S1BB_20200223T015255_20200411T015255_VVP048_INT80_G_ueF_8283.zip:   0%|          | 0/360207821 [00:00<?, ?it/s…"
      ]
     },
     "metadata": {},
     "output_type": "display_data"
    },
    {
     "data": {
      "application/vnd.jupyter.widget-view+json": {
       "model_id": "38dfd3c0d9e94d6a88246c18816a7131",
       "version_major": 2,
       "version_minor": 0
      },
      "text/plain": [
       "S1BB_20200318T015255_20200517T015257_VVP060_INT80_G_ueF_B7DE.zip:   0%|          | 0/360453848 [00:00<?, ?it/s…"
      ]
     },
     "metadata": {},
     "output_type": "display_data"
    },
    {
     "data": {
      "application/vnd.jupyter.widget-view+json": {
       "model_id": "15b914e2c7d449f6b381acf044a0ad80",
       "version_major": 2,
       "version_minor": 0
      },
      "text/plain": [
       "S1BB_20200423T015256_20200517T015257_VVP024_INT80_G_ueF_EAA8.zip:   0%|          | 0/362495470 [00:00<?, ?it/s…"
      ]
     },
     "metadata": {},
     "output_type": "display_data"
    },
    {
     "data": {
      "application/vnd.jupyter.widget-view+json": {
       "model_id": "f7925e0baaf94a739c382c2127dcf871",
       "version_major": 2,
       "version_minor": 0
      },
      "text/plain": [
       "S1BB_20200223T015255_20200423T015256_VVP060_INT80_G_ueF_7BCD.zip:   0%|          | 0/362445773 [00:00<?, ?it/s…"
      ]
     },
     "metadata": {},
     "output_type": "display_data"
    },
    {
     "data": {
      "application/vnd.jupyter.widget-view+json": {
       "model_id": "6695c561fde1485ab60d821b1e523f4d",
       "version_major": 2,
       "version_minor": 0
      },
      "text/plain": [
       "S1BB_20200211T015255_20200306T015255_VVP024_INT80_G_ueF_36A0.zip:   0%|          | 0/360044587 [00:00<?, ?it/s…"
      ]
     },
     "metadata": {},
     "output_type": "display_data"
    },
    {
     "data": {
      "application/vnd.jupyter.widget-view+json": {
       "model_id": "9be46bf5f6584c5284cf7b5c3e7fb5e0",
       "version_major": 2,
       "version_minor": 0
      },
      "text/plain": [
       "S1BB_20200211T015255_20200411T015255_VVP060_INT80_G_ueF_6C20.zip:   0%|          | 0/364119406 [00:00<?, ?it/s…"
      ]
     },
     "metadata": {},
     "output_type": "display_data"
    },
    {
     "data": {
      "application/vnd.jupyter.widget-view+json": {
       "model_id": "32f9b385e9d340d9b7950e83f853ad52",
       "version_major": 2,
       "version_minor": 0
      },
      "text/plain": [
       "S1BB_20200211T015255_20200318T015255_VVP036_INT80_G_ueF_86E0.zip:   0%|          | 0/362435137 [00:00<?, ?it/s…"
      ]
     },
     "metadata": {},
     "output_type": "display_data"
    },
    {
     "data": {
      "application/vnd.jupyter.widget-view+json": {
       "model_id": "12375a9008f6490e90408393fb1df84a",
       "version_major": 2,
       "version_minor": 0
      },
      "text/plain": [
       "S1BB_20200318T015255_20200505T015256_VVP048_INT80_G_ueF_625D.zip:   0%|          | 0/361926847 [00:00<?, ?it/s…"
      ]
     },
     "metadata": {},
     "output_type": "display_data"
    },
    {
     "data": {
      "application/vnd.jupyter.widget-view+json": {
       "model_id": "3fcbbb9ff7d2439993ce439133d66bcf",
       "version_major": 2,
       "version_minor": 0
      },
      "text/plain": [
       "S1BB_20200223T015255_20200318T015255_VVP024_INT80_G_ueF_4ADB.zip:   0%|          | 0/360224575 [00:00<?, ?it/s…"
      ]
     },
     "metadata": {},
     "output_type": "display_data"
    },
    {
     "data": {
      "application/vnd.jupyter.widget-view+json": {
       "model_id": "b6b7dc988c39475abc509c4468016645",
       "version_major": 2,
       "version_minor": 0
      },
      "text/plain": [
       "S1BB_20200318T015255_20200423T015256_VVP036_INT80_G_ueF_E398.zip:   0%|          | 0/361777214 [00:00<?, ?it/s…"
      ]
     },
     "metadata": {},
     "output_type": "display_data"
    },
    {
     "data": {
      "application/vnd.jupyter.widget-view+json": {
       "model_id": "2590869ca4c14c0dbc85787d982e7676",
       "version_major": 2,
       "version_minor": 0
      },
      "text/plain": [
       "S1BB_20200423T015256_20200529T015258_VVP036_INT80_G_ueF_E251.zip:   0%|          | 0/361321249 [00:00<?, ?it/s…"
      ]
     },
     "metadata": {},
     "output_type": "display_data"
    },
    {
     "data": {
      "application/vnd.jupyter.widget-view+json": {
       "model_id": "983cbfaeef634aad88440dd9da100f38",
       "version_major": 2,
       "version_minor": 0
      },
      "text/plain": [
       "S1BB_20200423T015256_20200610T015259_VVP048_INT80_G_ueF_DA16.zip:   0%|          | 0/361114612 [00:00<?, ?it/s…"
      ]
     },
     "metadata": {},
     "output_type": "display_data"
    },
    {
     "data": {
      "application/vnd.jupyter.widget-view+json": {
       "model_id": "fd0d65ba30914d8b874d5d0ecfbf49ee",
       "version_major": 2,
       "version_minor": 0
      },
      "text/plain": [
       "S1BB_20200306T015255_20200423T015256_VVP048_INT80_G_ueF_55A7.zip:   0%|          | 0/362388699 [00:00<?, ?it/s…"
      ]
     },
     "metadata": {},
     "output_type": "display_data"
    },
    {
     "data": {
      "application/vnd.jupyter.widget-view+json": {
       "model_id": "5dab446715ff4d5fa83c54f2e87a0e88",
       "version_major": 2,
       "version_minor": 0
      },
      "text/plain": [
       "S1BB_20200411T015255_20200505T015256_VVP024_INT80_G_ueF_8181.zip:   0%|          | 0/361759007 [00:00<?, ?it/s…"
      ]
     },
     "metadata": {},
     "output_type": "display_data"
    },
    {
     "data": {
      "application/vnd.jupyter.widget-view+json": {
       "model_id": "633e56771ab44caaa8f4557e20399bfe",
       "version_major": 2,
       "version_minor": 0
      },
      "text/plain": [
       "S1BB_20200411T015255_20200529T015258_VVP048_INT80_G_ueF_61F7.zip:   0%|          | 0/360886266 [00:00<?, ?it/s…"
      ]
     },
     "metadata": {},
     "output_type": "display_data"
    },
    {
     "data": {
      "application/vnd.jupyter.widget-view+json": {
       "model_id": "c7ff7e7607f741aaa66a480864ff9811",
       "version_major": 2,
       "version_minor": 0
      },
      "text/plain": [
       "S1BB_20200318T015255_20200411T015255_VVP024_INT80_G_ueF_BC0A.zip:   0%|          | 0/363461792 [00:00<?, ?it/s…"
      ]
     },
     "metadata": {},
     "output_type": "display_data"
    },
    {
     "data": {
      "application/vnd.jupyter.widget-view+json": {
       "model_id": "a11af62855ec4bcbb3ee1b0e82107280",
       "version_major": 2,
       "version_minor": 0
      },
      "text/plain": [
       "S1BB_20200411T015255_20200517T015257_VVP036_INT80_G_ueF_DC04.zip:   0%|          | 0/363248906 [00:00<?, ?it/s…"
      ]
     },
     "metadata": {},
     "output_type": "display_data"
    },
    {
     "data": {
      "application/vnd.jupyter.widget-view+json": {
       "model_id": "5b7d6c4e384e433fa6f99747598aeb12",
       "version_major": 2,
       "version_minor": 0
      },
      "text/plain": [
       "S1BB_20200106T015256_20200130T015255_VVP024_INT80_G_ueF_B4A5.zip:   0%|          | 0/359625404 [00:00<?, ?it/s…"
      ]
     },
     "metadata": {},
     "output_type": "display_data"
    },
    {
     "data": {
      "application/vnd.jupyter.widget-view+json": {
       "model_id": "1a5b8727e305468eabfe5e8240ab93fd",
       "version_major": 2,
       "version_minor": 0
      },
      "text/plain": [
       "S1BB_20200106T015256_20200211T015255_VVP036_INT80_G_ueF_41DC.zip:   0%|          | 0/360693648 [00:00<?, ?it/s…"
      ]
     },
     "metadata": {},
     "output_type": "display_data"
    },
    {
     "data": {
      "application/vnd.jupyter.widget-view+json": {
       "model_id": "874f0fa5eea34210913051bc2e559a8c",
       "version_major": 2,
       "version_minor": 0
      },
      "text/plain": [
       "S1BB_20191225T015257_20200223T015255_VVP060_INT80_G_ueF_2037.zip:   0%|          | 0/360836762 [00:00<?, ?it/s…"
      ]
     },
     "metadata": {},
     "output_type": "display_data"
    },
    {
     "data": {
      "application/vnd.jupyter.widget-view+json": {
       "model_id": "2f26c0f1ca39451ca417e81fb1bda20b",
       "version_major": 2,
       "version_minor": 0
      },
      "text/plain": [
       "S1BB_20200118T015255_20200211T015255_VVP024_INT80_G_ueF_4D8D.zip:   0%|          | 0/361749177 [00:00<?, ?it/s…"
      ]
     },
     "metadata": {},
     "output_type": "display_data"
    },
    {
     "data": {
      "application/vnd.jupyter.widget-view+json": {
       "model_id": "fe58dd00c1624a31a03838df4859f01b",
       "version_major": 2,
       "version_minor": 0
      },
      "text/plain": [
       "S1BB_20191213T015257_20200130T015255_VVP048_INT80_G_ueF_78E2.zip:   0%|          | 0/358634142 [00:00<?, ?it/s…"
      ]
     },
     "metadata": {},
     "output_type": "display_data"
    },
    {
     "data": {
      "application/vnd.jupyter.widget-view+json": {
       "model_id": "e475726461dd44c487e7bc06b1bea034",
       "version_major": 2,
       "version_minor": 0
      },
      "text/plain": [
       "S1BB_20191225T015257_20200118T015255_VVP024_INT80_G_ueF_BE88.zip:   0%|          | 0/360696528 [00:00<?, ?it/s…"
      ]
     },
     "metadata": {},
     "output_type": "display_data"
    },
    {
     "data": {
      "application/vnd.jupyter.widget-view+json": {
       "model_id": "7db8b9b7cfd44986b4a8c4f7de79667b",
       "version_major": 2,
       "version_minor": 0
      },
      "text/plain": [
       "S1BB_20200130T015255_20200223T015255_VVP024_INT80_G_ueF_16BB.zip:   0%|          | 0/359383944 [00:00<?, ?it/s…"
      ]
     },
     "metadata": {},
     "output_type": "display_data"
    },
    {
     "data": {
      "application/vnd.jupyter.widget-view+json": {
       "model_id": "9ad16cbc9e32414b861019cca9151fc2",
       "version_major": 2,
       "version_minor": 0
      },
      "text/plain": [
       "S1BB_20200130T015255_20200318T015255_VVP048_INT80_G_ueF_9390.zip:   0%|          | 0/359860648 [00:00<?, ?it/s…"
      ]
     },
     "metadata": {},
     "output_type": "display_data"
    },
    {
     "data": {
      "application/vnd.jupyter.widget-view+json": {
       "model_id": "27466054b8b64e3c91a19f6c8e2b64d1",
       "version_major": 2,
       "version_minor": 0
      },
      "text/plain": [
       "S1BB_20200106T015256_20200223T015255_VVP048_INT80_G_ueF_E705.zip:   0%|          | 0/360251474 [00:00<?, ?it/s…"
      ]
     },
     "metadata": {},
     "output_type": "display_data"
    },
    {
     "data": {
      "application/vnd.jupyter.widget-view+json": {
       "model_id": "2f5209462fac4f52ba25936719efe662",
       "version_major": 2,
       "version_minor": 0
      },
      "text/plain": [
       "S1BB_20191225T015257_20200130T015255_VVP036_INT80_G_ueF_B360.zip:   0%|          | 0/359688778 [00:00<?, ?it/s…"
      ]
     },
     "metadata": {},
     "output_type": "display_data"
    },
    {
     "data": {
      "application/vnd.jupyter.widget-view+json": {
       "model_id": "8d3ba7b0ca32474091c37c684e6498fa",
       "version_major": 2,
       "version_minor": 0
      },
      "text/plain": [
       "S1BB_20191201T015257_20200130T015255_VVP060_INT80_G_ueF_DA79.zip:   0%|          | 0/358811622 [00:00<?, ?it/s…"
      ]
     },
     "metadata": {},
     "output_type": "display_data"
    },
    {
     "data": {
      "application/vnd.jupyter.widget-view+json": {
       "model_id": "9760c33dee854e1c950fb66701ae57ff",
       "version_major": 2,
       "version_minor": 0
      },
      "text/plain": [
       "S1BB_20191213T015257_20200211T015255_VVP060_INT80_G_ueF_0907.zip:   0%|          | 0/361911455 [00:00<?, ?it/s…"
      ]
     },
     "metadata": {},
     "output_type": "display_data"
    },
    {
     "data": {
      "application/vnd.jupyter.widget-view+json": {
       "model_id": "1ea931efa7c540f29726c7410b5f945c",
       "version_major": 2,
       "version_minor": 0
      },
      "text/plain": [
       "S1BB_20200106T015256_20200306T015255_VVP060_INT80_G_ueF_2060.zip:   0%|          | 0/362099625 [00:00<?, ?it/s…"
      ]
     },
     "metadata": {},
     "output_type": "display_data"
    },
    {
     "data": {
      "application/vnd.jupyter.widget-view+json": {
       "model_id": "d76f4099a3be4e458da3aaf3ead392f0",
       "version_major": 2,
       "version_minor": 0
      },
      "text/plain": [
       "S1BB_20200118T015255_20200306T015255_VVP048_INT80_G_ueF_A5E9.zip:   0%|          | 0/361224513 [00:00<?, ?it/s…"
      ]
     },
     "metadata": {},
     "output_type": "display_data"
    },
    {
     "data": {
      "application/vnd.jupyter.widget-view+json": {
       "model_id": "86cef624544c4dbabc77ca38db7ff6c2",
       "version_major": 2,
       "version_minor": 0
      },
      "text/plain": [
       "S1BB_20191225T015257_20200211T015255_VVP048_INT80_G_ueF_3C87.zip:   0%|          | 0/362961756 [00:00<?, ?it/s…"
      ]
     },
     "metadata": {},
     "output_type": "display_data"
    },
    {
     "data": {
      "application/vnd.jupyter.widget-view+json": {
       "model_id": "fe52c7948dda4ed6a9c34a1a05c19cbf",
       "version_major": 2,
       "version_minor": 0
      },
      "text/plain": [
       "S1BB_20200118T015255_20200223T015255_VVP036_INT80_G_ueF_8D8B.zip:   0%|          | 0/361167025 [00:00<?, ?it/s…"
      ]
     },
     "metadata": {},
     "output_type": "display_data"
    },
    {
     "data": {
      "application/vnd.jupyter.widget-view+json": {
       "model_id": "edb17764451b4478bc10b478aa249818",
       "version_major": 2,
       "version_minor": 0
      },
      "text/plain": [
       "S1BB_20191213T015257_20200106T015256_VVP024_INT80_G_ueF_46CB.zip:   0%|          | 0/363936489 [00:00<?, ?it/s…"
      ]
     },
     "metadata": {},
     "output_type": "display_data"
    },
    {
     "data": {
      "application/vnd.jupyter.widget-view+json": {
       "model_id": "48c0002859394a44ba48672faefa8e85",
       "version_major": 2,
       "version_minor": 0
      },
      "text/plain": [
       "S1BB_20191213T015257_20200118T015255_VVP036_INT80_G_ueF_229F.zip:   0%|          | 0/361223781 [00:00<?, ?it/s…"
      ]
     },
     "metadata": {},
     "output_type": "display_data"
    },
    {
     "data": {
      "application/vnd.jupyter.widget-view+json": {
       "model_id": "610b52ab370d4b728839e9e9c50b65b9",
       "version_major": 2,
       "version_minor": 0
      },
      "text/plain": [
       "S1BB_20200118T015255_20200318T015255_VVP060_INT80_G_ueF_C011.zip:   0%|          | 0/361442893 [00:00<?, ?it/s…"
      ]
     },
     "metadata": {},
     "output_type": "display_data"
    },
    {
     "data": {
      "application/vnd.jupyter.widget-view+json": {
       "model_id": "3cdf864230734a3fb3e411597ee88e1d",
       "version_major": 2,
       "version_minor": 0
      },
      "text/plain": [
       "S1BB_20200130T015255_20200306T015255_VVP036_INT80_G_ueF_5AA7.zip:   0%|          | 0/360741564 [00:00<?, ?it/s…"
      ]
     },
     "metadata": {},
     "output_type": "display_data"
    },
    {
     "data": {
      "application/vnd.jupyter.widget-view+json": {
       "model_id": "70badc8fcd504803b7191a7f29f8387a",
       "version_major": 2,
       "version_minor": 0
      },
      "text/plain": [
       "S1BB_20191014T015258_20191107T015258_VVP024_INT80_G_ueF_95CB.zip:   0%|          | 0/358357753 [00:00<?, ?it/s…"
      ]
     },
     "metadata": {},
     "output_type": "display_data"
    },
    {
     "data": {
      "application/vnd.jupyter.widget-view+json": {
       "model_id": "c3f2fb9f3c894660ac0b9767673608f3",
       "version_major": 2,
       "version_minor": 0
      },
      "text/plain": [
       "S1BB_20191201T015257_20191225T015257_VVP024_INT80_G_ueF_EC5F.zip:   0%|          | 0/361070895 [00:00<?, ?it/s…"
      ]
     },
     "metadata": {},
     "output_type": "display_data"
    },
    {
     "data": {
      "application/vnd.jupyter.widget-view+json": {
       "model_id": "f8a0d8dbbfca4d9689d79057de4bd361",
       "version_major": 2,
       "version_minor": 0
      },
      "text/plain": [
       "S1BB_20190827T015257_20191002T015258_VVP036_INT80_G_ueF_D484.zip:   0%|          | 0/360794849 [00:00<?, ?it/s…"
      ]
     },
     "metadata": {},
     "output_type": "display_data"
    },
    {
     "data": {
      "application/vnd.jupyter.widget-view+json": {
       "model_id": "6e19133880cb44d2b2e522ccb494853b",
       "version_major": 2,
       "version_minor": 0
      },
      "text/plain": [
       "S1BB_20191014T015258_20191201T015257_VVP048_INT80_G_ueF_59D3.zip:   0%|          | 0/360657761 [00:00<?, ?it/s…"
      ]
     },
     "metadata": {},
     "output_type": "display_data"
    },
    {
     "data": {
      "application/vnd.jupyter.widget-view+json": {
       "model_id": "8612b8132ab44778a693f3e1f4a3467c",
       "version_major": 2,
       "version_minor": 0
      },
      "text/plain": [
       "S1BB_20191026T015258_20191225T015257_VVP060_INT80_G_ueF_A53E.zip:   0%|          | 0/361120297 [00:00<?, ?it/s…"
      ]
     },
     "metadata": {},
     "output_type": "display_data"
    },
    {
     "data": {
      "application/vnd.jupyter.widget-view+json": {
       "model_id": "c41741127b034a2ebe096a0b221fc167",
       "version_major": 2,
       "version_minor": 0
      },
      "text/plain": [
       "S1BB_20191107T015258_20191225T015257_VVP048_INT80_G_ueF_9A80.zip:   0%|          | 0/361092421 [00:00<?, ?it/s…"
      ]
     },
     "metadata": {},
     "output_type": "display_data"
    },
    {
     "data": {
      "application/vnd.jupyter.widget-view+json": {
       "model_id": "fc3a253335814d4d9b7984c289b6475d",
       "version_major": 2,
       "version_minor": 0
      },
      "text/plain": [
       "S1BB_20191119T015258_20200118T015255_VVP060_INT80_G_ueF_FDB2.zip:   0%|          | 0/361128998 [00:00<?, ?it/s…"
      ]
     },
     "metadata": {},
     "output_type": "display_data"
    },
    {
     "data": {
      "application/vnd.jupyter.widget-view+json": {
       "model_id": "864a442eb5e04d7b962ecd3c2686fe8d",
       "version_major": 2,
       "version_minor": 0
      },
      "text/plain": [
       "S1BB_20191002T015258_20191107T015258_VVP036_INT80_G_ueF_0C4F.zip:   0%|          | 0/360585665 [00:00<?, ?it/s…"
      ]
     },
     "metadata": {},
     "output_type": "display_data"
    },
    {
     "data": {
      "application/vnd.jupyter.widget-view+json": {
       "model_id": "89615e27406644508c5215e6a6103637",
       "version_major": 2,
       "version_minor": 0
      },
      "text/plain": [
       "S1BB_20191107T015258_20200106T015256_VVP060_INT80_G_ueF_9D18.zip:   0%|          | 0/362018451 [00:00<?, ?it/s…"
      ]
     },
     "metadata": {},
     "output_type": "display_data"
    },
    {
     "data": {
      "application/vnd.jupyter.widget-view+json": {
       "model_id": "c0a7626caf9848079d9e5a152dba74df",
       "version_major": 2,
       "version_minor": 0
      },
      "text/plain": [
       "S1BB_20191026T015258_20191213T015257_VVP048_INT80_G_ueF_D8A9.zip:   0%|          | 0/358283171 [00:00<?, ?it/s…"
      ]
     },
     "metadata": {},
     "output_type": "display_data"
    },
    {
     "data": {
      "application/vnd.jupyter.widget-view+json": {
       "model_id": "5af28ca4ccd64988a3d8d2a3cb3463d1",
       "version_major": 2,
       "version_minor": 0
      },
      "text/plain": [
       "S1BB_20191026T015258_20191201T015257_VVP036_INT80_G_ueF_39BF.zip:   0%|          | 0/362089316 [00:00<?, ?it/s…"
      ]
     },
     "metadata": {},
     "output_type": "display_data"
    },
    {
     "data": {
      "application/vnd.jupyter.widget-view+json": {
       "model_id": "76d93c8662d44b24bb19a4763437089f",
       "version_major": 2,
       "version_minor": 0
      },
      "text/plain": [
       "S1BB_20190908T015257_20191002T015258_VVP024_INT80_G_ueF_A4F6.zip:   0%|          | 0/360734248 [00:00<?, ?it/s…"
      ]
     },
     "metadata": {},
     "output_type": "display_data"
    },
    {
     "data": {
      "application/vnd.jupyter.widget-view+json": {
       "model_id": "31166fc7204648beb8ba622e930950ff",
       "version_major": 2,
       "version_minor": 0
      },
      "text/plain": [
       "S1BB_20191201T015257_20200106T015256_VVP036_INT80_G_ueF_80F4.zip:   0%|          | 0/362253922 [00:00<?, ?it/s…"
      ]
     },
     "metadata": {},
     "output_type": "display_data"
    },
    {
     "data": {
      "application/vnd.jupyter.widget-view+json": {
       "model_id": "d66633c22da74cfa871c79c6519ed01d",
       "version_major": 2,
       "version_minor": 0
      },
      "text/plain": [
       "S1BB_20191107T015258_20191213T015257_VVP036_INT80_G_ueF_730B.zip:   0%|          | 0/360682491 [00:00<?, ?it/s…"
      ]
     },
     "metadata": {},
     "output_type": "display_data"
    },
    {
     "data": {
      "application/vnd.jupyter.widget-view+json": {
       "model_id": "894a03913ab74b24a2d71fb161471f4e",
       "version_major": 2,
       "version_minor": 0
      },
      "text/plain": [
       "S1BB_20191014T015258_20191213T015257_VVP060_INT80_G_ueF_8BB3.zip:   0%|          | 0/362297838 [00:00<?, ?it/s…"
      ]
     },
     "metadata": {},
     "output_type": "display_data"
    },
    {
     "data": {
      "application/vnd.jupyter.widget-view+json": {
       "model_id": "00fdf52801bb45cf862b45abe3476fda",
       "version_major": 2,
       "version_minor": 0
      },
      "text/plain": [
       "S1BB_20190815T015256_20191014T015258_VVP060_INT80_G_ueF_9915.zip:   0%|          | 0/361367372 [00:00<?, ?it/s…"
      ]
     },
     "metadata": {},
     "output_type": "display_data"
    },
    {
     "data": {
      "application/vnd.jupyter.widget-view+json": {
       "model_id": "e14339fdc6404f77bc92e1f82b9ceedb",
       "version_major": 2,
       "version_minor": 0
      },
      "text/plain": [
       "S1BB_20191201T015257_20200118T015255_VVP048_INT80_G_ueF_F79C.zip:   0%|          | 0/361406713 [00:00<?, ?it/s…"
      ]
     },
     "metadata": {},
     "output_type": "display_data"
    },
    {
     "data": {
      "application/vnd.jupyter.widget-view+json": {
       "model_id": "db9fddc043ec49259a64aba8aa25747a",
       "version_major": 2,
       "version_minor": 0
      },
      "text/plain": [
       "S1BB_20191107T015258_20191201T015257_VVP024_INT80_G_ueF_C0C6.zip:   0%|          | 0/359965380 [00:00<?, ?it/s…"
      ]
     },
     "metadata": {},
     "output_type": "display_data"
    },
    {
     "data": {
      "application/vnd.jupyter.widget-view+json": {
       "model_id": "1514ab56db834562bcd3852f5e157664",
       "version_major": 2,
       "version_minor": 0
      },
      "text/plain": [
       "S1BB_20191002T015258_20191201T015257_VVP060_INT80_G_ueF_17B3.zip:   0%|          | 0/362724579 [00:00<?, ?it/s…"
      ]
     },
     "metadata": {},
     "output_type": "display_data"
    },
    {
     "data": {
      "application/vnd.jupyter.widget-view+json": {
       "model_id": "9e74929e6c8c4150ae700ed68b78aad6",
       "version_major": 2,
       "version_minor": 0
      },
      "text/plain": [
       "S1BB_20191002T015258_20191119T015258_VVP048_INT80_G_ueF_970C.zip:   0%|          | 0/360401724 [00:00<?, ?it/s…"
      ]
     },
     "metadata": {},
     "output_type": "display_data"
    },
    {
     "data": {
      "application/vnd.jupyter.widget-view+json": {
       "model_id": "ab7693480633437ab8f485fd479e5c95",
       "version_major": 2,
       "version_minor": 0
      },
      "text/plain": [
       "S1BB_20190616T015252_20190803T015255_VVP048_INT80_G_ueF_F976.zip:   0%|          | 0/358555850 [00:00<?, ?it/s…"
      ]
     },
     "metadata": {},
     "output_type": "display_data"
    },
    {
     "data": {
      "application/vnd.jupyter.widget-view+json": {
       "model_id": "3a5d7864a958437fb5d680eedbd59bb9",
       "version_major": 2,
       "version_minor": 0
      },
      "text/plain": [
       "S1BB_20190616T015252_20190722T015254_VVP036_INT80_G_ueF_E742.zip:   0%|          | 0/361196621 [00:00<?, ?it/s…"
      ]
     },
     "metadata": {},
     "output_type": "display_data"
    },
    {
     "data": {
      "application/vnd.jupyter.widget-view+json": {
       "model_id": "eac32d8b80fd4e5e84471f87176e02d7",
       "version_major": 2,
       "version_minor": 0
      },
      "text/plain": [
       "S1BB_20190710T015254_20190827T015257_VVP048_INT80_G_ueF_DF01.zip:   0%|          | 0/362045229 [00:00<?, ?it/s…"
      ]
     },
     "metadata": {},
     "output_type": "display_data"
    },
    {
     "data": {
      "application/vnd.jupyter.widget-view+json": {
       "model_id": "2dd841c2ea6b4781aa0a1cc4f759e33e",
       "version_major": 2,
       "version_minor": 0
      },
      "text/plain": [
       "S1BB_20190710T015254_20190908T015257_VVP060_INT80_G_ueF_01BC.zip:   0%|          | 0/362350651 [00:00<?, ?it/s…"
      ]
     },
     "metadata": {},
     "output_type": "display_data"
    },
    {
     "data": {
      "application/vnd.jupyter.widget-view+json": {
       "model_id": "e8d816aaf48f4669abd4c8b01ac14b42",
       "version_major": 2,
       "version_minor": 0
      },
      "text/plain": [
       "S1BB_20190616T015252_20190815T015256_VVP060_INT80_G_ueF_44D0.zip:   0%|          | 0/362855035 [00:00<?, ?it/s…"
      ]
     },
     "metadata": {},
     "output_type": "display_data"
    },
    {
     "data": {
      "application/vnd.jupyter.widget-view+json": {
       "model_id": "95b83041da7d4c6b9ae28750271ab9b7",
       "version_major": 2,
       "version_minor": 0
      },
      "text/plain": [
       "S1BB_20190722T015254_20190815T015256_VVP024_INT80_G_ueF_A9CA.zip:   0%|          | 0/363469885 [00:00<?, ?it/s…"
      ]
     },
     "metadata": {},
     "output_type": "display_data"
    },
    {
     "data": {
      "application/vnd.jupyter.widget-view+json": {
       "model_id": "d560e55da0b1491d8878f3c4ca5dfcd8",
       "version_major": 2,
       "version_minor": 0
      },
      "text/plain": [
       "S1BB_20190523T015251_20190710T015254_VVP048_INT80_G_ueF_E787.zip:   0%|          | 0/362858928 [00:00<?, ?it/s…"
      ]
     },
     "metadata": {},
     "output_type": "display_data"
    },
    {
     "data": {
      "application/vnd.jupyter.widget-view+json": {
       "model_id": "ff80064a99d341938cef846cf8fdf3b5",
       "version_major": 2,
       "version_minor": 0
      },
      "text/plain": [
       "S1BB_20190523T015251_20190616T015252_VVP024_INT80_G_ueF_D496.zip:   0%|          | 0/362792379 [00:00<?, ?it/s…"
      ]
     },
     "metadata": {},
     "output_type": "display_data"
    },
    {
     "data": {
      "application/vnd.jupyter.widget-view+json": {
       "model_id": "dd10d0629f8d421a9d4c194ac3257e69",
       "version_major": 2,
       "version_minor": 0
      },
      "text/plain": [
       "S1BB_20190722T015254_20190908T015257_VVP048_INT80_G_ueF_9664.zip:   0%|          | 0/359685212 [00:00<?, ?it/s…"
      ]
     },
     "metadata": {},
     "output_type": "display_data"
    },
    {
     "data": {
      "application/vnd.jupyter.widget-view+json": {
       "model_id": "f8479cde77ca40429b09e42257b35321",
       "version_major": 2,
       "version_minor": 0
      },
      "text/plain": [
       "S1BB_20190511T015250_20190628T015253_VVP048_INT80_G_ueF_A762.zip:   0%|          | 0/358781302 [00:00<?, ?it/s…"
      ]
     },
     "metadata": {},
     "output_type": "display_data"
    },
    {
     "data": {
      "application/vnd.jupyter.widget-view+json": {
       "model_id": "d0f2f028815f43c28b1751c606679406",
       "version_major": 2,
       "version_minor": 0
      },
      "text/plain": [
       "S1BB_20190628T015253_20190722T015254_VVP024_INT80_G_ueF_721A.zip:   0%|          | 0/363968404 [00:00<?, ?it/s…"
      ]
     },
     "metadata": {},
     "output_type": "display_data"
    },
    {
     "data": {
      "application/vnd.jupyter.widget-view+json": {
       "model_id": "dce83d25525142898f6032ae6c8d9b4c",
       "version_major": 2,
       "version_minor": 0
      },
      "text/plain": [
       "S1BB_20190628T015253_20190803T015255_VVP036_INT80_G_ueF_45D2.zip:   0%|          | 0/360348375 [00:00<?, ?it/s…"
      ]
     },
     "metadata": {},
     "output_type": "display_data"
    },
    {
     "data": {
      "application/vnd.jupyter.widget-view+json": {
       "model_id": "f67ef69f1b9b426abd4c3119b3439428",
       "version_major": 2,
       "version_minor": 0
      },
      "text/plain": [
       "S1BB_20190815T015256_20191002T015258_VVP048_INT80_G_ueF_618F.zip:   0%|          | 0/361806510 [00:00<?, ?it/s…"
      ]
     },
     "metadata": {},
     "output_type": "display_data"
    },
    {
     "data": {
      "application/vnd.jupyter.widget-view+json": {
       "model_id": "3fda169bf432445190caa365a2619cac",
       "version_major": 2,
       "version_minor": 0
      },
      "text/plain": [
       "S1BB_20190628T015253_20190815T015256_VVP048_INT80_G_ueF_E425.zip:   0%|          | 0/359596795 [00:00<?, ?it/s…"
      ]
     },
     "metadata": {},
     "output_type": "display_data"
    },
    {
     "data": {
      "application/vnd.jupyter.widget-view+json": {
       "model_id": "1e008d4d77a842cf862699da7d848c76",
       "version_major": 2,
       "version_minor": 0
      },
      "text/plain": [
       "S1BB_20190511T015250_20190616T015252_VVP036_INT80_G_ueF_69C0.zip:   0%|          | 0/362210304 [00:00<?, ?it/s…"
      ]
     },
     "metadata": {},
     "output_type": "display_data"
    },
    {
     "data": {
      "application/vnd.jupyter.widget-view+json": {
       "model_id": "b2ddf04abfa94deda4a080dabbd187bd",
       "version_major": 2,
       "version_minor": 0
      },
      "text/plain": [
       "S1BB_20190628T015253_20190827T015257_VVP060_INT80_G_ueF_9553.zip:   0%|          | 0/362240055 [00:00<?, ?it/s…"
      ]
     },
     "metadata": {},
     "output_type": "display_data"
    },
    {
     "data": {
      "application/vnd.jupyter.widget-view+json": {
       "model_id": "bbb145b680824414815abac50956d173",
       "version_major": 2,
       "version_minor": 0
      },
      "text/plain": [
       "S1BB_20190523T015251_20190628T015253_VVP036_INT80_G_ueF_9936.zip:   0%|          | 0/364877690 [00:00<?, ?it/s…"
      ]
     },
     "metadata": {},
     "output_type": "display_data"
    },
    {
     "data": {
      "application/vnd.jupyter.widget-view+json": {
       "model_id": "d3210682f4b04f07b4bfc720e30ce631",
       "version_major": 2,
       "version_minor": 0
      },
      "text/plain": [
       "S1BB_20190523T015251_20190722T015254_VVP060_INT80_G_ueF_38D6.zip:   0%|          | 0/362671611 [00:00<?, ?it/s…"
      ]
     },
     "metadata": {},
     "output_type": "display_data"
    },
    {
     "data": {
      "application/vnd.jupyter.widget-view+json": {
       "model_id": "8fd72cc1e2934e789d90cff68dc587be",
       "version_major": 2,
       "version_minor": 0
      },
      "text/plain": [
       "S1BB_20190511T015250_20190710T015254_VVP060_INT80_G_ueF_BAC0.zip:   0%|          | 0/360867442 [00:00<?, ?it/s…"
      ]
     },
     "metadata": {},
     "output_type": "display_data"
    },
    {
     "data": {
      "application/vnd.jupyter.widget-view+json": {
       "model_id": "7d1e3875125a4c46833f8e5653f842b4",
       "version_major": 2,
       "version_minor": 0
      },
      "text/plain": [
       "S1BB_20190722T015254_20190827T015257_VVP036_INT80_G_ueF_225A.zip:   0%|          | 0/359194605 [00:00<?, ?it/s…"
      ]
     },
     "metadata": {},
     "output_type": "display_data"
    },
    {
     "data": {
      "application/vnd.jupyter.widget-view+json": {
       "model_id": "77fe7319135d43f9acb6cb38ebc1f0e4",
       "version_major": 2,
       "version_minor": 0
      },
      "text/plain": [
       "S1BB_20190312T015248_20190511T015250_VVP060_INT80_G_ueF_67ED.zip:   0%|          | 0/361782760 [00:00<?, ?it/s…"
      ]
     },
     "metadata": {},
     "output_type": "display_data"
    },
    {
     "data": {
      "application/vnd.jupyter.widget-view+json": {
       "model_id": "36b16b6003f14512b7ed0d5b934dd014",
       "version_major": 2,
       "version_minor": 0
      },
      "text/plain": [
       "S1BB_20190324T015249_20190417T015249_VVP024_INT80_G_ueF_3757.zip:   0%|          | 0/358175755 [00:00<?, ?it/s…"
      ]
     },
     "metadata": {},
     "output_type": "display_data"
    },
    {
     "data": {
      "application/vnd.jupyter.widget-view+json": {
       "model_id": "41c3e8c0b66c4b64a63e4933bf1f7c31",
       "version_major": 2,
       "version_minor": 0
      },
      "text/plain": [
       "S1BB_20181230T015250_20190123T015249_VVP024_INT80_G_ueF_0C5D.zip:   0%|          | 0/363703394 [00:00<?, ?it/s…"
      ]
     },
     "metadata": {},
     "output_type": "display_data"
    },
    {
     "data": {
      "application/vnd.jupyter.widget-view+json": {
       "model_id": "6806da5ddeda40f5ace99f82d7c7d592",
       "version_major": 2,
       "version_minor": 0
      },
      "text/plain": [
       "S1BB_20190123T015249_20190324T015249_VVP060_INT80_G_ueF_4821.zip:   0%|          | 0/363363503 [00:00<?, ?it/s…"
      ]
     },
     "metadata": {},
     "output_type": "display_data"
    },
    {
     "data": {
      "application/vnd.jupyter.widget-view+json": {
       "model_id": "b25069d0fc084e52a1b4361ae3358f69",
       "version_major": 2,
       "version_minor": 0
      },
      "text/plain": [
       "S1BB_20190312T015248_20190429T015250_VVP048_INT80_G_ueF_663C.zip:   0%|          | 0/363900186 [00:00<?, ?it/s…"
      ]
     },
     "metadata": {},
     "output_type": "display_data"
    },
    {
     "data": {
      "application/vnd.jupyter.widget-view+json": {
       "model_id": "3c006a3fc8d74d91a0dd8aed4afb3091",
       "version_major": 2,
       "version_minor": 0
      },
      "text/plain": [
       "S1BB_20180703T015247_20180727T015249_VVP024_INT80_G_ueF_1D1B.zip:   0%|          | 0/362863564 [00:00<?, ?it/s…"
      ]
     },
     "metadata": {},
     "output_type": "display_data"
    },
    {
     "data": {
      "application/vnd.jupyter.widget-view+json": {
       "model_id": "18b1d901c0234443bef94f83c6e4b53f",
       "version_major": 2,
       "version_minor": 0
      },
      "text/plain": [
       "S1BB_20190417T015249_20190523T015251_VVP036_INT80_G_ueF_201C.zip:   0%|          | 0/364566946 [00:00<?, ?it/s…"
      ]
     },
     "metadata": {},
     "output_type": "display_data"
    },
    {
     "data": {
      "application/vnd.jupyter.widget-view+json": {
       "model_id": "ce9799580bd6499eb1492f67a9760a5b",
       "version_major": 2,
       "version_minor": 0
      },
      "text/plain": [
       "S1BB_20190324T015249_20190523T015251_VVP060_INT80_G_ueF_3F32.zip:   0%|          | 0/360234858 [00:00<?, ?it/s…"
      ]
     },
     "metadata": {},
     "output_type": "display_data"
    },
    {
     "data": {
      "application/vnd.jupyter.widget-view+json": {
       "model_id": "b95b8890821a481e918ef37e7d001beb",
       "version_major": 2,
       "version_minor": 0
      },
      "text/plain": [
       "S1BB_20190429T015250_20190523T015251_VVP024_INT80_G_ueF_5C10.zip:   0%|          | 0/361673714 [00:00<?, ?it/s…"
      ]
     },
     "metadata": {},
     "output_type": "display_data"
    },
    {
     "data": {
      "application/vnd.jupyter.widget-view+json": {
       "model_id": "dd783d5b82a94567ac7e6457b942b2a0",
       "version_major": 2,
       "version_minor": 0
      },
      "text/plain": [
       "S1BB_20190111T015250_20190312T015248_VVP060_INT80_G_ueF_699A.zip:   0%|          | 0/364977649 [00:00<?, ?it/s…"
      ]
     },
     "metadata": {},
     "output_type": "display_data"
    },
    {
     "data": {
      "application/vnd.jupyter.widget-view+json": {
       "model_id": "270878f0c108453597368c1aa4de9a16",
       "version_major": 2,
       "version_minor": 0
      },
      "text/plain": [
       "S1BB_20190312T015248_20190405T015249_VVP024_INT80_G_ueF_54D6.zip:   0%|          | 0/363679980 [00:00<?, ?it/s…"
      ]
     },
     "metadata": {},
     "output_type": "display_data"
    },
    {
     "data": {
      "application/vnd.jupyter.widget-view+json": {
       "model_id": "504f545705fc4102b0b0b3fcb132e32f",
       "version_major": 2,
       "version_minor": 0
      },
      "text/plain": [
       "S1BB_20190123T015249_20190312T015248_VVP048_INT80_G_ueF_5091.zip:   0%|          | 0/361835099 [00:00<?, ?it/s…"
      ]
     },
     "metadata": {},
     "output_type": "display_data"
    },
    {
     "data": {
      "application/vnd.jupyter.widget-view+json": {
       "model_id": "9116d5bed4fd48508b4371e25682a63e",
       "version_major": 2,
       "version_minor": 0
      },
      "text/plain": [
       "S1BB_20180727T015249_20180925T015251_VVP060_INT80_G_ueF_B8E5.zip:   0%|          | 0/304644526 [00:00<?, ?it/s…"
      ]
     },
     "metadata": {},
     "output_type": "display_data"
    },
    {
     "data": {
      "application/vnd.jupyter.widget-view+json": {
       "model_id": "dfd120482e654ee0b802e90685952d0e",
       "version_major": 2,
       "version_minor": 0
      },
      "text/plain": [
       "S1BB_20190417T015249_20190616T015252_VVP060_INT80_G_ueF_AFA4.zip:   0%|          | 0/363510039 [00:00<?, ?it/s…"
      ]
     },
     "metadata": {},
     "output_type": "display_data"
    },
    {
     "data": {
      "application/vnd.jupyter.widget-view+json": {
       "model_id": "2adf36cf5e43447b83126408c07ef4c3",
       "version_major": 2,
       "version_minor": 0
      },
      "text/plain": [
       "S1BB_20190405T015249_20190523T015251_VVP048_INT80_G_ueF_FFA1.zip:   0%|          | 0/364268668 [00:00<?, ?it/s…"
      ]
     },
     "metadata": {},
     "output_type": "display_data"
    },
    {
     "data": {
      "application/vnd.jupyter.widget-view+json": {
       "model_id": "96758450481d4ac3a6d403749afd9d4a",
       "version_major": 2,
       "version_minor": 0
      },
      "text/plain": [
       "S1BB_20190405T015249_20190511T015250_VVP036_INT80_G_ueF_E9E0.zip:   0%|          | 0/359524390 [00:00<?, ?it/s…"
      ]
     },
     "metadata": {},
     "output_type": "display_data"
    },
    {
     "data": {
      "application/vnd.jupyter.widget-view+json": {
       "model_id": "dda692773cf348c98969e45a01beb3c7",
       "version_major": 2,
       "version_minor": 0
      },
      "text/plain": [
       "S1BB_20190312T015248_20190417T015249_VVP036_INT80_G_ueF_263B.zip:   0%|          | 0/363584475 [00:00<?, ?it/s…"
      ]
     },
     "metadata": {},
     "output_type": "display_data"
    },
    {
     "data": {
      "application/vnd.jupyter.widget-view+json": {
       "model_id": "d8d50f98360c40ea9faf5a3bf70d6e6a",
       "version_major": 2,
       "version_minor": 0
      },
      "text/plain": [
       "S1BB_20190324T015249_20190511T015250_VVP048_INT80_G_ueF_B286.zip:   0%|          | 0/359296451 [00:00<?, ?it/s…"
      ]
     },
     "metadata": {},
     "output_type": "display_data"
    },
    {
     "data": {
      "application/vnd.jupyter.widget-view+json": {
       "model_id": "57e01ee7bde84901a480ab2c33c5bb5a",
       "version_major": 2,
       "version_minor": 0
      },
      "text/plain": [
       "S1BB_20190429T015250_20190628T015253_VVP060_INT80_G_ueF_8704.zip:   0%|          | 0/363411800 [00:00<?, ?it/s…"
      ]
     },
     "metadata": {},
     "output_type": "display_data"
    },
    {
     "data": {
      "application/vnd.jupyter.widget-view+json": {
       "model_id": "511b66de35e14463b97ae96b301a2cd3",
       "version_major": 2,
       "version_minor": 0
      },
      "text/plain": [
       "S1BB_20190417T015249_20190511T015250_VVP024_INT80_G_ueF_40E5.zip:   0%|          | 0/360791906 [00:00<?, ?it/s…"
      ]
     },
     "metadata": {},
     "output_type": "display_data"
    },
    {
     "data": {
      "application/vnd.jupyter.widget-view+json": {
       "model_id": "640722759df846e99017a863beea1d45",
       "version_major": 2,
       "version_minor": 0
      },
      "text/plain": [
       "S1BB_20180621T015246_20180715T015248_VVP024_INT80_G_ueF_6438.zip:   0%|          | 0/361566399 [00:00<?, ?it/s…"
      ]
     },
     "metadata": {},
     "output_type": "display_data"
    },
    {
     "data": {
      "application/vnd.jupyter.widget-view+json": {
       "model_id": "38a49f9498ec428fab6d90c85879e5fe",
       "version_major": 2,
       "version_minor": 0
      },
      "text/plain": [
       "S1BB_20180621T015246_20180727T015249_VVP036_INT80_G_ueF_3746.zip:   0%|          | 0/363321673 [00:00<?, ?it/s…"
      ]
     },
     "metadata": {},
     "output_type": "display_data"
    },
    {
     "data": {
      "application/vnd.jupyter.widget-view+json": {
       "model_id": "74ad33848df843ecb185dc30cb7cd87a",
       "version_major": 2,
       "version_minor": 0
      },
      "text/plain": [
       "S1BB_20180528T015245_20180621T015246_VVP024_INT80_G_ueF_3CA2.zip:   0%|          | 0/363151307 [00:00<?, ?it/s…"
      ]
     },
     "metadata": {},
     "output_type": "display_data"
    },
    {
     "data": {
      "application/vnd.jupyter.widget-view+json": {
       "model_id": "c7171cee980d44f488fee96f0cbf5907",
       "version_major": 2,
       "version_minor": 0
      },
      "text/plain": [
       "S1BB_20180516T015244_20180609T015246_VVP024_INT80_G_ueF_51D1.zip:   0%|          | 0/361970237 [00:00<?, ?it/s…"
      ]
     },
     "metadata": {},
     "output_type": "display_data"
    },
    {
     "data": {
      "application/vnd.jupyter.widget-view+json": {
       "model_id": "17cec7da41294262ac27be746bdddf3d",
       "version_major": 2,
       "version_minor": 0
      },
      "text/plain": [
       "S1BB_20180504T015244_20180609T015246_VVP036_INT80_G_ueF_3202.zip:   0%|          | 0/362515336 [00:00<?, ?it/s…"
      ]
     },
     "metadata": {},
     "output_type": "display_data"
    },
    {
     "data": {
      "application/vnd.jupyter.widget-view+json": {
       "model_id": "3ebc5f7301374fe99bd23943f3451d29",
       "version_major": 2,
       "version_minor": 0
      },
      "text/plain": [
       "S1BB_20180504T015244_20180621T015246_VVP048_INT80_G_ueF_CB79.zip:   0%|          | 0/364633478 [00:00<?, ?it/s…"
      ]
     },
     "metadata": {},
     "output_type": "display_data"
    },
    {
     "data": {
      "application/vnd.jupyter.widget-view+json": {
       "model_id": "432915144e4d46078b3a9039d9a3d038",
       "version_major": 2,
       "version_minor": 0
      },
      "text/plain": [
       "S1BB_20180422T015243_20180528T015245_VVP036_INT80_G_ueF_E549.zip:   0%|          | 0/364374343 [00:00<?, ?it/s…"
      ]
     },
     "metadata": {},
     "output_type": "display_data"
    },
    {
     "data": {
      "application/vnd.jupyter.widget-view+json": {
       "model_id": "baf1f151ca3b425fa94013abc974a1b5",
       "version_major": 2,
       "version_minor": 0
      },
      "text/plain": [
       "S1BB_20180528T015245_20180727T015249_VVP060_INT80_G_ueF_FB95.zip:   0%|          | 0/363872705 [00:00<?, ?it/s…"
      ]
     },
     "metadata": {},
     "output_type": "display_data"
    },
    {
     "data": {
      "application/vnd.jupyter.widget-view+json": {
       "model_id": "1681185b6b034d51a13bfdbb5876aa7b",
       "version_major": 2,
       "version_minor": 0
      },
      "text/plain": [
       "S1BB_20180422T015243_20180516T015244_VVP024_INT80_G_ueF_8DC9.zip:   0%|          | 0/359442906 [00:00<?, ?it/s…"
      ]
     },
     "metadata": {},
     "output_type": "display_data"
    },
    {
     "data": {
      "application/vnd.jupyter.widget-view+json": {
       "model_id": "03b174e3c5f345f49dbb217b10521723",
       "version_major": 2,
       "version_minor": 0
      },
      "text/plain": [
       "S1BB_20180516T015244_20180621T015246_VVP036_INT80_G_ueF_AB0E.zip:   0%|          | 0/361352626 [00:00<?, ?it/s…"
      ]
     },
     "metadata": {},
     "output_type": "display_data"
    },
    {
     "data": {
      "application/vnd.jupyter.widget-view+json": {
       "model_id": "da4fbc38147b425db46b179e30afc082",
       "version_major": 2,
       "version_minor": 0
      },
      "text/plain": [
       "S1BB_20180528T015245_20180715T015248_VVP048_INT80_G_ueF_7B5A.zip:   0%|          | 0/360261075 [00:00<?, ?it/s…"
      ]
     },
     "metadata": {},
     "output_type": "display_data"
    },
    {
     "data": {
      "application/vnd.jupyter.widget-view+json": {
       "model_id": "35d3f58337064d93afad8b16618521d5",
       "version_major": 2,
       "version_minor": 0
      },
      "text/plain": [
       "S1BB_20180422T015243_20180621T015246_VVP060_INT80_G_ueF_E51B.zip:   0%|          | 0/364451769 [00:00<?, ?it/s…"
      ]
     },
     "metadata": {},
     "output_type": "display_data"
    },
    {
     "data": {
      "application/vnd.jupyter.widget-view+json": {
       "model_id": "e0698bddeddb4f65ab248e5bc441f6f7",
       "version_major": 2,
       "version_minor": 0
      },
      "text/plain": [
       "S1BB_20180422T015243_20180609T015246_VVP048_INT80_G_ueF_CADD.zip:   0%|          | 0/363429524 [00:00<?, ?it/s…"
      ]
     },
     "metadata": {},
     "output_type": "display_data"
    },
    {
     "data": {
      "application/vnd.jupyter.widget-view+json": {
       "model_id": "aa26e261091c4df988dde0b7a2315797",
       "version_major": 2,
       "version_minor": 0
      },
      "text/plain": [
       "S1BB_20180504T015244_20180528T015245_VVP024_INT80_G_ueF_E9F9.zip:   0%|          | 0/362621102 [00:00<?, ?it/s…"
      ]
     },
     "metadata": {},
     "output_type": "display_data"
    },
    {
     "data": {
      "application/vnd.jupyter.widget-view+json": {
       "model_id": "6c4750b64e924ee4a6e8d2e8092baa84",
       "version_major": 2,
       "version_minor": 0
      },
      "text/plain": [
       "S1BB_20180609T015246_20180703T015247_VVP024_INT80_G_ueF_4C7F.zip:   0%|          | 0/363503592 [00:00<?, ?it/s…"
      ]
     },
     "metadata": {},
     "output_type": "display_data"
    },
    {
     "data": {
      "application/vnd.jupyter.widget-view+json": {
       "model_id": "5815392ca7cf453dbc123347084416a7",
       "version_major": 2,
       "version_minor": 0
      },
      "text/plain": [
       "S1BB_20180516T015244_20180703T015247_VVP048_INT80_G_ueF_9CB2.zip:   0%|          | 0/361437254 [00:00<?, ?it/s…"
      ]
     },
     "metadata": {},
     "output_type": "display_data"
    },
    {
     "data": {
      "application/vnd.jupyter.widget-view+json": {
       "model_id": "570de6cffe33446484fe1cb0ab8d5b84",
       "version_major": 2,
       "version_minor": 0
      },
      "text/plain": [
       "S1BB_20180609T015246_20180727T015249_VVP048_INT80_G_ueF_CA58.zip:   0%|          | 0/363279583 [00:00<?, ?it/s…"
      ]
     },
     "metadata": {},
     "output_type": "display_data"
    },
    {
     "data": {
      "application/vnd.jupyter.widget-view+json": {
       "model_id": "a5a3c2af2eef4f6e9e3fde59bf4fd4a1",
       "version_major": 2,
       "version_minor": 0
      },
      "text/plain": [
       "S1BB_20180528T015245_20180703T015247_VVP036_INT80_G_ueF_00E1.zip:   0%|          | 0/362651326 [00:00<?, ?it/s…"
      ]
     },
     "metadata": {},
     "output_type": "display_data"
    },
    {
     "data": {
      "application/vnd.jupyter.widget-view+json": {
       "model_id": "1550f73d09b54d7586727feddcc455f9",
       "version_major": 2,
       "version_minor": 0
      },
      "text/plain": [
       "S1BB_20180516T015244_20180715T015248_VVP060_INT80_G_ueF_FA3E.zip:   0%|          | 0/360970545 [00:00<?, ?it/s…"
      ]
     },
     "metadata": {},
     "output_type": "display_data"
    },
    {
     "data": {
      "application/vnd.jupyter.widget-view+json": {
       "model_id": "562865ddd5584ffe8a896fdc71a6edd6",
       "version_major": 2,
       "version_minor": 0
      },
      "text/plain": [
       "S1BB_20180504T015244_20180703T015247_VVP060_INT80_G_ueF_F5B6.zip:   0%|          | 0/364497078 [00:00<?, ?it/s…"
      ]
     },
     "metadata": {},
     "output_type": "display_data"
    },
    {
     "data": {
      "application/vnd.jupyter.widget-view+json": {
       "model_id": "35b86fde7de64a958de06300909d83da",
       "version_major": 2,
       "version_minor": 0
      },
      "text/plain": [
       "S1BB_20180116T015243_20180305T015242_VVP048_INT80_G_ueF_852F.zip:   0%|          | 0/362024449 [00:00<?, ?it/s…"
      ]
     },
     "metadata": {},
     "output_type": "display_data"
    },
    {
     "data": {
      "application/vnd.jupyter.widget-view+json": {
       "model_id": "3dbd5a9c1bf549d5b11de00bf747d809",
       "version_major": 2,
       "version_minor": 0
      },
      "text/plain": [
       "S1BB_20180317T015242_20180504T015244_VVP048_INT80_G_ueF_F92D.zip:   0%|          | 0/362931598 [00:00<?, ?it/s…"
      ]
     },
     "metadata": {},
     "output_type": "display_data"
    },
    {
     "data": {
      "application/vnd.jupyter.widget-view+json": {
       "model_id": "9162c0e5a2014867a2450d21211bec1c",
       "version_major": 2,
       "version_minor": 0
      },
      "text/plain": [
       "S1BB_20180317T015242_20180422T015243_VVP036_INT80_G_ueF_2E5D.zip:   0%|          | 0/361038912 [00:00<?, ?it/s…"
      ]
     },
     "metadata": {},
     "output_type": "display_data"
    },
    {
     "data": {
      "application/vnd.jupyter.widget-view+json": {
       "model_id": "a478bb3a33e44e4d98966a7c542eabbd",
       "version_major": 2,
       "version_minor": 0
      },
      "text/plain": [
       "S1BB_20180128T015242_20180317T015242_VVP048_INT80_G_ueF_5636.zip:   0%|          | 0/358566110 [00:00<?, ?it/s…"
      ]
     },
     "metadata": {},
     "output_type": "display_data"
    },
    {
     "data": {
      "application/vnd.jupyter.widget-view+json": {
       "model_id": "0dfb94b9d7cd48c4a569cd0c7db98edb",
       "version_major": 2,
       "version_minor": 0
      },
      "text/plain": [
       "S1BB_20180209T015242_20180410T015243_VVP060_INT80_G_ueF_CCCD.zip:   0%|          | 0/363177351 [00:00<?, ?it/s…"
      ]
     },
     "metadata": {},
     "output_type": "display_data"
    },
    {
     "data": {
      "application/vnd.jupyter.widget-view+json": {
       "model_id": "d874ab924e834589b86a5168b46c7e2b",
       "version_major": 2,
       "version_minor": 0
      },
      "text/plain": [
       "S1BB_20180104T015243_20180209T015242_VVP036_INT80_G_ueF_179D.zip:   0%|          | 0/362841217 [00:00<?, ?it/s…"
      ]
     },
     "metadata": {},
     "output_type": "display_data"
    },
    {
     "data": {
      "application/vnd.jupyter.widget-view+json": {
       "model_id": "a351879f93754909908e9f58f608a9c9",
       "version_major": 2,
       "version_minor": 0
      },
      "text/plain": [
       "S1BB_20180116T015243_20180317T015242_VVP060_INT80_G_ueF_D8EA.zip:   0%|          | 0/363434474 [00:00<?, ?it/s…"
      ]
     },
     "metadata": {},
     "output_type": "display_data"
    },
    {
     "data": {
      "application/vnd.jupyter.widget-view+json": {
       "model_id": "26c53e9a08ad40d4bb55fef13654e146",
       "version_major": 2,
       "version_minor": 0
      },
      "text/plain": [
       "S1BB_20180410T015243_20180504T015244_VVP024_INT80_G_ueF_13DB.zip:   0%|          | 0/359862421 [00:00<?, ?it/s…"
      ]
     },
     "metadata": {},
     "output_type": "display_data"
    },
    {
     "data": {
      "application/vnd.jupyter.widget-view+json": {
       "model_id": "d777c45589b349ca9aa1c72054cddb6a",
       "version_major": 2,
       "version_minor": 0
      },
      "text/plain": [
       "S1BB_20180209T015242_20180317T015242_VVP036_INT80_G_ueF_3145.zip:   0%|          | 0/363219275 [00:00<?, ?it/s…"
      ]
     },
     "metadata": {},
     "output_type": "display_data"
    },
    {
     "data": {
      "application/vnd.jupyter.widget-view+json": {
       "model_id": "049f0900f95b4c1c90f28fd6566ac6b6",
       "version_major": 2,
       "version_minor": 0
      },
      "text/plain": [
       "S1BB_20180410T015243_20180609T015246_VVP060_INT80_G_ueF_07A5.zip:   0%|          | 0/361036836 [00:00<?, ?it/s…"
      ]
     },
     "metadata": {},
     "output_type": "display_data"
    },
    {
     "data": {
      "application/vnd.jupyter.widget-view+json": {
       "model_id": "8b9fa048cbd541fa855093b84f9f0ae5",
       "version_major": 2,
       "version_minor": 0
      },
      "text/plain": [
       "S1BB_20180410T015243_20180528T015245_VVP048_INT80_G_ueF_C023.zip:   0%|          | 0/362517134 [00:00<?, ?it/s…"
      ]
     },
     "metadata": {},
     "output_type": "display_data"
    },
    {
     "data": {
      "application/vnd.jupyter.widget-view+json": {
       "model_id": "6b765944aeaf4bf78be699bd455e7e93",
       "version_major": 2,
       "version_minor": 0
      },
      "text/plain": [
       "S1BB_20171223T015244_20180209T015242_VVP048_INT80_G_ueF_49D1.zip:   0%|          | 0/360786480 [00:00<?, ?it/s…"
      ]
     },
     "metadata": {},
     "output_type": "display_data"
    },
    {
     "data": {
      "application/vnd.jupyter.widget-view+json": {
       "model_id": "9a5d12eebce047ff9125785090e5b361",
       "version_major": 2,
       "version_minor": 0
      },
      "text/plain": [
       "S1BB_20180116T015243_20180209T015242_VVP024_INT80_G_ueF_ABB6.zip:   0%|          | 0/362524590 [00:00<?, ?it/s…"
      ]
     },
     "metadata": {},
     "output_type": "display_data"
    },
    {
     "data": {
      "application/vnd.jupyter.widget-view+json": {
       "model_id": "55e25816e34146c090a8a32f79c8c4b7",
       "version_major": 2,
       "version_minor": 0
      },
      "text/plain": [
       "S1BB_20180104T015243_20180128T015242_VVP024_INT80_G_ueF_57DB.zip:   0%|          | 0/361654987 [00:00<?, ?it/s…"
      ]
     },
     "metadata": {},
     "output_type": "display_data"
    },
    {
     "data": {
      "application/vnd.jupyter.widget-view+json": {
       "model_id": "2b235ed1d2de4a3784671e473344bc94",
       "version_major": 2,
       "version_minor": 0
      },
      "text/plain": [
       "S1BB_20180305T015242_20180422T015243_VVP048_INT80_G_ueF_F6A3.zip:   0%|          | 0/363162092 [00:00<?, ?it/s…"
      ]
     },
     "metadata": {},
     "output_type": "display_data"
    },
    {
     "data": {
      "application/vnd.jupyter.widget-view+json": {
       "model_id": "9f28bd94673540e0bd0d8c26a81ec683",
       "version_major": 2,
       "version_minor": 0
      },
      "text/plain": [
       "S1BB_20180305T015242_20180410T015243_VVP036_INT80_G_ueF_15F7.zip:   0%|          | 0/361509980 [00:00<?, ?it/s…"
      ]
     },
     "metadata": {},
     "output_type": "display_data"
    },
    {
     "data": {
      "application/vnd.jupyter.widget-view+json": {
       "model_id": "c6f6405117e4427abc10495ceaf2147d",
       "version_major": 2,
       "version_minor": 0
      },
      "text/plain": [
       "S1BB_20180209T015242_20180305T015242_VVP024_INT80_G_ueF_7A1B.zip:   0%|          | 0/362597610 [00:00<?, ?it/s…"
      ]
     },
     "metadata": {},
     "output_type": "display_data"
    },
    {
     "data": {
      "application/vnd.jupyter.widget-view+json": {
       "model_id": "af00e593c0b2485589af9c9d826df3c0",
       "version_major": 2,
       "version_minor": 0
      },
      "text/plain": [
       "S1BB_20180305T015242_20180504T015244_VVP060_INT80_G_ueF_43B1.zip:   0%|          | 0/362301141 [00:00<?, ?it/s…"
      ]
     },
     "metadata": {},
     "output_type": "display_data"
    },
    {
     "data": {
      "application/vnd.jupyter.widget-view+json": {
       "model_id": "d958197e34dc4b2f856bcdbb040e4416",
       "version_major": 2,
       "version_minor": 0
      },
      "text/plain": [
       "S1BB_20180317T015242_20180516T015244_VVP060_INT80_G_ueF_3AA8.zip:   0%|          | 0/361007243 [00:00<?, ?it/s…"
      ]
     },
     "metadata": {},
     "output_type": "display_data"
    },
    {
     "data": {
      "application/vnd.jupyter.widget-view+json": {
       "model_id": "4bd4caf565284500a6a6ee970f91b949",
       "version_major": 2,
       "version_minor": 0
      },
      "text/plain": [
       "S1BB_20180128T015242_20180305T015242_VVP036_INT80_G_ueF_09C1.zip:   0%|          | 0/357157737 [00:00<?, ?it/s…"
      ]
     },
     "metadata": {},
     "output_type": "display_data"
    },
    {
     "data": {
      "application/vnd.jupyter.widget-view+json": {
       "model_id": "8459d0f429854029909c592f0e2ba6df",
       "version_major": 2,
       "version_minor": 0
      },
      "text/plain": [
       "S1BB_20171129T015245_20180104T015243_VVP036_INT80_G_ueF_77D9.zip:   0%|          | 0/361029182 [00:00<?, ?it/s…"
      ]
     },
     "metadata": {},
     "output_type": "display_data"
    },
    {
     "data": {
      "application/vnd.jupyter.widget-view+json": {
       "model_id": "3f448063e7294eec8e371fa113d87a47",
       "version_major": 2,
       "version_minor": 0
      },
      "text/plain": [
       "S1BB_20171024T015245_20171223T015244_VVP060_INT80_G_ueF_B2B6.zip:   0%|          | 0/359509645 [00:00<?, ?it/s…"
      ]
     },
     "metadata": {},
     "output_type": "display_data"
    },
    {
     "data": {
      "application/vnd.jupyter.widget-view+json": {
       "model_id": "8ee9bcaf35bb4c3bb711ef23481b6d85",
       "version_major": 2,
       "version_minor": 0
      },
      "text/plain": [
       "S1BB_20171117T015245_20180116T015243_VVP060_INT80_G_ueF_BD4F.zip:   0%|          | 0/360278322 [00:00<?, ?it/s…"
      ]
     },
     "metadata": {},
     "output_type": "display_data"
    },
    {
     "data": {
      "application/vnd.jupyter.widget-view+json": {
       "model_id": "ee960036f2c24b779b2fd3114e3575f8",
       "version_major": 2,
       "version_minor": 0
      },
      "text/plain": [
       "S1BB_20171223T015244_20180116T015243_VVP024_INT80_G_ueF_A002.zip:   0%|          | 0/358164211 [00:00<?, ?it/s…"
      ]
     },
     "metadata": {},
     "output_type": "display_data"
    },
    {
     "data": {
      "application/vnd.jupyter.widget-view+json": {
       "model_id": "566d531d43bf480695b5fa67f1499763",
       "version_major": 2,
       "version_minor": 0
      },
      "text/plain": [
       "S1BB_20171211T015244_20180209T015242_VVP060_INT80_G_ueF_E38C.zip:   0%|          | 0/362096248 [00:00<?, ?it/s…"
      ]
     },
     "metadata": {},
     "output_type": "display_data"
    },
    {
     "data": {
      "application/vnd.jupyter.widget-view+json": {
       "model_id": "2fb553ab3b4e41559d55e0d5622a3188",
       "version_major": 2,
       "version_minor": 0
      },
      "text/plain": [
       "S1BB_20171211T015244_20180116T015243_VVP036_INT80_G_ueF_5F79.zip:   0%|          | 0/358265581 [00:00<?, ?it/s…"
      ]
     },
     "metadata": {},
     "output_type": "display_data"
    },
    {
     "data": {
      "application/vnd.jupyter.widget-view+json": {
       "model_id": "f48018878a6e46f88b9e6930559f7add",
       "version_major": 2,
       "version_minor": 0
      },
      "text/plain": [
       "S1BB_20171129T015245_20180128T015242_VVP060_INT80_G_ueF_8F2D.zip:   0%|          | 0/360659094 [00:00<?, ?it/s…"
      ]
     },
     "metadata": {},
     "output_type": "display_data"
    },
    {
     "data": {
      "application/vnd.jupyter.widget-view+json": {
       "model_id": "21faeae65c334db289319713f00ceda5",
       "version_major": 2,
       "version_minor": 0
      },
      "text/plain": [
       "S1BB_20171223T015244_20180128T015242_VVP036_INT80_G_ueF_8E5E.zip:   0%|          | 0/360394993 [00:00<?, ?it/s…"
      ]
     },
     "metadata": {},
     "output_type": "display_data"
    },
    {
     "data": {
      "application/vnd.jupyter.widget-view+json": {
       "model_id": "e9a26450058b4a62bbfa964ebb1bda3f",
       "version_major": 2,
       "version_minor": 0
      },
      "text/plain": [
       "S1BB_20171024T015245_20171117T015245_VVP024_INT80_G_ueF_3079.zip:   0%|          | 0/361454867 [00:00<?, ?it/s…"
      ]
     },
     "metadata": {},
     "output_type": "display_data"
    },
    {
     "data": {
      "application/vnd.jupyter.widget-view+json": {
       "model_id": "617b73b743fd4dc8841e249025a79f05",
       "version_major": 2,
       "version_minor": 0
      },
      "text/plain": [
       "S1BB_20171129T015245_20171223T015244_VVP024_INT80_G_ueF_192B.zip:   0%|          | 0/358531561 [00:00<?, ?it/s…"
      ]
     },
     "metadata": {},
     "output_type": "display_data"
    },
    {
     "data": {
      "application/vnd.jupyter.widget-view+json": {
       "model_id": "86db6d892c604066b6961bfe5a3f5da6",
       "version_major": 2,
       "version_minor": 0
      },
      "text/plain": [
       "S1BB_20171117T015245_20171211T015244_VVP024_INT80_G_ueF_534E.zip:   0%|          | 0/361121789 [00:00<?, ?it/s…"
      ]
     },
     "metadata": {},
     "output_type": "display_data"
    },
    {
     "data": {
      "application/vnd.jupyter.widget-view+json": {
       "model_id": "cc2efffd2eaa4086bcf021cf0b4b2abf",
       "version_major": 2,
       "version_minor": 0
      },
      "text/plain": [
       "S1BB_20171211T015244_20180128T015242_VVP048_INT80_G_ueF_2763.zip:   0%|          | 0/358303687 [00:00<?, ?it/s…"
      ]
     },
     "metadata": {},
     "output_type": "display_data"
    },
    {
     "data": {
      "application/vnd.jupyter.widget-view+json": {
       "model_id": "c3f4dc884a074c509c1c24602ac1e993",
       "version_major": 2,
       "version_minor": 0
      },
      "text/plain": [
       "S1BB_20171129T015245_20180116T015243_VVP048_INT80_G_ueF_0905.zip:   0%|          | 0/358908155 [00:00<?, ?it/s…"
      ]
     },
     "metadata": {},
     "output_type": "display_data"
    },
    {
     "data": {
      "application/vnd.jupyter.widget-view+json": {
       "model_id": "1e978a3c46fe44bf8f588fb71e4547f5",
       "version_major": 2,
       "version_minor": 0
      },
      "text/plain": [
       "S1BB_20171105T015245_20171129T015245_VVP024_INT80_G_ueF_7C3D.zip:   0%|          | 0/359867322 [00:00<?, ?it/s…"
      ]
     },
     "metadata": {},
     "output_type": "display_data"
    },
    {
     "data": {
      "application/vnd.jupyter.widget-view+json": {
       "model_id": "6b7d662108ae4b79ac1aa412261b3276",
       "version_major": 2,
       "version_minor": 0
      },
      "text/plain": [
       "S1BB_20171024T015245_20171129T015245_VVP036_INT80_G_ueF_50E7.zip:   0%|          | 0/359939497 [00:00<?, ?it/s…"
      ]
     },
     "metadata": {},
     "output_type": "display_data"
    },
    {
     "data": {
      "application/vnd.jupyter.widget-view+json": {
       "model_id": "41744237fe3f46269e638bfc905a2812",
       "version_major": 2,
       "version_minor": 0
      },
      "text/plain": [
       "S1BB_20171024T015245_20171211T015244_VVP048_INT80_G_ueF_5B0F.zip:   0%|          | 0/361837539 [00:00<?, ?it/s…"
      ]
     },
     "metadata": {},
     "output_type": "display_data"
    },
    {
     "data": {
      "application/vnd.jupyter.widget-view+json": {
       "model_id": "1706ccd8bea94e8fa781d4e63212a00c",
       "version_major": 2,
       "version_minor": 0
      },
      "text/plain": [
       "S1BB_20171117T015245_20180104T015243_VVP048_INT80_G_ueF_A889.zip:   0%|          | 0/362851789 [00:00<?, ?it/s…"
      ]
     },
     "metadata": {},
     "output_type": "display_data"
    },
    {
     "data": {
      "application/vnd.jupyter.widget-view+json": {
       "model_id": "6155ff05812541c5aadd72037570d1d5",
       "version_major": 2,
       "version_minor": 0
      },
      "text/plain": [
       "S1BB_20171117T015245_20171223T015244_VVP036_INT80_G_ueF_2CB0.zip:   0%|          | 0/360577190 [00:00<?, ?it/s…"
      ]
     },
     "metadata": {},
     "output_type": "display_data"
    },
    {
     "data": {
      "application/vnd.jupyter.widget-view+json": {
       "model_id": "dc83450ee68840f5bf94f33f1d3cb333",
       "version_major": 2,
       "version_minor": 0
      },
      "text/plain": [
       "S1BB_20171105T015245_20171223T015244_VVP048_INT80_G_ueF_A8FC.zip:   0%|          | 0/359884512 [00:00<?, ?it/s…"
      ]
     },
     "metadata": {},
     "output_type": "display_data"
    },
    {
     "data": {
      "application/vnd.jupyter.widget-view+json": {
       "model_id": "65241f38044e4d7894ec1b326cdcb3aa",
       "version_major": 2,
       "version_minor": 0
      },
      "text/plain": [
       "S1BB_20171105T015245_20180104T015243_VVP060_INT80_G_ueF_7941.zip:   0%|          | 0/363749347 [00:00<?, ?it/s…"
      ]
     },
     "metadata": {},
     "output_type": "display_data"
    },
    {
     "data": {
      "application/vnd.jupyter.widget-view+json": {
       "model_id": "3594d4b9942849378cba39fa493bddd8",
       "version_major": 2,
       "version_minor": 0
      },
      "text/plain": [
       "S1BB_20170930T015245_20171024T015245_VVP024_INT80_G_ueF_5E1C.zip:   0%|          | 0/361933497 [00:00<?, ?it/s…"
      ]
     },
     "metadata": {},
     "output_type": "display_data"
    },
    {
     "data": {
      "application/vnd.jupyter.widget-view+json": {
       "model_id": "d31f380ce87c49249ec72b6c98d47bf0",
       "version_major": 2,
       "version_minor": 0
      },
      "text/plain": [
       "S1BB_20170918T015245_20171024T015245_VVP036_INT80_G_ueF_D460.zip:   0%|          | 0/360724064 [00:00<?, ?it/s…"
      ]
     },
     "metadata": {},
     "output_type": "display_data"
    },
    {
     "data": {
      "application/vnd.jupyter.widget-view+json": {
       "model_id": "9c516340e39b4ccd9ee9b54b9a0b72b3",
       "version_major": 2,
       "version_minor": 0
      },
      "text/plain": [
       "S1BB_20170708T015241_20170825T015244_VVP048_INT80_G_ueF_253D.zip:   0%|          | 0/360909262 [00:00<?, ?it/s…"
      ]
     },
     "metadata": {},
     "output_type": "display_data"
    },
    {
     "data": {
      "application/vnd.jupyter.widget-view+json": {
       "model_id": "1f0f1c27b8674de6918235236fde79fb",
       "version_major": 2,
       "version_minor": 0
      },
      "text/plain": [
       "S1BB_20170626T015240_20170825T015244_VVP060_INT80_G_ueF_F7CC.zip:   0%|          | 0/361898322 [00:00<?, ?it/s…"
      ]
     },
     "metadata": {},
     "output_type": "display_data"
    },
    {
     "data": {
      "application/vnd.jupyter.widget-view+json": {
       "model_id": "f6859de391fc46f7b177103c49ac5916",
       "version_major": 2,
       "version_minor": 0
      },
      "text/plain": [
       "S1BB_20170626T015240_20170801T015242_VVP036_INT80_G_ueF_9B78.zip:   0%|          | 0/361640752 [00:00<?, ?it/s…"
      ]
     },
     "metadata": {},
     "output_type": "display_data"
    },
    {
     "data": {
      "application/vnd.jupyter.widget-view+json": {
       "model_id": "c1b4123316ec40e787698431c1c6f66a",
       "version_major": 2,
       "version_minor": 0
      },
      "text/plain": [
       "S1BB_20170801T015242_20170918T015245_VVP048_INT80_G_ueF_2422.zip:   0%|          | 0/361160962 [00:00<?, ?it/s…"
      ]
     },
     "metadata": {},
     "output_type": "display_data"
    },
    {
     "data": {
      "application/vnd.jupyter.widget-view+json": {
       "model_id": "30bd994751184030bf33c7fb73b62d83",
       "version_major": 2,
       "version_minor": 0
      },
      "text/plain": [
       "S1BB_20170918T015245_20171012T015245_VVP024_INT80_G_ueF_45A6.zip:   0%|          | 0/362233385 [00:00<?, ?it/s…"
      ]
     },
     "metadata": {},
     "output_type": "display_data"
    },
    {
     "data": {
      "application/vnd.jupyter.widget-view+json": {
       "model_id": "1b28cec08f274bb788cdc34a27b971d6",
       "version_major": 2,
       "version_minor": 0
      },
      "text/plain": [
       "S1BB_20170930T015245_20171129T015245_VVP060_INT80_G_ueF_0B7D.zip:   0%|          | 0/363868312 [00:00<?, ?it/s…"
      ]
     },
     "metadata": {},
     "output_type": "display_data"
    },
    {
     "data": {
      "application/vnd.jupyter.widget-view+json": {
       "model_id": "3f9821e79c0f4bbd8e4bc4e7300d60a9",
       "version_major": 2,
       "version_minor": 0
      },
      "text/plain": [
       "S1BB_20170906T015244_20171105T015245_VVP060_INT80_G_ueF_BB0F.zip:   0%|          | 0/360162601 [00:00<?, ?it/s…"
      ]
     },
     "metadata": {},
     "output_type": "display_data"
    },
    {
     "data": {
      "application/vnd.jupyter.widget-view+json": {
       "model_id": "c318db09333341e9924cf322b0f2ecfe",
       "version_major": 2,
       "version_minor": 0
      },
      "text/plain": [
       "S1BB_20170801T015242_20170825T015244_VVP024_INT80_G_ueF_FF10.zip:   0%|          | 0/359437765 [00:00<?, ?it/s…"
      ]
     },
     "metadata": {},
     "output_type": "display_data"
    },
    {
     "data": {
      "application/vnd.jupyter.widget-view+json": {
       "model_id": "3b69337d21a844c0a642df44536df918",
       "version_major": 2,
       "version_minor": 0
      },
      "text/plain": [
       "S1BB_20170708T015241_20170801T015242_VVP024_INT80_G_ueF_BE0B.zip:   0%|          | 0/362742928 [00:00<?, ?it/s…"
      ]
     },
     "metadata": {},
     "output_type": "display_data"
    },
    {
     "data": {
      "application/vnd.jupyter.widget-view+json": {
       "model_id": "b14dccd465084183b18a0f14024f43b1",
       "version_major": 2,
       "version_minor": 0
      },
      "text/plain": [
       "S1BB_20170918T015245_20171105T015245_VVP048_INT80_G_ueF_0D22.zip:   0%|          | 0/362367318 [00:00<?, ?it/s…"
      ]
     },
     "metadata": {},
     "output_type": "display_data"
    },
    {
     "data": {
      "application/vnd.jupyter.widget-view+json": {
       "model_id": "4c8b9145716446cba152f08d4b67e0e0",
       "version_major": 2,
       "version_minor": 0
      },
      "text/plain": [
       "S1BB_20170825T015244_20171024T015245_VVP060_INT80_G_ueF_52E3.zip:   0%|          | 0/361855649 [00:00<?, ?it/s…"
      ]
     },
     "metadata": {},
     "output_type": "display_data"
    },
    {
     "data": {
      "application/vnd.jupyter.widget-view+json": {
       "model_id": "d16ccdd341684befb58b0c31e1194556",
       "version_major": 2,
       "version_minor": 0
      },
      "text/plain": [
       "S1BB_20170918T015245_20171117T015245_VVP060_INT80_G_ueF_44A8.zip:   0%|          | 0/361792195 [00:00<?, ?it/s…"
      ]
     },
     "metadata": {},
     "output_type": "display_data"
    },
    {
     "data": {
      "application/vnd.jupyter.widget-view+json": {
       "model_id": "7e93f4f7bbd94fa0b6c92f6f1ee68c50",
       "version_major": 2,
       "version_minor": 0
      },
      "text/plain": [
       "S1BB_20170825T015244_20170918T015245_VVP024_INT80_G_ueF_DFBF.zip:   0%|          | 0/362835584 [00:00<?, ?it/s…"
      ]
     },
     "metadata": {},
     "output_type": "display_data"
    },
    {
     "data": {
      "application/vnd.jupyter.widget-view+json": {
       "model_id": "c36aab89f7604edfa01a085d94ce2944",
       "version_major": 2,
       "version_minor": 0
      },
      "text/plain": [
       "S1BB_20170801T015242_20170930T015245_VVP060_INT80_G_ueF_D36F.zip:   0%|          | 0/360306438 [00:00<?, ?it/s…"
      ]
     },
     "metadata": {},
     "output_type": "display_data"
    },
    {
     "data": {
      "application/vnd.jupyter.widget-view+json": {
       "model_id": "226bb52f80d94541864ceedb7c720edd",
       "version_major": 2,
       "version_minor": 0
      },
      "text/plain": [
       "S1BB_20170720T015242_20170918T015245_VVP060_INT80_G_ueF_F654.zip:   0%|          | 0/361060780 [00:00<?, ?it/s…"
      ]
     },
     "metadata": {},
     "output_type": "display_data"
    },
    {
     "data": {
      "application/vnd.jupyter.widget-view+json": {
       "model_id": "8f89538702144b01bc816dd2733be047",
       "version_major": 2,
       "version_minor": 0
      },
      "text/plain": [
       "S1BB_20171012T015245_20171129T015245_VVP048_INT80_G_ueF_4E8E.zip:   0%|          | 0/361594806 [00:00<?, ?it/s…"
      ]
     },
     "metadata": {},
     "output_type": "display_data"
    },
    {
     "data": {
      "application/vnd.jupyter.widget-view+json": {
       "model_id": "0a3783108a204606a74ddb8f34d3538d",
       "version_major": 2,
       "version_minor": 0
      },
      "text/plain": [
       "S1BB_20171012T015245_20171211T015244_VVP060_INT80_G_ueF_31A3.zip:   0%|          | 0/361035933 [00:00<?, ?it/s…"
      ]
     },
     "metadata": {},
     "output_type": "display_data"
    },
    {
     "data": {
      "application/vnd.jupyter.widget-view+json": {
       "model_id": "0c3ee537b8474da59c2a8c80ade5ab45",
       "version_major": 2,
       "version_minor": 0
      },
      "text/plain": [
       "S1BB_20170708T015241_20170906T015244_VVP060_INT80_G_ueF_B439.zip:   0%|          | 0/361273338 [00:00<?, ?it/s…"
      ]
     },
     "metadata": {},
     "output_type": "display_data"
    },
    {
     "data": {
      "application/vnd.jupyter.widget-view+json": {
       "model_id": "142ad87ebb124781bacf95698ae09733",
       "version_major": 2,
       "version_minor": 0
      },
      "text/plain": [
       "S1BB_20170509T015238_20170708T015241_VVP060_INT80_G_ueF_8B95.zip:   0%|          | 0/359148099 [00:00<?, ?it/s…"
      ]
     },
     "metadata": {},
     "output_type": "display_data"
    },
    {
     "data": {
      "application/vnd.jupyter.widget-view+json": {
       "model_id": "add877f66e064df2a6f846459b891d8c",
       "version_major": 2,
       "version_minor": 0
      },
      "text/plain": [
       "S1BB_20170415T015236_20170602T015239_VVP048_INT80_G_ueF_38A2.zip:   0%|          | 0/360080731 [00:00<?, ?it/s…"
      ]
     },
     "metadata": {},
     "output_type": "display_data"
    },
    {
     "data": {
      "application/vnd.jupyter.widget-view+json": {
       "model_id": "d36f92b277fa489895321950a2d79637",
       "version_major": 2,
       "version_minor": 0
      },
      "text/plain": [
       "S1BB_20170602T015239_20170801T015242_VVP060_INT80_G_ueF_509E.zip:   0%|          | 0/363090324 [00:00<?, ?it/s…"
      ]
     },
     "metadata": {},
     "output_type": "display_data"
    },
    {
     "data": {
      "application/vnd.jupyter.widget-view+json": {
       "model_id": "3732356d565e4c14acb26405f4bc4a91",
       "version_major": 2,
       "version_minor": 0
      },
      "text/plain": [
       "S1BB_20170509T015238_20170614T015240_VVP036_INT80_G_ueF_A194.zip:   0%|          | 0/365280404 [00:00<?, ?it/s…"
      ]
     },
     "metadata": {},
     "output_type": "display_data"
    },
    {
     "data": {
      "application/vnd.jupyter.widget-view+json": {
       "model_id": "520953db852c48a8b573abc762cb400b",
       "version_major": 2,
       "version_minor": 0
      },
      "text/plain": [
       "S1BB_20170509T015238_20170626T015240_VVP048_INT80_G_ueF_A592.zip:   0%|          | 0/360749425 [00:00<?, ?it/s…"
      ]
     },
     "metadata": {},
     "output_type": "display_data"
    },
    {
     "data": {
      "application/vnd.jupyter.widget-view+json": {
       "model_id": "9476f0b25db0426aa28b06e7c2506fba",
       "version_major": 2,
       "version_minor": 0
      },
      "text/plain": [
       "S1BB_20170521T015238_20170614T015240_VVP024_INT80_G_ueF_B0C2.zip:   0%|          | 0/360271733 [00:00<?, ?it/s…"
      ]
     },
     "metadata": {},
     "output_type": "display_data"
    },
    {
     "data": {
      "application/vnd.jupyter.widget-view+json": {
       "model_id": "a48bc23235494a26a7dd6efb33b1333d",
       "version_major": 2,
       "version_minor": 0
      },
      "text/plain": [
       "S1BB_20170521T015238_20170720T015242_VVP060_INT80_G_ueF_D8AC.zip:   0%|          | 0/360763333 [00:00<?, ?it/s…"
      ]
     },
     "metadata": {},
     "output_type": "display_data"
    },
    {
     "data": {
      "application/vnd.jupyter.widget-view+json": {
       "model_id": "b5aec936e5b04e7baa8e336b46767ec5",
       "version_major": 2,
       "version_minor": 0
      },
      "text/plain": [
       "S1BB_20170602T015239_20170720T015242_VVP048_INT80_G_ueF_4F89.zip:   0%|          | 0/363660557 [00:00<?, ?it/s…"
      ]
     },
     "metadata": {},
     "output_type": "display_data"
    },
    {
     "data": {
      "application/vnd.jupyter.widget-view+json": {
       "model_id": "a53a04f272f547b9b36086c2741be51d",
       "version_major": 2,
       "version_minor": 0
      },
      "text/plain": [
       "S1BB_20170427T015237_20170626T015240_VVP060_INT80_G_ueF_212E.zip:   0%|          | 0/360359538 [00:00<?, ?it/s…"
      ]
     },
     "metadata": {},
     "output_type": "display_data"
    },
    {
     "data": {
      "application/vnd.jupyter.widget-view+json": {
       "model_id": "8e3df2235076476488f77500705de20c",
       "version_major": 2,
       "version_minor": 0
      },
      "text/plain": [
       "S1BB_20170415T015236_20170509T015238_VVP024_INT80_G_ueF_A3DF.zip:   0%|          | 0/363572675 [00:00<?, ?it/s…"
      ]
     },
     "metadata": {},
     "output_type": "display_data"
    },
    {
     "data": {
      "application/vnd.jupyter.widget-view+json": {
       "model_id": "81071c586f8640ad860f7f549cd416cd",
       "version_major": 2,
       "version_minor": 0
      },
      "text/plain": [
       "S1BB_20170602T015239_20170626T015240_VVP024_INT80_G_ueF_114D.zip:   0%|          | 0/360517203 [00:00<?, ?it/s…"
      ]
     },
     "metadata": {},
     "output_type": "display_data"
    },
    {
     "data": {
      "application/vnd.jupyter.widget-view+json": {
       "model_id": "fe026e4cbb7b4c9c87de3a31d44a50c6",
       "version_major": 2,
       "version_minor": 0
      },
      "text/plain": [
       "S1BB_20170614T015240_20170801T015242_VVP048_INT80_G_ueF_0211.zip:   0%|          | 0/362783137 [00:00<?, ?it/s…"
      ]
     },
     "metadata": {},
     "output_type": "display_data"
    },
    {
     "data": {
      "application/vnd.jupyter.widget-view+json": {
       "model_id": "04903e29cd3143d3a3df2055afeeb2ea",
       "version_major": 2,
       "version_minor": 0
      },
      "text/plain": [
       "S1BB_20170403T015236_20170521T015238_VVP048_INT80_G_ueF_A0A0.zip:   0%|          | 0/362348851 [00:00<?, ?it/s…"
      ]
     },
     "metadata": {},
     "output_type": "display_data"
    },
    {
     "data": {
      "application/vnd.jupyter.widget-view+json": {
       "model_id": "28546609afe44937916430288a4ed380",
       "version_major": 2,
       "version_minor": 0
      },
      "text/plain": [
       "S1BB_20170415T015236_20170614T015240_VVP060_INT80_G_ueF_FA4F.zip:   0%|          | 0/359093946 [00:00<?, ?it/s…"
      ]
     },
     "metadata": {},
     "output_type": "display_data"
    },
    {
     "data": {
      "application/vnd.jupyter.widget-view+json": {
       "model_id": "bdaef91840184d52bbdd238a61c323ed",
       "version_major": 2,
       "version_minor": 0
      },
      "text/plain": [
       "S1BB_20170614T015240_20170720T015242_VVP036_INT80_G_ueF_AD07.zip:   0%|          | 0/360559811 [00:00<?, ?it/s…"
      ]
     },
     "metadata": {},
     "output_type": "display_data"
    },
    {
     "data": {
      "application/vnd.jupyter.widget-view+json": {
       "model_id": "78aa34bb13344f3c839aa3659467194b",
       "version_major": 2,
       "version_minor": 0
      },
      "text/plain": [
       "S1BB_20170403T015236_20170509T015238_VVP036_INT80_G_ueF_2AE1.zip:   0%|          | 0/364955473 [00:00<?, ?it/s…"
      ]
     },
     "metadata": {},
     "output_type": "display_data"
    },
    {
     "data": {
      "application/vnd.jupyter.widget-view+json": {
       "model_id": "f47383a8f4ad4c29b344ea5082b89f89",
       "version_major": 2,
       "version_minor": 0
      },
      "text/plain": [
       "S1BB_20170403T015236_20170602T015239_VVP060_INT80_G_ueF_E25A.zip:   0%|          | 0/364278592 [00:00<?, ?it/s…"
      ]
     },
     "metadata": {},
     "output_type": "display_data"
    },
    {
     "data": {
      "application/vnd.jupyter.widget-view+json": {
       "model_id": "0c86438060b34fe5abdb7ed8f0478adb",
       "version_major": 2,
       "version_minor": 0
      },
      "text/plain": [
       "S1BB_20170427T015237_20170602T015239_VVP036_INT80_G_ueF_5719.zip:   0%|          | 0/363482663 [00:00<?, ?it/s…"
      ]
     },
     "metadata": {},
     "output_type": "display_data"
    },
    {
     "data": {
      "application/vnd.jupyter.widget-view+json": {
       "model_id": "97290776708043b7aba4ea0fcbb82239",
       "version_major": 2,
       "version_minor": 0
      },
      "text/plain": [
       "S1BB_20170509T015238_20170602T015239_VVP024_INT80_G_ueF_D125.zip:   0%|          | 0/363720167 [00:00<?, ?it/s…"
      ]
     },
     "metadata": {},
     "output_type": "display_data"
    },
    {
     "data": {
      "application/vnd.jupyter.widget-view+json": {
       "model_id": "420059a30b0a4ef7b2c0fe84c9fdc923",
       "version_major": 2,
       "version_minor": 0
      },
      "text/plain": [
       "S1BB_20170415T015236_20170521T015238_VVP036_INT80_G_ueF_88BB.zip:   0%|          | 0/363450000 [00:00<?, ?it/s…"
      ]
     },
     "metadata": {},
     "output_type": "display_data"
    },
    {
     "data": {
      "application/vnd.jupyter.widget-view+json": {
       "model_id": "6a159c735102493380833b8da295aaba",
       "version_major": 2,
       "version_minor": 0
      },
      "text/plain": [
       "S1BB_20161204T015231_20170121T015228_VVP048_INT80_G_ueF_A65A.zip:   0%|          | 0/394008769 [00:00<?, ?it/s…"
      ]
     },
     "metadata": {},
     "output_type": "display_data"
    },
    {
     "data": {
      "application/vnd.jupyter.widget-view+json": {
       "model_id": "f45e7b98cb8f42c48e7405511ff718ff",
       "version_major": 2,
       "version_minor": 0
      },
      "text/plain": [
       "S1BB_20170214T015228_20170415T015236_VVP060_INT80_G_ueF_C540.zip:   0%|          | 0/302808920 [00:00<?, ?it/s…"
      ]
     },
     "metadata": {},
     "output_type": "display_data"
    },
    {
     "data": {
      "application/vnd.jupyter.widget-view+json": {
       "model_id": "a738ddf4a3ab473fb9eea5a0065d0ae6",
       "version_major": 2,
       "version_minor": 0
      },
      "text/plain": [
       "S1BB_20161228T015230_20170226T015235_VVP060_INT80_G_ueF_6AB1.zip:   0%|          | 0/301414548 [00:00<?, ?it/s…"
      ]
     },
     "metadata": {},
     "output_type": "display_data"
    },
    {
     "data": {
      "application/vnd.jupyter.widget-view+json": {
       "model_id": "03d790c6f32348b4af01cd0d64f18f6e",
       "version_major": 2,
       "version_minor": 0
      },
      "text/plain": [
       "S1BB_20170226T015235_20170427T015237_VVP060_INT80_G_ueF_B4EC.zip:   0%|          | 0/363050772 [00:00<?, ?it/s…"
      ]
     },
     "metadata": {},
     "output_type": "display_data"
    },
    {
     "data": {
      "application/vnd.jupyter.widget-view+json": {
       "model_id": "b9b1c362a2b64b7ba061265d106c8447",
       "version_major": 2,
       "version_minor": 0
      },
      "text/plain": [
       "S1BB_20161228T015230_20170214T015228_VVP048_INT80_G_ueF_2D20.zip:   0%|          | 0/396430640 [00:00<?, ?it/s…"
      ]
     },
     "metadata": {},
     "output_type": "display_data"
    },
    {
     "data": {
      "application/vnd.jupyter.widget-view+json": {
       "model_id": "1ff427d334a74587ae2b0d5f82925385",
       "version_major": 2,
       "version_minor": 0
      },
      "text/plain": [
       "S1BB_20170121T015228_20170214T015228_VVP024_INT80_G_ueF_3BC0.zip:   0%|          | 0/397785343 [00:00<?, ?it/s…"
      ]
     },
     "metadata": {},
     "output_type": "display_data"
    },
    {
     "data": {
      "application/vnd.jupyter.widget-view+json": {
       "model_id": "73546bc2e2f747758301980c14602991",
       "version_major": 2,
       "version_minor": 0
      },
      "text/plain": [
       "S1BB_20170121T015228_20170226T015235_VVP036_INT80_G_ueF_6303.zip:   0%|          | 0/300253252 [00:00<?, ?it/s…"
      ]
     },
     "metadata": {},
     "output_type": "display_data"
    },
    {
     "data": {
      "application/vnd.jupyter.widget-view+json": {
       "model_id": "dc75dfc0b6414e4db021b73b51b8b7f7",
       "version_major": 2,
       "version_minor": 0
      },
      "text/plain": [
       "S1BB_20170214T015228_20170403T015236_VVP048_INT80_G_ueF_DCA5.zip:   0%|          | 0/302728187 [00:00<?, ?it/s…"
      ]
     },
     "metadata": {},
     "output_type": "display_data"
    },
    {
     "data": {
      "application/vnd.jupyter.widget-view+json": {
       "model_id": "154b7fb371ec481bb61deb13cbca510c",
       "version_major": 2,
       "version_minor": 0
      },
      "text/plain": [
       "S1BB_20161228T015230_20170121T015228_VVP024_INT80_G_ueF_C515.zip:   0%|          | 0/394636727 [00:00<?, ?it/s…"
      ]
     },
     "metadata": {},
     "output_type": "display_data"
    },
    {
     "name": "stdout",
     "output_type": "stream",
     "text": [
      "Extracting: /home/jovyan/notebooks/SAR_Training/English/Master/SBAS_2017-2022_1/S1AA_20221121T015403_20221227T015401_VVP036_INT80_G_ueF_9BDE.zip\n",
      "Extracting: /home/jovyan/notebooks/SAR_Training/English/Master/SBAS_2017-2022_1/S1AA_20221203T015403_20221227T015401_VVP024_INT80_G_ueF_56F4.zip\n",
      "Extracting: /home/jovyan/notebooks/SAR_Training/English/Master/SBAS_2017-2022_1/S1AA_20221016T015404_20221215T015402_VVP060_INT80_G_ueF_6078.zip\n",
      "Extracting: /home/jovyan/notebooks/SAR_Training/English/Master/SBAS_2017-2022_1/S1AA_20220910T015403_20221028T015404_VVP048_INT80_G_ueF_1B1E.zip\n",
      "Extracting: /home/jovyan/notebooks/SAR_Training/English/Master/SBAS_2017-2022_1/S1AA_20221028T015404_20221227T015401_VVP060_INT80_G_ueF_3A20.zip\n",
      "Extracting: /home/jovyan/notebooks/SAR_Training/English/Master/SBAS_2017-2022_1/S1AA_20221004T015404_20221028T015404_VVP024_INT80_G_ueF_6434.zip\n",
      "Extracting: /home/jovyan/notebooks/SAR_Training/English/Master/SBAS_2017-2022_1/S1AA_20221028T015404_20221121T015403_VVP024_INT80_G_ueF_DB5F.zip\n",
      "Extracting: /home/jovyan/notebooks/SAR_Training/English/Master/SBAS_2017-2022_1/S1AA_20220829T015402_20221028T015404_VVP060_INT80_G_ueF_A119.zip\n",
      "Extracting: /home/jovyan/notebooks/SAR_Training/English/Master/SBAS_2017-2022_1/S1AA_20221016T015404_20221121T015403_VVP036_INT80_G_ueF_C5AC.zip\n",
      "Extracting: /home/jovyan/notebooks/SAR_Training/English/Master/SBAS_2017-2022_1/S1AA_20221109T015403_20221215T015402_VVP036_INT80_G_ueF_6CC5.zip\n",
      "Extracting: /home/jovyan/notebooks/SAR_Training/English/Master/SBAS_2017-2022_1/S1AA_20221028T015404_20221215T015402_VVP048_INT80_G_ueF_24D9.zip\n",
      "Extracting: /home/jovyan/notebooks/SAR_Training/English/Master/SBAS_2017-2022_1/S1AA_20221109T015403_20221227T015401_VVP048_INT80_G_ueF_B3F0.zip\n",
      "Extracting: /home/jovyan/notebooks/SAR_Training/English/Master/SBAS_2017-2022_1/S1AA_20220829T015402_20221016T015404_VVP048_INT80_G_ueF_7241.zip\n",
      "Extracting: /home/jovyan/notebooks/SAR_Training/English/Master/SBAS_2017-2022_1/S1AA_20221028T015404_20221203T015403_VVP036_INT80_G_ueF_B915.zip\n",
      "Extracting: /home/jovyan/notebooks/SAR_Training/English/Master/SBAS_2017-2022_1/S1AA_20220817T015402_20221016T015404_VVP060_INT80_G_ueF_FFEB.zip\n",
      "Extracting: /home/jovyan/notebooks/SAR_Training/English/Master/SBAS_2017-2022_1/S1AA_20220910T015403_20221016T015404_VVP036_INT80_G_ueF_2B38.zip\n",
      "Extracting: /home/jovyan/notebooks/SAR_Training/English/Master/SBAS_2017-2022_1/S1AA_20221004T015404_20221121T015403_VVP048_INT80_G_ueF_7702.zip\n",
      "Extracting: /home/jovyan/notebooks/SAR_Training/English/Master/SBAS_2017-2022_1/S1AA_20220829T015402_20221004T015404_VVP036_INT80_G_ueF_4090.zip\n",
      "Extracting: /home/jovyan/notebooks/SAR_Training/English/Master/SBAS_2017-2022_1/S1AA_20221016T015404_20221203T015403_VVP048_INT80_G_ueF_F852.zip\n",
      "Extracting: /home/jovyan/notebooks/SAR_Training/English/Master/SBAS_2017-2022_1/S1AA_20221004T015404_20221203T015403_VVP060_INT80_G_ueF_AC9C.zip\n",
      "Extracting: /home/jovyan/notebooks/SAR_Training/English/Master/SBAS_2017-2022_1/S1AA_20220910T015403_20221004T015404_VVP024_INT80_G_ueF_B065.zip\n",
      "Extracting: /home/jovyan/notebooks/SAR_Training/English/Master/SBAS_2017-2022_1/S1AA_20221121T015403_20221215T015402_VVP024_INT80_G_ueF_CB79.zip\n",
      "Extracting: /home/jovyan/notebooks/SAR_Training/English/Master/SBAS_2017-2022_1/S1AA_20220805T015401_20221004T015404_VVP060_INT80_G_ueF_A713.zip\n",
      "Extracting: /home/jovyan/notebooks/SAR_Training/English/Master/SBAS_2017-2022_1/S1AA_20220817T015402_20220910T015403_VVP024_INT80_G_ueF_5D37.zip\n",
      "Extracting: /home/jovyan/notebooks/SAR_Training/English/Master/SBAS_2017-2022_1/S1AA_20220724T015401_20220910T015403_VVP048_INT80_G_ueF_B147.zip\n",
      "Extracting: /home/jovyan/notebooks/SAR_Training/English/Master/SBAS_2017-2022_1/S1AA_20220525T015356_20220712T015400_VVP048_INT80_G_ueF_C039.zip\n",
      "Extracting: /home/jovyan/notebooks/SAR_Training/English/Master/SBAS_2017-2022_1/S1AA_20220606T015358_20220724T015401_VVP048_INT80_G_ueF_245E.zip\n",
      "Extracting: /home/jovyan/notebooks/SAR_Training/English/Master/SBAS_2017-2022_1/S1AA_20220618T015358_20220712T015400_VVP024_INT80_G_ueF_8EF5.zip\n",
      "Extracting: /home/jovyan/notebooks/SAR_Training/English/Master/SBAS_2017-2022_1/S1AA_20220618T015358_20220724T015401_VVP036_INT80_G_ueF_6A1C.zip\n",
      "Extracting: /home/jovyan/notebooks/SAR_Training/English/Master/SBAS_2017-2022_1/S1AA_20220618T015358_20220817T015402_VVP060_INT80_G_ueF_92C0.zip\n",
      "Extracting: /home/jovyan/notebooks/SAR_Training/English/Master/SBAS_2017-2022_1/S1AA_20220724T015401_20220817T015402_VVP024_INT80_G_ueF_05DC.zip\n",
      "Extracting: /home/jovyan/notebooks/SAR_Training/English/Master/SBAS_2017-2022_1/S1AA_20220525T015356_20220630T015359_VVP036_INT80_G_ueF_7D61.zip\n",
      "Extracting: /home/jovyan/notebooks/SAR_Training/English/Master/SBAS_2017-2022_1/S1AA_20220712T015400_20220910T015403_VVP060_INT80_G_ueF_A26C.zip\n",
      "Extracting: /home/jovyan/notebooks/SAR_Training/English/Master/SBAS_2017-2022_1/S1AA_20220817T015402_20221004T015404_VVP048_INT80_G_ueF_D523.zip\n",
      "Extracting: /home/jovyan/notebooks/SAR_Training/English/Master/SBAS_2017-2022_1/S1AA_20220724T015401_20220829T015402_VVP036_INT80_G_ueF_1286.zip\n",
      "Extracting: /home/jovyan/notebooks/SAR_Training/English/Master/SBAS_2017-2022_1/S1AA_20220712T015400_20220829T015402_VVP048_INT80_G_ueF_A771.zip\n",
      "Extracting: /home/jovyan/notebooks/SAR_Training/English/Master/SBAS_2017-2022_1/S1AA_20220606T015358_20220805T015401_VVP060_INT80_G_ueF_4BD4.zip\n",
      "Extracting: /home/jovyan/notebooks/SAR_Training/English/Master/SBAS_2017-2022_1/S1AA_20220805T015401_20220910T015403_VVP036_INT80_G_ueF_9AE5.zip\n",
      "Extracting: /home/jovyan/notebooks/SAR_Training/English/Master/SBAS_2017-2022_1/S1AA_20220525T015356_20220618T015358_VVP024_INT80_G_ueF_B96F.zip\n",
      "Extracting: /home/jovyan/notebooks/SAR_Training/English/Master/SBAS_2017-2022_1/S1AA_20220712T015400_20220817T015402_VVP036_INT80_G_ueF_31A6.zip\n",
      "Extracting: /home/jovyan/notebooks/SAR_Training/English/Master/SBAS_2017-2022_1/S1AA_20220630T015359_20220829T015402_VVP060_INT80_G_ueF_67DF.zip\n",
      "Extracting: /home/jovyan/notebooks/SAR_Training/English/Master/SBAS_2017-2022_1/S1AA_20220513T015356_20220712T015400_VVP060_INT80_G_ueF_0FD4.zip\n",
      "Extracting: /home/jovyan/notebooks/SAR_Training/English/Master/SBAS_2017-2022_1/S1AA_20220407T015354_20220513T015356_VVP036_INT80_G_ueF_C9B3.zip\n",
      "Extracting: /home/jovyan/notebooks/SAR_Training/English/Master/SBAS_2017-2022_1/S1AA_20220407T015354_20220501T015355_VVP024_INT80_G_ueF_5D43.zip\n",
      "Extracting: /home/jovyan/notebooks/SAR_Training/English/Master/SBAS_2017-2022_1/S1AA_20220407T015354_20220525T015356_VVP048_INT80_G_ueF_A9C3.zip\n",
      "Extracting: /home/jovyan/notebooks/SAR_Training/English/Master/SBAS_2017-2022_1/S1AA_20220314T015354_20220419T015355_VVP036_INT80_G_ueF_42FC.zip\n",
      "Extracting: /home/jovyan/notebooks/SAR_Training/English/Master/SBAS_2017-2022_1/S1AA_20220501T015355_20220630T015359_VVP060_INT80_G_ueF_31FA.zip\n",
      "Extracting: /home/jovyan/notebooks/SAR_Training/English/Master/SBAS_2017-2022_1/S1AA_20220513T015356_20220606T015358_VVP024_INT80_G_ueF_8977.zip\n",
      "Extracting: /home/jovyan/notebooks/SAR_Training/English/Master/SBAS_2017-2022_1/S1AA_20220419T015355_20220618T015358_VVP060_INT80_G_ueF_452A.zip\n",
      "Extracting: /home/jovyan/notebooks/SAR_Training/English/Master/SBAS_2017-2022_1/S1AA_20220326T015354_20220513T015356_VVP048_INT80_G_ueF_5F62.zip\n",
      "Extracting: /home/jovyan/notebooks/SAR_Training/English/Master/SBAS_2017-2022_1/S1AA_20220419T015355_20220525T015356_VVP036_INT80_G_ueF_9443.zip\n",
      "Extracting: /home/jovyan/notebooks/SAR_Training/English/Master/SBAS_2017-2022_1/S1AA_20220314T015354_20220407T015354_VVP024_INT80_G_ueF_C6D3.zip\n",
      "Extracting: /home/jovyan/notebooks/SAR_Training/English/Master/SBAS_2017-2022_1/S1AA_20220501T015355_20220525T015356_VVP024_INT80_G_ueF_3FA8.zip\n",
      "Extracting: /home/jovyan/notebooks/SAR_Training/English/Master/SBAS_2017-2022_1/S1BB_20211120T015310_20211214T015309_VVP024_INT80_G_ueF_6F8A.zip\n",
      "Extracting: /home/jovyan/notebooks/SAR_Training/English/Master/SBAS_2017-2022_1/S1AA_20220501T015355_20220618T015358_VVP048_INT80_G_ueF_BB9A.zip\n",
      "Extracting: /home/jovyan/notebooks/SAR_Training/English/Master/SBAS_2017-2022_1/S1AA_20220326T015354_20220501T015355_VVP036_INT80_G_ueF_41D8.zip\n",
      "Extracting: /home/jovyan/notebooks/SAR_Training/English/Master/SBAS_2017-2022_1/S1AA_20220314T015354_20220501T015355_VVP048_INT80_G_ueF_62BE.zip\n",
      "Extracting: /home/jovyan/notebooks/SAR_Training/English/Master/SBAS_2017-2022_1/S1AA_20220314T015354_20220513T015356_VVP060_INT80_G_ueF_6A6F.zip\n",
      "Extracting: /home/jovyan/notebooks/SAR_Training/English/Master/SBAS_2017-2022_1/S1BA_20211120T015310_20211220T015356_VVP030_INT80_G_ueF_FD82.zip\n",
      "Extracting: /home/jovyan/notebooks/SAR_Training/English/Master/SBAS_2017-2022_1/S1AA_20220513T015356_20220618T015358_VVP036_INT80_G_ueF_5F1B.zip\n",
      "Extracting: /home/jovyan/notebooks/SAR_Training/English/Master/SBAS_2017-2022_1/S1AA_20220326T015354_20220419T015355_VVP024_INT80_G_ueF_7DF4.zip\n",
      "Extracting: /home/jovyan/notebooks/SAR_Training/English/Master/SBAS_2017-2022_1/S1AA_20220419T015355_20220513T015356_VVP024_INT80_G_ueF_859F.zip\n",
      "Extracting: /home/jovyan/notebooks/SAR_Training/English/Master/SBAS_2017-2022_1/S1BB_20210828T015309_20211003T015311_VVP036_INT80_G_ueF_2451.zip\n",
      "Extracting: /home/jovyan/notebooks/SAR_Training/English/Master/SBAS_2017-2022_1/S1BA_20211108T015310_20211208T015356_VVP030_INT80_G_ueF_A046.zip\n",
      "Extracting: /home/jovyan/notebooks/SAR_Training/English/Master/SBAS_2017-2022_1/S1BA_20211015T015310_20211208T015356_VVP054_INT80_G_ueF_E38B.zip\n",
      "Extracting: /home/jovyan/notebooks/SAR_Training/English/Master/SBAS_2017-2022_1/S1BB_20211015T015310_20211214T015309_VVP060_INT80_G_ueF_57A9.zip\n",
      "Extracting: /home/jovyan/notebooks/SAR_Training/English/Master/SBAS_2017-2022_1/S1BA_20211108T015310_20211220T015356_VVP042_INT80_G_ueF_0E1F.zip\n",
      "Extracting: /home/jovyan/notebooks/SAR_Training/English/Master/SBAS_2017-2022_1/S1BB_20211003T015311_20211027T015310_VVP024_INT80_G_ueF_5FC8.zip\n",
      "Extracting: /home/jovyan/notebooks/SAR_Training/English/Master/SBAS_2017-2022_1/S1BA_20211015T015310_20211126T015357_VVP042_INT80_G_ueF_8A6C.zip\n",
      "Extracting: /home/jovyan/notebooks/SAR_Training/English/Master/SBAS_2017-2022_1/S1BB_20210828T015309_20211027T015310_VVP060_INT80_G_ueF_50C4.zip\n",
      "Extracting: /home/jovyan/notebooks/SAR_Training/English/Master/SBAS_2017-2022_1/S1BB_20210921T015310_20211108T015310_VVP048_INT80_G_ueF_79E7.zip\n",
      "Extracting: /home/jovyan/notebooks/SAR_Training/English/Master/SBAS_2017-2022_1/S1BB_20210828T015309_20211015T015310_VVP048_INT80_G_ueF_0E3F.zip\n",
      "Extracting: /home/jovyan/notebooks/SAR_Training/English/Master/SBAS_2017-2022_1/S1BB_20210921T015310_20211120T015310_VVP060_INT80_G_ueF_E7EA.zip\n",
      "Extracting: /home/jovyan/notebooks/SAR_Training/English/Master/SBAS_2017-2022_1/S1BB_20210804T015308_20210921T015310_VVP048_INT80_G_ueF_F28A.zip\n",
      "Extracting: /home/jovyan/notebooks/SAR_Training/English/Master/SBAS_2017-2022_1/S1BB_20211015T015310_20211108T015310_VVP024_INT80_G_ueF_58BC.zip\n",
      "Extracting: /home/jovyan/notebooks/SAR_Training/English/Master/SBAS_2017-2022_1/S1BB_20210921T015310_20211015T015310_VVP024_INT80_G_ueF_1CE9.zip\n",
      "Extracting: /home/jovyan/notebooks/SAR_Training/English/Master/SBAS_2017-2022_1/S1BB_20210909T015309_20211108T015310_VVP060_INT80_G_ueF_9738.zip\n",
      "Extracting: /home/jovyan/notebooks/SAR_Training/English/Master/SBAS_2017-2022_1/S1BA_20211027T015310_20211208T015356_VVP042_INT80_G_ueF_84CE.zip\n",
      "Extracting: /home/jovyan/notebooks/SAR_Training/English/Master/SBAS_2017-2022_1/S1BB_20211027T015310_20211214T015309_VVP048_INT80_G_ueF_B76F.zip\n",
      "Extracting: /home/jovyan/notebooks/SAR_Training/English/Master/SBAS_2017-2022_1/S1BA_20211027T015310_20211126T015357_VVP030_INT80_G_ueF_AC0C.zip\n",
      "Extracting: /home/jovyan/notebooks/SAR_Training/English/Master/SBAS_2017-2022_1/S1BB_20211108T015310_20211202T015309_VVP024_INT80_G_ueF_73C8.zip\n",
      "Extracting: /home/jovyan/notebooks/SAR_Training/English/Master/SBAS_2017-2022_1/S1BB_20211108T015310_20211214T015309_VVP036_INT80_G_ueF_B9A5.zip\n",
      "Extracting: /home/jovyan/notebooks/SAR_Training/English/Master/SBAS_2017-2022_1/S1BB_20210804T015308_20210909T015309_VVP036_INT80_G_ueF_6575.zip\n",
      "Extracting: /home/jovyan/notebooks/SAR_Training/English/Master/SBAS_2017-2022_1/S1BB_20210617T015305_20210723T015307_VVP036_INT80_G_ueF_7DF2.zip\n",
      "Extracting: /home/jovyan/notebooks/SAR_Training/English/Master/SBAS_2017-2022_1/S1AB_20210729T015332_20210921T015310_VVP054_INT80_G_ueF_D7C4.zip\n",
      "Extracting: /home/jovyan/notebooks/SAR_Training/English/Master/SBAS_2017-2022_1/S1AB_20210729T015357_20210921T015310_VVP054_INT80_G_ueF_D716.zip\n",
      "Extracting: /home/jovyan/notebooks/SAR_Training/English/Master/SBAS_2017-2022_1/S1BA_20210629T015305_20210729T015332_VVP030_INT80_G_ueF_4073.zip\n",
      "Extracting: /home/jovyan/notebooks/SAR_Training/English/Master/SBAS_2017-2022_1/S1BB_20210723T015307_20210921T015310_VVP060_INT80_G_ueF_2F31.zip\n",
      "Extracting: /home/jovyan/notebooks/SAR_Training/English/Master/SBAS_2017-2022_1/S1AB_20210729T015357_20210909T015309_VVP042_INT80_G_ueF_6432.zip\n",
      "Extracting: /home/jovyan/notebooks/SAR_Training/English/Master/SBAS_2017-2022_1/S1BB_20210524T015303_20210629T015305_VVP036_INT80_G_ueF_6E7D.zip\n",
      "Extracting: /home/jovyan/notebooks/SAR_Training/English/Master/SBAS_2017-2022_1/S1BB_20210524T015303_20210723T015307_VVP060_INT80_G_ueF_20DD.zip\n",
      "Extracting: /home/jovyan/notebooks/SAR_Training/English/Master/SBAS_2017-2022_1/S1BB_20210723T015307_20210909T015309_VVP048_INT80_G_ueF_58E3.zip\n",
      "Extracting: /home/jovyan/notebooks/SAR_Training/English/Master/SBAS_2017-2022_1/S1BB_20210629T015305_20210828T015309_VVP060_INT80_G_ueF_0178.zip\n",
      "Extracting: /home/jovyan/notebooks/SAR_Training/English/Master/SBAS_2017-2022_1/S1BB_20210524T015303_20210617T015305_VVP024_INT80_G_ueF_6D8C.zip\n",
      "Extracting: /home/jovyan/notebooks/SAR_Training/English/Master/SBAS_2017-2022_1/S1AB_20210729T015332_20210909T015309_VVP042_INT80_G_ueF_618E.zip\n",
      "Extracting: /home/jovyan/notebooks/SAR_Training/English/Master/SBAS_2017-2022_1/S1BB_20210617T015305_20210804T015308_VVP048_INT80_G_ueF_3C90.zip\n",
      "Extracting: /home/jovyan/notebooks/SAR_Training/English/Master/SBAS_2017-2022_1/S1BB_20210629T015305_20210804T015308_VVP036_INT80_G_ueF_C388.zip\n",
      "Extracting: /home/jovyan/notebooks/SAR_Training/English/Master/SBAS_2017-2022_1/S1BB_20210804T015308_20210828T015309_VVP024_INT80_G_ueF_E27A.zip\n",
      "Extracting: /home/jovyan/notebooks/SAR_Training/English/Master/SBAS_2017-2022_1/S1BA_20210629T015305_20210729T015357_VVP030_INT80_G_ueF_07DC.zip\n",
      "Extracting: /home/jovyan/notebooks/SAR_Training/English/Master/SBAS_2017-2022_1/S1BB_20210629T015305_20210723T015307_VVP024_INT80_G_ueF_9485.zip\n",
      "Extracting: /home/jovyan/notebooks/SAR_Training/English/Master/SBAS_2017-2022_1/S1BB_20210711T015306_20210909T015309_VVP060_INT80_G_ueF_2515.zip\n",
      "Extracting: /home/jovyan/notebooks/SAR_Training/English/Master/SBAS_2017-2022_1/S1BB_20210711T015306_20210804T015308_VVP024_INT80_G_ueF_3703.zip\n",
      "Extracting: /home/jovyan/notebooks/SAR_Training/English/Master/SBAS_2017-2022_1/S1BB_20210406T015301_20210512T015303_VVP036_INT80_G_ueF_151F.zip\n",
      "Extracting: /home/jovyan/notebooks/SAR_Training/English/Master/SBAS_2017-2022_1/S1BB_20210325T015301_20210512T015303_VVP048_INT80_G_ueF_4254.zip\n",
      "Extracting: /home/jovyan/notebooks/SAR_Training/English/Master/SBAS_2017-2022_1/S1BB_20210325T015301_20210418T015302_VVP024_INT80_G_ueF_709A.zip\n",
      "Extracting: /home/jovyan/notebooks/SAR_Training/English/Master/SBAS_2017-2022_1/S1BB_20210418T015302_20210617T015305_VVP060_INT80_G_ueF_7780.zip\n",
      "Extracting: /home/jovyan/notebooks/SAR_Training/English/Master/SBAS_2017-2022_1/S1BB_20210430T015302_20210629T015305_VVP060_INT80_G_ueF_930A.zip\n",
      "Extracting: /home/jovyan/notebooks/SAR_Training/English/Master/SBAS_2017-2022_1/S1BB_20210512T015303_20210605T015304_VVP024_INT80_G_ueF_EE54.zip\n",
      "Extracting: /home/jovyan/notebooks/SAR_Training/English/Master/SBAS_2017-2022_1/S1BB_20210325T015301_20210430T015302_VVP036_INT80_G_ueF_ADE9.zip\n",
      "Extracting: /home/jovyan/notebooks/SAR_Training/English/Master/SBAS_2017-2022_1/S1BB_20210406T015301_20210430T015302_VVP024_INT80_G_ueF_0620.zip\n",
      "Extracting: /home/jovyan/notebooks/SAR_Training/English/Master/SBAS_2017-2022_1/S1BB_20210313T015301_20210512T015303_VVP060_INT80_G_ueF_24FB.zip\n",
      "Extracting: /home/jovyan/notebooks/SAR_Training/English/Master/SBAS_2017-2022_1/S1BB_20210512T015303_20210629T015305_VVP048_INT80_G_ueF_EDFB.zip\n",
      "Extracting: /home/jovyan/notebooks/SAR_Training/English/Master/SBAS_2017-2022_1/S1BB_20210313T015301_20210430T015302_VVP048_INT80_G_ueF_8E3F.zip\n",
      "Extracting: /home/jovyan/notebooks/SAR_Training/English/Master/SBAS_2017-2022_1/S1BB_20210406T015301_20210524T015303_VVP048_INT80_G_ueF_E334.zip\n",
      "Extracting: /home/jovyan/notebooks/SAR_Training/English/Master/SBAS_2017-2022_1/S1BB_20210418T015302_20210605T015304_VVP048_INT80_G_ueF_4AB1.zip\n",
      "Extracting: /home/jovyan/notebooks/SAR_Training/English/Master/SBAS_2017-2022_1/S1BB_20210418T015302_20210524T015303_VVP036_INT80_G_ueF_DD87.zip\n",
      "Extracting: /home/jovyan/notebooks/SAR_Training/English/Master/SBAS_2017-2022_1/S1BB_20210406T015301_20210605T015304_VVP060_INT80_G_ueF_8912.zip\n",
      "Extracting: /home/jovyan/notebooks/SAR_Training/English/Master/SBAS_2017-2022_1/S1BB_20210313T015301_20210418T015302_VVP036_INT80_G_ueF_FBBA.zip\n",
      "Extracting: /home/jovyan/notebooks/SAR_Training/English/Master/SBAS_2017-2022_1/S1BB_20210512T015303_20210617T015305_VVP036_INT80_G_ueF_97B9.zip\n",
      "Extracting: /home/jovyan/notebooks/SAR_Training/English/Master/SBAS_2017-2022_1/S1BB_20210418T015302_20210512T015303_VVP024_INT80_G_ueF_D8FD.zip\n",
      "Extracting: /home/jovyan/notebooks/SAR_Training/English/Master/SBAS_2017-2022_1/S1BB_20210430T015302_20210524T015303_VVP024_INT80_G_ueF_E82B.zip\n",
      "Extracting: /home/jovyan/notebooks/SAR_Training/English/Master/SBAS_2017-2022_1/S1BB_20210325T015301_20210524T015303_VVP060_INT80_G_ueF_543D.zip\n",
      "Extracting: /home/jovyan/notebooks/SAR_Training/English/Master/SBAS_2017-2022_1/S1BB_20210112T015302_20210205T015301_VVP024_INT80_G_ueF_542D.zip\n",
      "Extracting: /home/jovyan/notebooks/SAR_Training/English/Master/SBAS_2017-2022_1/S1BB_20210301T015300_20210430T015302_VVP060_INT80_G_ueF_660A.zip\n",
      "Extracting: /home/jovyan/notebooks/SAR_Training/English/Master/SBAS_2017-2022_1/S1BB_20210217T015301_20210406T015301_VVP048_INT80_G_ueF_5034.zip\n",
      "Extracting: /home/jovyan/notebooks/SAR_Training/English/Master/SBAS_2017-2022_1/S1BB_20210205T015301_20210325T015301_VVP048_INT80_G_ueF_76F2.zip\n",
      "Extracting: /home/jovyan/notebooks/SAR_Training/English/Master/SBAS_2017-2022_1/S1BB_20210205T015301_20210313T015301_VVP036_INT80_G_ueF_F446.zip\n",
      "Extracting: /home/jovyan/notebooks/SAR_Training/English/Master/SBAS_2017-2022_1/S1BB_20210205T015301_20210301T015300_VVP024_INT80_G_ueF_8AB6.zip\n",
      "Extracting: /home/jovyan/notebooks/SAR_Training/English/Master/SBAS_2017-2022_1/S1BB_20210112T015302_20210301T015300_VVP048_INT80_G_ueF_A52D.zip\n",
      "Extracting: /home/jovyan/notebooks/SAR_Training/English/Master/SBAS_2017-2022_1/S1BB_20210301T015300_20210406T015301_VVP036_INT80_G_ueF_3AFA.zip\n",
      "Extracting: /home/jovyan/notebooks/SAR_Training/English/Master/SBAS_2017-2022_1/S1BB_20210217T015301_20210325T015301_VVP036_INT80_G_ueF_4D0A.zip\n",
      "Extracting: /home/jovyan/notebooks/SAR_Training/English/Master/SBAS_2017-2022_1/S1BB_20210217T015301_20210418T015302_VVP060_INT80_G_ueF_4FEC.zip\n",
      "Extracting: /home/jovyan/notebooks/SAR_Training/English/Master/SBAS_2017-2022_1/S1BB_20210205T015301_20210406T015301_VVP060_INT80_G_ueF_76D9.zip\n",
      "Extracting: /home/jovyan/notebooks/SAR_Training/English/Master/SBAS_2017-2022_1/S1BB_20210313T015301_20210406T015301_VVP024_INT80_G_ueF_C804.zip\n",
      "Extracting: /home/jovyan/notebooks/SAR_Training/English/Master/SBAS_2017-2022_1/S1BB_20210301T015300_20210325T015301_VVP024_INT80_G_ueF_ABC8.zip\n",
      "Extracting: /home/jovyan/notebooks/SAR_Training/English/Master/SBAS_2017-2022_1/S1BB_20210124T015301_20210325T015301_VVP060_INT80_G_ueF_6800.zip\n",
      "Extracting: /home/jovyan/notebooks/SAR_Training/English/Master/SBAS_2017-2022_1/S1BB_20210124T015301_20210217T015301_VVP024_INT80_G_ueF_99E6.zip\n",
      "Extracting: /home/jovyan/notebooks/SAR_Training/English/Master/SBAS_2017-2022_1/S1BB_20210124T015301_20210301T015300_VVP036_INT80_G_ueF_AB3F.zip\n",
      "Extracting: /home/jovyan/notebooks/SAR_Training/English/Master/SBAS_2017-2022_1/S1BB_20210124T015301_20210313T015301_VVP048_INT80_G_ueF_D71E.zip\n",
      "Extracting: /home/jovyan/notebooks/SAR_Training/English/Master/SBAS_2017-2022_1/S1BB_20210112T015302_20210313T015301_VVP060_INT80_G_ueF_CE3B.zip\n",
      "Extracting: /home/jovyan/notebooks/SAR_Training/English/Master/SBAS_2017-2022_1/S1BB_20210217T015301_20210313T015301_VVP024_INT80_G_ueF_5761.zip\n",
      "Extracting: /home/jovyan/notebooks/SAR_Training/English/Master/SBAS_2017-2022_1/S1BB_20210301T015300_20210418T015302_VVP048_INT80_G_ueF_FE52.zip\n",
      "Extracting: /home/jovyan/notebooks/SAR_Training/English/Master/SBAS_2017-2022_1/S1BB_20201207T015303_20210205T015301_VVP060_INT80_G_ueF_F985.zip\n",
      "Extracting: /home/jovyan/notebooks/SAR_Training/English/Master/SBAS_2017-2022_1/S1BB_20201020T015304_20201207T015303_VVP048_INT80_G_ueF_9D7F.zip\n",
      "Extracting: /home/jovyan/notebooks/SAR_Training/English/Master/SBAS_2017-2022_1/S1BB_20201125T015304_20201219T015303_VVP024_INT80_G_ueF_A3D8.zip\n",
      "Extracting: /home/jovyan/notebooks/SAR_Training/English/Master/SBAS_2017-2022_1/S1BB_20201113T015304_20201207T015303_VVP024_INT80_G_ueF_98D8.zip\n",
      "Extracting: /home/jovyan/notebooks/SAR_Training/English/Master/SBAS_2017-2022_1/S1BB_20201231T015302_20210301T015300_VVP060_INT80_G_ueF_CB55.zip\n",
      "Extracting: /home/jovyan/notebooks/SAR_Training/English/Master/SBAS_2017-2022_1/S1BB_20201113T015304_20210112T015302_VVP060_INT80_G_ueF_F077.zip\n",
      "Extracting: /home/jovyan/notebooks/SAR_Training/English/Master/SBAS_2017-2022_1/S1BB_20201219T015303_20210124T015301_VVP036_INT80_G_ueF_32D6.zip\n",
      "Extracting: /home/jovyan/notebooks/SAR_Training/English/Master/SBAS_2017-2022_1/S1BB_20201113T015304_20201231T015302_VVP048_INT80_G_ueF_BC81.zip\n",
      "Extracting: /home/jovyan/notebooks/SAR_Training/English/Master/SBAS_2017-2022_1/S1BB_20201231T015302_20210124T015301_VVP024_INT80_G_ueF_2064.zip\n",
      "Extracting: /home/jovyan/notebooks/SAR_Training/English/Master/SBAS_2017-2022_1/S1BB_20201125T015304_20210112T015302_VVP048_INT80_G_ueF_038E.zip\n",
      "Extracting: /home/jovyan/notebooks/SAR_Training/English/Master/SBAS_2017-2022_1/S1BB_20201101T015304_20201125T015304_VVP024_INT80_G_ueF_07CB.zip\n",
      "Extracting: /home/jovyan/notebooks/SAR_Training/English/Master/SBAS_2017-2022_1/S1BB_20201125T015304_20210124T015301_VVP060_INT80_G_ueF_B252.zip\n",
      "Extracting: /home/jovyan/notebooks/SAR_Training/English/Master/SBAS_2017-2022_1/S1BB_20201219T015303_20210205T015301_VVP048_INT80_G_ueF_2824.zip\n",
      "Extracting: /home/jovyan/notebooks/SAR_Training/English/Master/SBAS_2017-2022_1/S1BB_20201113T015304_20201219T015303_VVP036_INT80_G_ueF_E1DF.zip\n",
      "Extracting: /home/jovyan/notebooks/SAR_Training/English/Master/SBAS_2017-2022_1/S1BB_20201231T015302_20210205T015301_VVP036_INT80_G_ueF_ACFE.zip\n",
      "Extracting: /home/jovyan/notebooks/SAR_Training/English/Master/SBAS_2017-2022_1/S1BB_20201020T015304_20201219T015303_VVP060_INT80_G_ueF_FB81.zip\n",
      "Extracting: /home/jovyan/notebooks/SAR_Training/English/Master/SBAS_2017-2022_1/S1BB_20201219T015303_20210217T015301_VVP060_INT80_G_ueF_E397.zip\n",
      "Extracting: /home/jovyan/notebooks/SAR_Training/English/Master/SBAS_2017-2022_1/S1BB_20201125T015304_20201231T015302_VVP036_INT80_G_ueF_9F97.zip\n",
      "Extracting: /home/jovyan/notebooks/SAR_Training/English/Master/SBAS_2017-2022_1/S1BB_20201207T015303_20210124T015301_VVP048_INT80_G_ueF_E561.zip\n",
      "Extracting: /home/jovyan/notebooks/SAR_Training/English/Master/SBAS_2017-2022_1/S1BB_20201101T015304_20201231T015302_VVP060_INT80_G_ueF_7DCC.zip\n",
      "Extracting: /home/jovyan/notebooks/SAR_Training/English/Master/SBAS_2017-2022_1/S1BB_20200902T015303_20201101T015304_VVP060_INT80_G_ueF_24B1.zip\n",
      "Extracting: /home/jovyan/notebooks/SAR_Training/English/Master/SBAS_2017-2022_1/S1BB_20200821T015303_20201020T015304_VVP060_INT80_G_ueF_91E7.zip\n",
      "Extracting: /home/jovyan/notebooks/SAR_Training/English/Master/SBAS_2017-2022_1/S1BB_20200728T015301_20200914T015304_VVP048_INT80_G_ueF_02EA.zip\n",
      "Extracting: /home/jovyan/notebooks/SAR_Training/English/Master/SBAS_2017-2022_1/S1BB_20200902T015303_20201020T015304_VVP048_INT80_G_ueF_8E2D.zip\n",
      "Extracting: /home/jovyan/notebooks/SAR_Training/English/Master/SBAS_2017-2022_1/S1BB_20200914T015304_20201008T015304_VVP024_INT80_G_ueF_46E3.zip\n",
      "Extracting: /home/jovyan/notebooks/SAR_Training/English/Master/SBAS_2017-2022_1/S1BB_20200728T015301_20200926T015304_VVP060_INT80_G_ueF_CE57.zip\n",
      "Extracting: /home/jovyan/notebooks/SAR_Training/English/Master/SBAS_2017-2022_1/S1BB_20200926T015304_20201125T015304_VVP060_INT80_G_ueF_D5AA.zip\n",
      "Extracting: /home/jovyan/notebooks/SAR_Training/English/Master/SBAS_2017-2022_1/S1BB_20201008T015304_20201207T015303_VVP060_INT80_G_ueF_CFBC.zip\n",
      "Extracting: /home/jovyan/notebooks/SAR_Training/English/Master/SBAS_2017-2022_1/S1BB_20200716T015300_20200914T015304_VVP060_INT80_G_ueF_851A.zip\n",
      "Extracting: /home/jovyan/notebooks/SAR_Training/English/Master/SBAS_2017-2022_1/S1BB_20200809T015302_20200914T015304_VVP036_INT80_G_ueF_EC3F.zip\n",
      "Extracting: /home/jovyan/notebooks/SAR_Training/English/Master/SBAS_2017-2022_1/S1BB_20201020T015304_20201113T015304_VVP024_INT80_G_ueF_6B39.zip\n",
      "Extracting: /home/jovyan/notebooks/SAR_Training/English/Master/SBAS_2017-2022_1/S1BB_20201008T015304_20201125T015304_VVP048_INT80_G_ueF_283F.zip\n",
      "Extracting: /home/jovyan/notebooks/SAR_Training/English/Master/SBAS_2017-2022_1/S1BB_20200809T015302_20200926T015304_VVP048_INT80_G_ueF_F364.zip\n",
      "Extracting: /home/jovyan/notebooks/SAR_Training/English/Master/SBAS_2017-2022_1/S1BB_20200809T015302_20201008T015304_VVP060_INT80_G_ueF_6C84.zip\n",
      "Extracting: /home/jovyan/notebooks/SAR_Training/English/Master/SBAS_2017-2022_1/S1BB_20200728T015301_20200902T015303_VVP036_INT80_G_ueF_C2F9.zip\n",
      "Extracting: /home/jovyan/notebooks/SAR_Training/English/Master/SBAS_2017-2022_1/S1BB_20200902T015303_20200926T015304_VVP024_INT80_G_ueF_C711.zip\n",
      "Extracting: /home/jovyan/notebooks/SAR_Training/English/Master/SBAS_2017-2022_1/S1BB_20200902T015303_20201008T015304_VVP036_INT80_G_ueF_9BBB.zip\n",
      "Extracting: /home/jovyan/notebooks/SAR_Training/English/Master/SBAS_2017-2022_1/S1BB_20201020T015304_20201125T015304_VVP036_INT80_G_ueF_6F82.zip\n",
      "Extracting: /home/jovyan/notebooks/SAR_Training/English/Master/SBAS_2017-2022_1/S1BB_20200809T015302_20200902T015303_VVP024_INT80_G_ueF_05AE.zip\n",
      "Extracting: /home/jovyan/notebooks/SAR_Training/English/Master/SBAS_2017-2022_1/S1BB_20200716T015300_20200902T015303_VVP048_INT80_G_ueF_78EA.zip\n",
      "Extracting: /home/jovyan/notebooks/SAR_Training/English/Master/SBAS_2017-2022_1/S1BB_20200622T015259_20200716T015300_VVP024_INT80_G_ueF_0F7E.zip\n",
      "Extracting: /home/jovyan/notebooks/SAR_Training/English/Master/SBAS_2017-2022_1/S1BB_20200622T015259_20200821T015303_VVP060_INT80_G_ueF_A5AA.zip\n",
      "Extracting: /home/jovyan/notebooks/SAR_Training/English/Master/SBAS_2017-2022_1/S1BB_20200610T015259_20200716T015300_VVP036_INT80_G_ueF_26B6.zip\n",
      "Extracting: /home/jovyan/notebooks/SAR_Training/English/Master/SBAS_2017-2022_1/S1BB_20200716T015300_20200809T015302_VVP024_INT80_G_ueF_8872.zip\n",
      "Extracting: /home/jovyan/notebooks/SAR_Training/English/Master/SBAS_2017-2022_1/S1BB_20200704T015300_20200821T015303_VVP048_INT80_G_ueF_DDDA.zip\n",
      "Extracting: /home/jovyan/notebooks/SAR_Training/English/Master/SBAS_2017-2022_1/S1BB_20200505T015256_20200704T015300_VVP060_INT80_G_ueF_34AD.zip\n",
      "Extracting: /home/jovyan/notebooks/SAR_Training/English/Master/SBAS_2017-2022_1/S1BB_20200610T015259_20200809T015302_VVP060_INT80_G_ueF_B338.zip\n",
      "Extracting: /home/jovyan/notebooks/SAR_Training/English/Master/SBAS_2017-2022_1/S1BB_20200505T015256_20200529T015258_VVP024_INT80_G_ueF_4DDC.zip\n",
      "Extracting: /home/jovyan/notebooks/SAR_Training/English/Master/SBAS_2017-2022_1/S1BB_20200704T015300_20200902T015303_VVP060_INT80_G_ueF_C896.zip\n",
      "Extracting: /home/jovyan/notebooks/SAR_Training/English/Master/SBAS_2017-2022_1/S1BB_20200610T015259_20200728T015301_VVP048_INT80_G_ueF_28F3.zip\n",
      "Extracting: /home/jovyan/notebooks/SAR_Training/English/Master/SBAS_2017-2022_1/S1BB_20200517T015257_20200704T015300_VVP048_INT80_G_ueF_C415.zip\n",
      "Extracting: /home/jovyan/notebooks/SAR_Training/English/Master/SBAS_2017-2022_1/S1BB_20200610T015259_20200704T015300_VVP024_INT80_G_ueF_FCCB.zip\n",
      "Extracting: /home/jovyan/notebooks/SAR_Training/English/Master/SBAS_2017-2022_1/S1BB_20200517T015257_20200622T015259_VVP036_INT80_G_ueF_8D2D.zip\n",
      "Extracting: /home/jovyan/notebooks/SAR_Training/English/Master/SBAS_2017-2022_1/S1BB_20200529T015258_20200716T015300_VVP048_INT80_G_ueF_8F36.zip\n",
      "Extracting: /home/jovyan/notebooks/SAR_Training/English/Master/SBAS_2017-2022_1/S1BB_20200716T015300_20200821T015303_VVP036_INT80_G_ueF_28F2.zip\n",
      "Extracting: /home/jovyan/notebooks/SAR_Training/English/Master/SBAS_2017-2022_1/S1BB_20200517T015257_20200716T015300_VVP060_INT80_G_ueF_F94F.zip\n",
      "Extracting: /home/jovyan/notebooks/SAR_Training/English/Master/SBAS_2017-2022_1/S1BB_20200505T015256_20200622T015259_VVP048_INT80_G_ueF_25C7.zip\n",
      "Extracting: /home/jovyan/notebooks/SAR_Training/English/Master/SBAS_2017-2022_1/S1BB_20200517T015257_20200610T015259_VVP024_INT80_G_ueF_A8AD.zip\n",
      "Extracting: /home/jovyan/notebooks/SAR_Training/English/Master/SBAS_2017-2022_1/S1BB_20200529T015258_20200728T015301_VVP060_INT80_G_ueF_FB6F.zip\n",
      "Extracting: /home/jovyan/notebooks/SAR_Training/English/Master/SBAS_2017-2022_1/S1BB_20200505T015256_20200610T015259_VVP036_INT80_G_ueF_B5B1.zip\n",
      "Extracting: /home/jovyan/notebooks/SAR_Training/English/Master/SBAS_2017-2022_1/S1BB_20200411T015255_20200610T015259_VVP060_INT80_G_ueF_54F0.zip\n",
      "Extracting: /home/jovyan/notebooks/SAR_Training/English/Master/SBAS_2017-2022_1/S1BB_20200306T015255_20200505T015256_VVP060_INT80_G_ueF_B596.zip\n",
      "Extracting: /home/jovyan/notebooks/SAR_Training/English/Master/SBAS_2017-2022_1/S1BB_20200306T015255_20200411T015255_VVP036_INT80_G_ueF_B4DD.zip\n",
      "Extracting: /home/jovyan/notebooks/SAR_Training/English/Master/SBAS_2017-2022_1/S1BB_20200223T015255_20200411T015255_VVP048_INT80_G_ueF_8283.zip\n",
      "Extracting: /home/jovyan/notebooks/SAR_Training/English/Master/SBAS_2017-2022_1/S1BB_20200318T015255_20200517T015257_VVP060_INT80_G_ueF_B7DE.zip\n",
      "Extracting: /home/jovyan/notebooks/SAR_Training/English/Master/SBAS_2017-2022_1/S1BB_20200423T015256_20200517T015257_VVP024_INT80_G_ueF_EAA8.zip\n",
      "Extracting: /home/jovyan/notebooks/SAR_Training/English/Master/SBAS_2017-2022_1/S1BB_20200223T015255_20200423T015256_VVP060_INT80_G_ueF_7BCD.zip\n",
      "Extracting: /home/jovyan/notebooks/SAR_Training/English/Master/SBAS_2017-2022_1/S1BB_20200211T015255_20200306T015255_VVP024_INT80_G_ueF_36A0.zip\n",
      "Extracting: /home/jovyan/notebooks/SAR_Training/English/Master/SBAS_2017-2022_1/S1BB_20200211T015255_20200411T015255_VVP060_INT80_G_ueF_6C20.zip\n",
      "Extracting: /home/jovyan/notebooks/SAR_Training/English/Master/SBAS_2017-2022_1/S1BB_20200211T015255_20200318T015255_VVP036_INT80_G_ueF_86E0.zip\n",
      "Extracting: /home/jovyan/notebooks/SAR_Training/English/Master/SBAS_2017-2022_1/S1BB_20200318T015255_20200505T015256_VVP048_INT80_G_ueF_625D.zip\n",
      "Extracting: /home/jovyan/notebooks/SAR_Training/English/Master/SBAS_2017-2022_1/S1BB_20200223T015255_20200318T015255_VVP024_INT80_G_ueF_4ADB.zip\n",
      "Extracting: /home/jovyan/notebooks/SAR_Training/English/Master/SBAS_2017-2022_1/S1BB_20200318T015255_20200423T015256_VVP036_INT80_G_ueF_E398.zip\n",
      "Extracting: /home/jovyan/notebooks/SAR_Training/English/Master/SBAS_2017-2022_1/S1BB_20200423T015256_20200529T015258_VVP036_INT80_G_ueF_E251.zip\n",
      "Extracting: /home/jovyan/notebooks/SAR_Training/English/Master/SBAS_2017-2022_1/S1BB_20200423T015256_20200610T015259_VVP048_INT80_G_ueF_DA16.zip\n",
      "Extracting: /home/jovyan/notebooks/SAR_Training/English/Master/SBAS_2017-2022_1/S1BB_20200306T015255_20200423T015256_VVP048_INT80_G_ueF_55A7.zip\n",
      "Extracting: /home/jovyan/notebooks/SAR_Training/English/Master/SBAS_2017-2022_1/S1BB_20200411T015255_20200505T015256_VVP024_INT80_G_ueF_8181.zip\n",
      "Extracting: /home/jovyan/notebooks/SAR_Training/English/Master/SBAS_2017-2022_1/S1BB_20200411T015255_20200529T015258_VVP048_INT80_G_ueF_61F7.zip\n",
      "Extracting: /home/jovyan/notebooks/SAR_Training/English/Master/SBAS_2017-2022_1/S1BB_20200318T015255_20200411T015255_VVP024_INT80_G_ueF_BC0A.zip\n",
      "Extracting: /home/jovyan/notebooks/SAR_Training/English/Master/SBAS_2017-2022_1/S1BB_20200411T015255_20200517T015257_VVP036_INT80_G_ueF_DC04.zip\n",
      "Extracting: /home/jovyan/notebooks/SAR_Training/English/Master/SBAS_2017-2022_1/S1BB_20200106T015256_20200130T015255_VVP024_INT80_G_ueF_B4A5.zip\n",
      "Extracting: /home/jovyan/notebooks/SAR_Training/English/Master/SBAS_2017-2022_1/S1BB_20200106T015256_20200211T015255_VVP036_INT80_G_ueF_41DC.zip\n",
      "Extracting: /home/jovyan/notebooks/SAR_Training/English/Master/SBAS_2017-2022_1/S1BB_20191225T015257_20200223T015255_VVP060_INT80_G_ueF_2037.zip\n",
      "Extracting: /home/jovyan/notebooks/SAR_Training/English/Master/SBAS_2017-2022_1/S1BB_20200118T015255_20200211T015255_VVP024_INT80_G_ueF_4D8D.zip\n",
      "Extracting: /home/jovyan/notebooks/SAR_Training/English/Master/SBAS_2017-2022_1/S1BB_20191213T015257_20200130T015255_VVP048_INT80_G_ueF_78E2.zip\n",
      "Extracting: /home/jovyan/notebooks/SAR_Training/English/Master/SBAS_2017-2022_1/S1BB_20191225T015257_20200118T015255_VVP024_INT80_G_ueF_BE88.zip\n",
      "Extracting: /home/jovyan/notebooks/SAR_Training/English/Master/SBAS_2017-2022_1/S1BB_20200130T015255_20200223T015255_VVP024_INT80_G_ueF_16BB.zip\n",
      "Extracting: /home/jovyan/notebooks/SAR_Training/English/Master/SBAS_2017-2022_1/S1BB_20200130T015255_20200318T015255_VVP048_INT80_G_ueF_9390.zip\n",
      "Extracting: /home/jovyan/notebooks/SAR_Training/English/Master/SBAS_2017-2022_1/S1BB_20200106T015256_20200223T015255_VVP048_INT80_G_ueF_E705.zip\n",
      "Extracting: /home/jovyan/notebooks/SAR_Training/English/Master/SBAS_2017-2022_1/S1BB_20191225T015257_20200130T015255_VVP036_INT80_G_ueF_B360.zip\n",
      "Extracting: /home/jovyan/notebooks/SAR_Training/English/Master/SBAS_2017-2022_1/S1BB_20191201T015257_20200130T015255_VVP060_INT80_G_ueF_DA79.zip\n",
      "Extracting: /home/jovyan/notebooks/SAR_Training/English/Master/SBAS_2017-2022_1/S1BB_20191213T015257_20200211T015255_VVP060_INT80_G_ueF_0907.zip\n",
      "Extracting: /home/jovyan/notebooks/SAR_Training/English/Master/SBAS_2017-2022_1/S1BB_20200106T015256_20200306T015255_VVP060_INT80_G_ueF_2060.zip\n",
      "Extracting: /home/jovyan/notebooks/SAR_Training/English/Master/SBAS_2017-2022_1/S1BB_20200118T015255_20200306T015255_VVP048_INT80_G_ueF_A5E9.zip\n",
      "Extracting: /home/jovyan/notebooks/SAR_Training/English/Master/SBAS_2017-2022_1/S1BB_20191225T015257_20200211T015255_VVP048_INT80_G_ueF_3C87.zip\n",
      "Extracting: /home/jovyan/notebooks/SAR_Training/English/Master/SBAS_2017-2022_1/S1BB_20200118T015255_20200223T015255_VVP036_INT80_G_ueF_8D8B.zip\n",
      "Extracting: /home/jovyan/notebooks/SAR_Training/English/Master/SBAS_2017-2022_1/S1BB_20191213T015257_20200106T015256_VVP024_INT80_G_ueF_46CB.zip\n",
      "Extracting: /home/jovyan/notebooks/SAR_Training/English/Master/SBAS_2017-2022_1/S1BB_20191213T015257_20200118T015255_VVP036_INT80_G_ueF_229F.zip\n",
      "Extracting: /home/jovyan/notebooks/SAR_Training/English/Master/SBAS_2017-2022_1/S1BB_20200118T015255_20200318T015255_VVP060_INT80_G_ueF_C011.zip\n",
      "Extracting: /home/jovyan/notebooks/SAR_Training/English/Master/SBAS_2017-2022_1/S1BB_20200130T015255_20200306T015255_VVP036_INT80_G_ueF_5AA7.zip\n",
      "Extracting: /home/jovyan/notebooks/SAR_Training/English/Master/SBAS_2017-2022_1/S1BB_20191014T015258_20191107T015258_VVP024_INT80_G_ueF_95CB.zip\n",
      "Extracting: /home/jovyan/notebooks/SAR_Training/English/Master/SBAS_2017-2022_1/S1BB_20191201T015257_20191225T015257_VVP024_INT80_G_ueF_EC5F.zip\n",
      "Extracting: /home/jovyan/notebooks/SAR_Training/English/Master/SBAS_2017-2022_1/S1BB_20190827T015257_20191002T015258_VVP036_INT80_G_ueF_D484.zip\n",
      "Extracting: /home/jovyan/notebooks/SAR_Training/English/Master/SBAS_2017-2022_1/S1BB_20191014T015258_20191201T015257_VVP048_INT80_G_ueF_59D3.zip\n",
      "Extracting: /home/jovyan/notebooks/SAR_Training/English/Master/SBAS_2017-2022_1/S1BB_20191026T015258_20191225T015257_VVP060_INT80_G_ueF_A53E.zip\n",
      "Extracting: /home/jovyan/notebooks/SAR_Training/English/Master/SBAS_2017-2022_1/S1BB_20191107T015258_20191225T015257_VVP048_INT80_G_ueF_9A80.zip\n",
      "Extracting: /home/jovyan/notebooks/SAR_Training/English/Master/SBAS_2017-2022_1/S1BB_20191119T015258_20200118T015255_VVP060_INT80_G_ueF_FDB2.zip\n",
      "Extracting: /home/jovyan/notebooks/SAR_Training/English/Master/SBAS_2017-2022_1/S1BB_20191002T015258_20191107T015258_VVP036_INT80_G_ueF_0C4F.zip\n",
      "Extracting: /home/jovyan/notebooks/SAR_Training/English/Master/SBAS_2017-2022_1/S1BB_20191107T015258_20200106T015256_VVP060_INT80_G_ueF_9D18.zip\n",
      "Extracting: /home/jovyan/notebooks/SAR_Training/English/Master/SBAS_2017-2022_1/S1BB_20191026T015258_20191213T015257_VVP048_INT80_G_ueF_D8A9.zip\n",
      "Extracting: /home/jovyan/notebooks/SAR_Training/English/Master/SBAS_2017-2022_1/S1BB_20191026T015258_20191201T015257_VVP036_INT80_G_ueF_39BF.zip\n",
      "Extracting: /home/jovyan/notebooks/SAR_Training/English/Master/SBAS_2017-2022_1/S1BB_20190908T015257_20191002T015258_VVP024_INT80_G_ueF_A4F6.zip\n",
      "Extracting: /home/jovyan/notebooks/SAR_Training/English/Master/SBAS_2017-2022_1/S1BB_20191201T015257_20200106T015256_VVP036_INT80_G_ueF_80F4.zip\n",
      "Extracting: /home/jovyan/notebooks/SAR_Training/English/Master/SBAS_2017-2022_1/S1BB_20191107T015258_20191213T015257_VVP036_INT80_G_ueF_730B.zip\n",
      "Extracting: /home/jovyan/notebooks/SAR_Training/English/Master/SBAS_2017-2022_1/S1BB_20191014T015258_20191213T015257_VVP060_INT80_G_ueF_8BB3.zip\n",
      "Extracting: /home/jovyan/notebooks/SAR_Training/English/Master/SBAS_2017-2022_1/S1BB_20190815T015256_20191014T015258_VVP060_INT80_G_ueF_9915.zip\n",
      "Extracting: /home/jovyan/notebooks/SAR_Training/English/Master/SBAS_2017-2022_1/S1BB_20191201T015257_20200118T015255_VVP048_INT80_G_ueF_F79C.zip\n",
      "Extracting: /home/jovyan/notebooks/SAR_Training/English/Master/SBAS_2017-2022_1/S1BB_20191107T015258_20191201T015257_VVP024_INT80_G_ueF_C0C6.zip\n",
      "Extracting: /home/jovyan/notebooks/SAR_Training/English/Master/SBAS_2017-2022_1/S1BB_20191002T015258_20191201T015257_VVP060_INT80_G_ueF_17B3.zip\n",
      "Extracting: /home/jovyan/notebooks/SAR_Training/English/Master/SBAS_2017-2022_1/S1BB_20191002T015258_20191119T015258_VVP048_INT80_G_ueF_970C.zip\n",
      "Extracting: /home/jovyan/notebooks/SAR_Training/English/Master/SBAS_2017-2022_1/S1BB_20190616T015252_20190803T015255_VVP048_INT80_G_ueF_F976.zip\n",
      "Extracting: /home/jovyan/notebooks/SAR_Training/English/Master/SBAS_2017-2022_1/S1BB_20190616T015252_20190722T015254_VVP036_INT80_G_ueF_E742.zip\n",
      "Extracting: /home/jovyan/notebooks/SAR_Training/English/Master/SBAS_2017-2022_1/S1BB_20190710T015254_20190827T015257_VVP048_INT80_G_ueF_DF01.zip\n",
      "Extracting: /home/jovyan/notebooks/SAR_Training/English/Master/SBAS_2017-2022_1/S1BB_20190710T015254_20190908T015257_VVP060_INT80_G_ueF_01BC.zip\n",
      "Extracting: /home/jovyan/notebooks/SAR_Training/English/Master/SBAS_2017-2022_1/S1BB_20190616T015252_20190815T015256_VVP060_INT80_G_ueF_44D0.zip\n",
      "Extracting: /home/jovyan/notebooks/SAR_Training/English/Master/SBAS_2017-2022_1/S1BB_20190722T015254_20190815T015256_VVP024_INT80_G_ueF_A9CA.zip\n",
      "Extracting: /home/jovyan/notebooks/SAR_Training/English/Master/SBAS_2017-2022_1/S1BB_20190523T015251_20190710T015254_VVP048_INT80_G_ueF_E787.zip\n",
      "Extracting: /home/jovyan/notebooks/SAR_Training/English/Master/SBAS_2017-2022_1/S1BB_20190523T015251_20190616T015252_VVP024_INT80_G_ueF_D496.zip\n",
      "Extracting: /home/jovyan/notebooks/SAR_Training/English/Master/SBAS_2017-2022_1/S1BB_20190722T015254_20190908T015257_VVP048_INT80_G_ueF_9664.zip\n",
      "Extracting: /home/jovyan/notebooks/SAR_Training/English/Master/SBAS_2017-2022_1/S1BB_20190511T015250_20190628T015253_VVP048_INT80_G_ueF_A762.zip\n",
      "Extracting: /home/jovyan/notebooks/SAR_Training/English/Master/SBAS_2017-2022_1/S1BB_20190628T015253_20190722T015254_VVP024_INT80_G_ueF_721A.zip\n",
      "Extracting: /home/jovyan/notebooks/SAR_Training/English/Master/SBAS_2017-2022_1/S1BB_20190628T015253_20190803T015255_VVP036_INT80_G_ueF_45D2.zip\n",
      "Extracting: /home/jovyan/notebooks/SAR_Training/English/Master/SBAS_2017-2022_1/S1BB_20190815T015256_20191002T015258_VVP048_INT80_G_ueF_618F.zip\n",
      "Extracting: /home/jovyan/notebooks/SAR_Training/English/Master/SBAS_2017-2022_1/S1BB_20190628T015253_20190815T015256_VVP048_INT80_G_ueF_E425.zip\n",
      "Extracting: /home/jovyan/notebooks/SAR_Training/English/Master/SBAS_2017-2022_1/S1BB_20190511T015250_20190616T015252_VVP036_INT80_G_ueF_69C0.zip\n",
      "Extracting: /home/jovyan/notebooks/SAR_Training/English/Master/SBAS_2017-2022_1/S1BB_20190628T015253_20190827T015257_VVP060_INT80_G_ueF_9553.zip\n",
      "Extracting: /home/jovyan/notebooks/SAR_Training/English/Master/SBAS_2017-2022_1/S1BB_20190523T015251_20190628T015253_VVP036_INT80_G_ueF_9936.zip\n",
      "Extracting: /home/jovyan/notebooks/SAR_Training/English/Master/SBAS_2017-2022_1/S1BB_20190523T015251_20190722T015254_VVP060_INT80_G_ueF_38D6.zip\n",
      "Extracting: /home/jovyan/notebooks/SAR_Training/English/Master/SBAS_2017-2022_1/S1BB_20190511T015250_20190710T015254_VVP060_INT80_G_ueF_BAC0.zip\n",
      "Extracting: /home/jovyan/notebooks/SAR_Training/English/Master/SBAS_2017-2022_1/S1BB_20190722T015254_20190827T015257_VVP036_INT80_G_ueF_225A.zip\n",
      "Extracting: /home/jovyan/notebooks/SAR_Training/English/Master/SBAS_2017-2022_1/S1BB_20190312T015248_20190511T015250_VVP060_INT80_G_ueF_67ED.zip\n",
      "Extracting: /home/jovyan/notebooks/SAR_Training/English/Master/SBAS_2017-2022_1/S1BB_20190324T015249_20190417T015249_VVP024_INT80_G_ueF_3757.zip\n",
      "Extracting: /home/jovyan/notebooks/SAR_Training/English/Master/SBAS_2017-2022_1/S1BB_20181230T015250_20190123T015249_VVP024_INT80_G_ueF_0C5D.zip\n",
      "Extracting: /home/jovyan/notebooks/SAR_Training/English/Master/SBAS_2017-2022_1/S1BB_20190123T015249_20190324T015249_VVP060_INT80_G_ueF_4821.zip\n",
      "Extracting: /home/jovyan/notebooks/SAR_Training/English/Master/SBAS_2017-2022_1/S1BB_20190312T015248_20190429T015250_VVP048_INT80_G_ueF_663C.zip\n",
      "Extracting: /home/jovyan/notebooks/SAR_Training/English/Master/SBAS_2017-2022_1/S1BB_20180703T015247_20180727T015249_VVP024_INT80_G_ueF_1D1B.zip\n",
      "Extracting: /home/jovyan/notebooks/SAR_Training/English/Master/SBAS_2017-2022_1/S1BB_20190417T015249_20190523T015251_VVP036_INT80_G_ueF_201C.zip\n",
      "Extracting: /home/jovyan/notebooks/SAR_Training/English/Master/SBAS_2017-2022_1/S1BB_20190324T015249_20190523T015251_VVP060_INT80_G_ueF_3F32.zip\n",
      "Extracting: /home/jovyan/notebooks/SAR_Training/English/Master/SBAS_2017-2022_1/S1BB_20190429T015250_20190523T015251_VVP024_INT80_G_ueF_5C10.zip\n",
      "Extracting: /home/jovyan/notebooks/SAR_Training/English/Master/SBAS_2017-2022_1/S1BB_20190111T015250_20190312T015248_VVP060_INT80_G_ueF_699A.zip\n",
      "Extracting: /home/jovyan/notebooks/SAR_Training/English/Master/SBAS_2017-2022_1/S1BB_20190312T015248_20190405T015249_VVP024_INT80_G_ueF_54D6.zip\n",
      "Extracting: /home/jovyan/notebooks/SAR_Training/English/Master/SBAS_2017-2022_1/S1BB_20190123T015249_20190312T015248_VVP048_INT80_G_ueF_5091.zip\n",
      "Extracting: /home/jovyan/notebooks/SAR_Training/English/Master/SBAS_2017-2022_1/S1BB_20180727T015249_20180925T015251_VVP060_INT80_G_ueF_B8E5.zip\n",
      "Extracting: /home/jovyan/notebooks/SAR_Training/English/Master/SBAS_2017-2022_1/S1BB_20190417T015249_20190616T015252_VVP060_INT80_G_ueF_AFA4.zip\n",
      "Extracting: /home/jovyan/notebooks/SAR_Training/English/Master/SBAS_2017-2022_1/S1BB_20190405T015249_20190523T015251_VVP048_INT80_G_ueF_FFA1.zip\n",
      "Extracting: /home/jovyan/notebooks/SAR_Training/English/Master/SBAS_2017-2022_1/S1BB_20190405T015249_20190511T015250_VVP036_INT80_G_ueF_E9E0.zip\n",
      "Extracting: /home/jovyan/notebooks/SAR_Training/English/Master/SBAS_2017-2022_1/S1BB_20190312T015248_20190417T015249_VVP036_INT80_G_ueF_263B.zip\n",
      "Extracting: /home/jovyan/notebooks/SAR_Training/English/Master/SBAS_2017-2022_1/S1BB_20190324T015249_20190511T015250_VVP048_INT80_G_ueF_B286.zip\n",
      "Extracting: /home/jovyan/notebooks/SAR_Training/English/Master/SBAS_2017-2022_1/S1BB_20190429T015250_20190628T015253_VVP060_INT80_G_ueF_8704.zip\n",
      "Extracting: /home/jovyan/notebooks/SAR_Training/English/Master/SBAS_2017-2022_1/S1BB_20190417T015249_20190511T015250_VVP024_INT80_G_ueF_40E5.zip\n",
      "Extracting: /home/jovyan/notebooks/SAR_Training/English/Master/SBAS_2017-2022_1/S1BB_20180621T015246_20180715T015248_VVP024_INT80_G_ueF_6438.zip\n",
      "Extracting: /home/jovyan/notebooks/SAR_Training/English/Master/SBAS_2017-2022_1/S1BB_20180621T015246_20180727T015249_VVP036_INT80_G_ueF_3746.zip\n",
      "Extracting: /home/jovyan/notebooks/SAR_Training/English/Master/SBAS_2017-2022_1/S1BB_20180528T015245_20180621T015246_VVP024_INT80_G_ueF_3CA2.zip\n",
      "Extracting: /home/jovyan/notebooks/SAR_Training/English/Master/SBAS_2017-2022_1/S1BB_20180516T015244_20180609T015246_VVP024_INT80_G_ueF_51D1.zip\n",
      "Extracting: /home/jovyan/notebooks/SAR_Training/English/Master/SBAS_2017-2022_1/S1BB_20180504T015244_20180609T015246_VVP036_INT80_G_ueF_3202.zip\n",
      "Extracting: /home/jovyan/notebooks/SAR_Training/English/Master/SBAS_2017-2022_1/S1BB_20180504T015244_20180621T015246_VVP048_INT80_G_ueF_CB79.zip\n",
      "Extracting: /home/jovyan/notebooks/SAR_Training/English/Master/SBAS_2017-2022_1/S1BB_20180422T015243_20180528T015245_VVP036_INT80_G_ueF_E549.zip\n",
      "Extracting: /home/jovyan/notebooks/SAR_Training/English/Master/SBAS_2017-2022_1/S1BB_20180528T015245_20180727T015249_VVP060_INT80_G_ueF_FB95.zip\n",
      "Extracting: /home/jovyan/notebooks/SAR_Training/English/Master/SBAS_2017-2022_1/S1BB_20180422T015243_20180516T015244_VVP024_INT80_G_ueF_8DC9.zip\n",
      "Extracting: /home/jovyan/notebooks/SAR_Training/English/Master/SBAS_2017-2022_1/S1BB_20180516T015244_20180621T015246_VVP036_INT80_G_ueF_AB0E.zip\n",
      "Extracting: /home/jovyan/notebooks/SAR_Training/English/Master/SBAS_2017-2022_1/S1BB_20180528T015245_20180715T015248_VVP048_INT80_G_ueF_7B5A.zip\n",
      "Extracting: /home/jovyan/notebooks/SAR_Training/English/Master/SBAS_2017-2022_1/S1BB_20180422T015243_20180621T015246_VVP060_INT80_G_ueF_E51B.zip\n",
      "Extracting: /home/jovyan/notebooks/SAR_Training/English/Master/SBAS_2017-2022_1/S1BB_20180422T015243_20180609T015246_VVP048_INT80_G_ueF_CADD.zip\n",
      "Extracting: /home/jovyan/notebooks/SAR_Training/English/Master/SBAS_2017-2022_1/S1BB_20180504T015244_20180528T015245_VVP024_INT80_G_ueF_E9F9.zip\n",
      "Extracting: /home/jovyan/notebooks/SAR_Training/English/Master/SBAS_2017-2022_1/S1BB_20180609T015246_20180703T015247_VVP024_INT80_G_ueF_4C7F.zip\n",
      "Extracting: /home/jovyan/notebooks/SAR_Training/English/Master/SBAS_2017-2022_1/S1BB_20180516T015244_20180703T015247_VVP048_INT80_G_ueF_9CB2.zip\n",
      "Extracting: /home/jovyan/notebooks/SAR_Training/English/Master/SBAS_2017-2022_1/S1BB_20180609T015246_20180727T015249_VVP048_INT80_G_ueF_CA58.zip\n",
      "Extracting: /home/jovyan/notebooks/SAR_Training/English/Master/SBAS_2017-2022_1/S1BB_20180528T015245_20180703T015247_VVP036_INT80_G_ueF_00E1.zip\n",
      "Extracting: /home/jovyan/notebooks/SAR_Training/English/Master/SBAS_2017-2022_1/S1BB_20180516T015244_20180715T015248_VVP060_INT80_G_ueF_FA3E.zip\n",
      "Extracting: /home/jovyan/notebooks/SAR_Training/English/Master/SBAS_2017-2022_1/S1BB_20180504T015244_20180703T015247_VVP060_INT80_G_ueF_F5B6.zip\n",
      "Extracting: /home/jovyan/notebooks/SAR_Training/English/Master/SBAS_2017-2022_1/S1BB_20180116T015243_20180305T015242_VVP048_INT80_G_ueF_852F.zip\n",
      "Extracting: /home/jovyan/notebooks/SAR_Training/English/Master/SBAS_2017-2022_1/S1BB_20180317T015242_20180504T015244_VVP048_INT80_G_ueF_F92D.zip\n",
      "Extracting: /home/jovyan/notebooks/SAR_Training/English/Master/SBAS_2017-2022_1/S1BB_20180317T015242_20180422T015243_VVP036_INT80_G_ueF_2E5D.zip\n",
      "Extracting: /home/jovyan/notebooks/SAR_Training/English/Master/SBAS_2017-2022_1/S1BB_20180128T015242_20180317T015242_VVP048_INT80_G_ueF_5636.zip\n",
      "Extracting: /home/jovyan/notebooks/SAR_Training/English/Master/SBAS_2017-2022_1/S1BB_20180209T015242_20180410T015243_VVP060_INT80_G_ueF_CCCD.zip\n",
      "Extracting: /home/jovyan/notebooks/SAR_Training/English/Master/SBAS_2017-2022_1/S1BB_20180104T015243_20180209T015242_VVP036_INT80_G_ueF_179D.zip\n",
      "Extracting: /home/jovyan/notebooks/SAR_Training/English/Master/SBAS_2017-2022_1/S1BB_20180116T015243_20180317T015242_VVP060_INT80_G_ueF_D8EA.zip\n",
      "Extracting: /home/jovyan/notebooks/SAR_Training/English/Master/SBAS_2017-2022_1/S1BB_20180410T015243_20180504T015244_VVP024_INT80_G_ueF_13DB.zip\n",
      "Extracting: /home/jovyan/notebooks/SAR_Training/English/Master/SBAS_2017-2022_1/S1BB_20180209T015242_20180317T015242_VVP036_INT80_G_ueF_3145.zip\n",
      "Extracting: /home/jovyan/notebooks/SAR_Training/English/Master/SBAS_2017-2022_1/S1BB_20180410T015243_20180609T015246_VVP060_INT80_G_ueF_07A5.zip\n",
      "Extracting: /home/jovyan/notebooks/SAR_Training/English/Master/SBAS_2017-2022_1/S1BB_20180410T015243_20180528T015245_VVP048_INT80_G_ueF_C023.zip\n",
      "Extracting: /home/jovyan/notebooks/SAR_Training/English/Master/SBAS_2017-2022_1/S1BB_20171223T015244_20180209T015242_VVP048_INT80_G_ueF_49D1.zip\n",
      "Extracting: /home/jovyan/notebooks/SAR_Training/English/Master/SBAS_2017-2022_1/S1BB_20180116T015243_20180209T015242_VVP024_INT80_G_ueF_ABB6.zip\n",
      "Extracting: /home/jovyan/notebooks/SAR_Training/English/Master/SBAS_2017-2022_1/S1BB_20180104T015243_20180128T015242_VVP024_INT80_G_ueF_57DB.zip\n",
      "Extracting: /home/jovyan/notebooks/SAR_Training/English/Master/SBAS_2017-2022_1/S1BB_20180305T015242_20180422T015243_VVP048_INT80_G_ueF_F6A3.zip\n",
      "Extracting: /home/jovyan/notebooks/SAR_Training/English/Master/SBAS_2017-2022_1/S1BB_20180305T015242_20180410T015243_VVP036_INT80_G_ueF_15F7.zip\n",
      "Extracting: /home/jovyan/notebooks/SAR_Training/English/Master/SBAS_2017-2022_1/S1BB_20180209T015242_20180305T015242_VVP024_INT80_G_ueF_7A1B.zip\n",
      "Extracting: /home/jovyan/notebooks/SAR_Training/English/Master/SBAS_2017-2022_1/S1BB_20180305T015242_20180504T015244_VVP060_INT80_G_ueF_43B1.zip\n",
      "Extracting: /home/jovyan/notebooks/SAR_Training/English/Master/SBAS_2017-2022_1/S1BB_20180317T015242_20180516T015244_VVP060_INT80_G_ueF_3AA8.zip\n",
      "Extracting: /home/jovyan/notebooks/SAR_Training/English/Master/SBAS_2017-2022_1/S1BB_20180128T015242_20180305T015242_VVP036_INT80_G_ueF_09C1.zip\n",
      "Extracting: /home/jovyan/notebooks/SAR_Training/English/Master/SBAS_2017-2022_1/S1BB_20171129T015245_20180104T015243_VVP036_INT80_G_ueF_77D9.zip\n",
      "Extracting: /home/jovyan/notebooks/SAR_Training/English/Master/SBAS_2017-2022_1/S1BB_20171024T015245_20171223T015244_VVP060_INT80_G_ueF_B2B6.zip\n",
      "Extracting: /home/jovyan/notebooks/SAR_Training/English/Master/SBAS_2017-2022_1/S1BB_20171117T015245_20180116T015243_VVP060_INT80_G_ueF_BD4F.zip\n",
      "Extracting: /home/jovyan/notebooks/SAR_Training/English/Master/SBAS_2017-2022_1/S1BB_20171223T015244_20180116T015243_VVP024_INT80_G_ueF_A002.zip\n",
      "Extracting: /home/jovyan/notebooks/SAR_Training/English/Master/SBAS_2017-2022_1/S1BB_20171211T015244_20180209T015242_VVP060_INT80_G_ueF_E38C.zip\n",
      "Extracting: /home/jovyan/notebooks/SAR_Training/English/Master/SBAS_2017-2022_1/S1BB_20171211T015244_20180116T015243_VVP036_INT80_G_ueF_5F79.zip\n",
      "Extracting: /home/jovyan/notebooks/SAR_Training/English/Master/SBAS_2017-2022_1/S1BB_20171129T015245_20180128T015242_VVP060_INT80_G_ueF_8F2D.zip\n",
      "Extracting: /home/jovyan/notebooks/SAR_Training/English/Master/SBAS_2017-2022_1/S1BB_20171223T015244_20180128T015242_VVP036_INT80_G_ueF_8E5E.zip\n",
      "Extracting: /home/jovyan/notebooks/SAR_Training/English/Master/SBAS_2017-2022_1/S1BB_20171024T015245_20171117T015245_VVP024_INT80_G_ueF_3079.zip\n",
      "Extracting: /home/jovyan/notebooks/SAR_Training/English/Master/SBAS_2017-2022_1/S1BB_20171129T015245_20171223T015244_VVP024_INT80_G_ueF_192B.zip\n",
      "Extracting: /home/jovyan/notebooks/SAR_Training/English/Master/SBAS_2017-2022_1/S1BB_20171117T015245_20171211T015244_VVP024_INT80_G_ueF_534E.zip\n",
      "Extracting: /home/jovyan/notebooks/SAR_Training/English/Master/SBAS_2017-2022_1/S1BB_20171211T015244_20180128T015242_VVP048_INT80_G_ueF_2763.zip\n",
      "Extracting: /home/jovyan/notebooks/SAR_Training/English/Master/SBAS_2017-2022_1/S1BB_20171129T015245_20180116T015243_VVP048_INT80_G_ueF_0905.zip\n",
      "Extracting: /home/jovyan/notebooks/SAR_Training/English/Master/SBAS_2017-2022_1/S1BB_20171105T015245_20171129T015245_VVP024_INT80_G_ueF_7C3D.zip\n",
      "Extracting: /home/jovyan/notebooks/SAR_Training/English/Master/SBAS_2017-2022_1/S1BB_20171024T015245_20171129T015245_VVP036_INT80_G_ueF_50E7.zip\n",
      "Extracting: /home/jovyan/notebooks/SAR_Training/English/Master/SBAS_2017-2022_1/S1BB_20171024T015245_20171211T015244_VVP048_INT80_G_ueF_5B0F.zip\n",
      "Extracting: /home/jovyan/notebooks/SAR_Training/English/Master/SBAS_2017-2022_1/S1BB_20171117T015245_20180104T015243_VVP048_INT80_G_ueF_A889.zip\n",
      "Extracting: /home/jovyan/notebooks/SAR_Training/English/Master/SBAS_2017-2022_1/S1BB_20171117T015245_20171223T015244_VVP036_INT80_G_ueF_2CB0.zip\n",
      "Extracting: /home/jovyan/notebooks/SAR_Training/English/Master/SBAS_2017-2022_1/S1BB_20171105T015245_20171223T015244_VVP048_INT80_G_ueF_A8FC.zip\n",
      "Extracting: /home/jovyan/notebooks/SAR_Training/English/Master/SBAS_2017-2022_1/S1BB_20171105T015245_20180104T015243_VVP060_INT80_G_ueF_7941.zip\n",
      "Extracting: /home/jovyan/notebooks/SAR_Training/English/Master/SBAS_2017-2022_1/S1BB_20170930T015245_20171024T015245_VVP024_INT80_G_ueF_5E1C.zip\n",
      "Extracting: /home/jovyan/notebooks/SAR_Training/English/Master/SBAS_2017-2022_1/S1BB_20170918T015245_20171024T015245_VVP036_INT80_G_ueF_D460.zip\n",
      "Extracting: /home/jovyan/notebooks/SAR_Training/English/Master/SBAS_2017-2022_1/S1BB_20170708T015241_20170825T015244_VVP048_INT80_G_ueF_253D.zip\n",
      "Extracting: /home/jovyan/notebooks/SAR_Training/English/Master/SBAS_2017-2022_1/S1BB_20170626T015240_20170825T015244_VVP060_INT80_G_ueF_F7CC.zip\n",
      "Extracting: /home/jovyan/notebooks/SAR_Training/English/Master/SBAS_2017-2022_1/S1BB_20170626T015240_20170801T015242_VVP036_INT80_G_ueF_9B78.zip\n",
      "Extracting: /home/jovyan/notebooks/SAR_Training/English/Master/SBAS_2017-2022_1/S1BB_20170801T015242_20170918T015245_VVP048_INT80_G_ueF_2422.zip\n",
      "Extracting: /home/jovyan/notebooks/SAR_Training/English/Master/SBAS_2017-2022_1/S1BB_20170918T015245_20171012T015245_VVP024_INT80_G_ueF_45A6.zip\n",
      "Extracting: /home/jovyan/notebooks/SAR_Training/English/Master/SBAS_2017-2022_1/S1BB_20170930T015245_20171129T015245_VVP060_INT80_G_ueF_0B7D.zip\n",
      "Extracting: /home/jovyan/notebooks/SAR_Training/English/Master/SBAS_2017-2022_1/S1BB_20170906T015244_20171105T015245_VVP060_INT80_G_ueF_BB0F.zip\n",
      "Extracting: /home/jovyan/notebooks/SAR_Training/English/Master/SBAS_2017-2022_1/S1BB_20170801T015242_20170825T015244_VVP024_INT80_G_ueF_FF10.zip\n",
      "Extracting: /home/jovyan/notebooks/SAR_Training/English/Master/SBAS_2017-2022_1/S1BB_20170708T015241_20170801T015242_VVP024_INT80_G_ueF_BE0B.zip\n",
      "Extracting: /home/jovyan/notebooks/SAR_Training/English/Master/SBAS_2017-2022_1/S1BB_20170918T015245_20171105T015245_VVP048_INT80_G_ueF_0D22.zip\n",
      "Extracting: /home/jovyan/notebooks/SAR_Training/English/Master/SBAS_2017-2022_1/S1BB_20170825T015244_20171024T015245_VVP060_INT80_G_ueF_52E3.zip\n",
      "Extracting: /home/jovyan/notebooks/SAR_Training/English/Master/SBAS_2017-2022_1/S1BB_20170918T015245_20171117T015245_VVP060_INT80_G_ueF_44A8.zip\n",
      "Extracting: /home/jovyan/notebooks/SAR_Training/English/Master/SBAS_2017-2022_1/S1BB_20170825T015244_20170918T015245_VVP024_INT80_G_ueF_DFBF.zip\n",
      "Extracting: /home/jovyan/notebooks/SAR_Training/English/Master/SBAS_2017-2022_1/S1BB_20170801T015242_20170930T015245_VVP060_INT80_G_ueF_D36F.zip\n",
      "Extracting: /home/jovyan/notebooks/SAR_Training/English/Master/SBAS_2017-2022_1/S1BB_20170720T015242_20170918T015245_VVP060_INT80_G_ueF_F654.zip\n",
      "Extracting: /home/jovyan/notebooks/SAR_Training/English/Master/SBAS_2017-2022_1/S1BB_20171012T015245_20171129T015245_VVP048_INT80_G_ueF_4E8E.zip\n",
      "Extracting: /home/jovyan/notebooks/SAR_Training/English/Master/SBAS_2017-2022_1/S1BB_20171012T015245_20171211T015244_VVP060_INT80_G_ueF_31A3.zip\n",
      "Extracting: /home/jovyan/notebooks/SAR_Training/English/Master/SBAS_2017-2022_1/S1BB_20170708T015241_20170906T015244_VVP060_INT80_G_ueF_B439.zip\n",
      "Extracting: /home/jovyan/notebooks/SAR_Training/English/Master/SBAS_2017-2022_1/S1BB_20170509T015238_20170708T015241_VVP060_INT80_G_ueF_8B95.zip\n",
      "Extracting: /home/jovyan/notebooks/SAR_Training/English/Master/SBAS_2017-2022_1/S1BB_20170415T015236_20170602T015239_VVP048_INT80_G_ueF_38A2.zip\n",
      "Extracting: /home/jovyan/notebooks/SAR_Training/English/Master/SBAS_2017-2022_1/S1BB_20170602T015239_20170801T015242_VVP060_INT80_G_ueF_509E.zip\n",
      "Extracting: /home/jovyan/notebooks/SAR_Training/English/Master/SBAS_2017-2022_1/S1BB_20170509T015238_20170614T015240_VVP036_INT80_G_ueF_A194.zip\n",
      "Extracting: /home/jovyan/notebooks/SAR_Training/English/Master/SBAS_2017-2022_1/S1BB_20170509T015238_20170626T015240_VVP048_INT80_G_ueF_A592.zip\n",
      "Extracting: /home/jovyan/notebooks/SAR_Training/English/Master/SBAS_2017-2022_1/S1BB_20170521T015238_20170614T015240_VVP024_INT80_G_ueF_B0C2.zip\n",
      "Extracting: /home/jovyan/notebooks/SAR_Training/English/Master/SBAS_2017-2022_1/S1BB_20170521T015238_20170720T015242_VVP060_INT80_G_ueF_D8AC.zip\n",
      "Extracting: /home/jovyan/notebooks/SAR_Training/English/Master/SBAS_2017-2022_1/S1BB_20170602T015239_20170720T015242_VVP048_INT80_G_ueF_4F89.zip\n",
      "Extracting: /home/jovyan/notebooks/SAR_Training/English/Master/SBAS_2017-2022_1/S1BB_20170427T015237_20170626T015240_VVP060_INT80_G_ueF_212E.zip\n",
      "Extracting: /home/jovyan/notebooks/SAR_Training/English/Master/SBAS_2017-2022_1/S1BB_20170415T015236_20170509T015238_VVP024_INT80_G_ueF_A3DF.zip\n",
      "Extracting: /home/jovyan/notebooks/SAR_Training/English/Master/SBAS_2017-2022_1/S1BB_20170602T015239_20170626T015240_VVP024_INT80_G_ueF_114D.zip\n",
      "Extracting: /home/jovyan/notebooks/SAR_Training/English/Master/SBAS_2017-2022_1/S1BB_20170614T015240_20170801T015242_VVP048_INT80_G_ueF_0211.zip\n",
      "Extracting: /home/jovyan/notebooks/SAR_Training/English/Master/SBAS_2017-2022_1/S1BB_20170403T015236_20170521T015238_VVP048_INT80_G_ueF_A0A0.zip\n",
      "Extracting: /home/jovyan/notebooks/SAR_Training/English/Master/SBAS_2017-2022_1/S1BB_20170415T015236_20170614T015240_VVP060_INT80_G_ueF_FA4F.zip\n",
      "Extracting: /home/jovyan/notebooks/SAR_Training/English/Master/SBAS_2017-2022_1/S1BB_20170614T015240_20170720T015242_VVP036_INT80_G_ueF_AD07.zip\n",
      "Extracting: /home/jovyan/notebooks/SAR_Training/English/Master/SBAS_2017-2022_1/S1BB_20170403T015236_20170509T015238_VVP036_INT80_G_ueF_2AE1.zip\n",
      "Extracting: /home/jovyan/notebooks/SAR_Training/English/Master/SBAS_2017-2022_1/S1BB_20170403T015236_20170602T015239_VVP060_INT80_G_ueF_E25A.zip\n",
      "Extracting: /home/jovyan/notebooks/SAR_Training/English/Master/SBAS_2017-2022_1/S1BB_20170427T015237_20170602T015239_VVP036_INT80_G_ueF_5719.zip\n",
      "Extracting: /home/jovyan/notebooks/SAR_Training/English/Master/SBAS_2017-2022_1/S1BB_20170509T015238_20170602T015239_VVP024_INT80_G_ueF_D125.zip\n",
      "Extracting: /home/jovyan/notebooks/SAR_Training/English/Master/SBAS_2017-2022_1/S1BB_20170415T015236_20170521T015238_VVP036_INT80_G_ueF_88BB.zip\n",
      "Extracting: /home/jovyan/notebooks/SAR_Training/English/Master/SBAS_2017-2022_1/S1BB_20161204T015231_20170121T015228_VVP048_INT80_G_ueF_A65A.zip\n",
      "Extracting: /home/jovyan/notebooks/SAR_Training/English/Master/SBAS_2017-2022_1/S1BB_20170214T015228_20170415T015236_VVP060_INT80_G_ueF_C540.zip\n",
      "Extracting: /home/jovyan/notebooks/SAR_Training/English/Master/SBAS_2017-2022_1/S1BB_20161228T015230_20170226T015235_VVP060_INT80_G_ueF_6AB1.zip\n",
      "Extracting: /home/jovyan/notebooks/SAR_Training/English/Master/SBAS_2017-2022_1/S1BB_20170226T015235_20170427T015237_VVP060_INT80_G_ueF_B4EC.zip\n",
      "Extracting: /home/jovyan/notebooks/SAR_Training/English/Master/SBAS_2017-2022_1/S1BB_20161228T015230_20170214T015228_VVP048_INT80_G_ueF_2D20.zip\n",
      "Extracting: /home/jovyan/notebooks/SAR_Training/English/Master/SBAS_2017-2022_1/S1BB_20170121T015228_20170214T015228_VVP024_INT80_G_ueF_3BC0.zip\n",
      "Extracting: /home/jovyan/notebooks/SAR_Training/English/Master/SBAS_2017-2022_1/S1BB_20170121T015228_20170226T015235_VVP036_INT80_G_ueF_6303.zip\n",
      "Extracting: /home/jovyan/notebooks/SAR_Training/English/Master/SBAS_2017-2022_1/S1BB_20170214T015228_20170403T015236_VVP048_INT80_G_ueF_DCA5.zip\n",
      "Extracting: /home/jovyan/notebooks/SAR_Training/English/Master/SBAS_2017-2022_1/S1BB_20161228T015230_20170121T015228_VVP024_INT80_G_ueF_C515.zip\n"
     ]
    }
   ],
   "source": [
    "print(f\"\\nProject: {jobs.jobs[0].name}\")\n",
    "project_zips = jobs.download_files(analysis_directory)\n",
    "for z in project_zips:\n",
    "    asfn.asf_unzip(str(analysis_directory), str(z))\n",
    "    z.unlink()"
   ]
  },
  {
   "cell_type": "markdown",
   "metadata": {},
   "source": [
    "# 2. Confirm Presence of a DEM, Azimuth Angle Map, and Incidence Angle Map\n",
    "\n",
    "- These are optional addon products for HyP3, which are necessary for MintPy\n",
    "    - Incidence angle maps are included with HyP3 jobs when the `Include Look Vectors` option is selected.\n",
    "    - DEMs are included with HyP3 jobs when the `Include DEM` option is selected\n",
    "- This is an optional addon product for HyP3, which is necessary for MintPy if running the correct_SET (Solid Earth Tides) step\n",
    "    - Azimuth angle maps are included with HyP3 jobs when the `Include Look Vectors` option is selected\n",
    "\n",
    "**All of the above mentioned files will be included in an InSAR project if Set MintPy Options is selected when adding InSAR jobs to a project in ASF-Search (Vertex)**"
   ]
  },
  {
   "cell_type": "code",
   "execution_count": 18,
   "metadata": {},
   "outputs": [
    {
     "name": "stdout",
     "output_type": "stream",
     "text": [
      "Success: Found at least 1 DEM.\n",
      "Success: Found at least 1 Azimuth Angle Map.\n",
      "Success: Found at least 1 Incidence Angle Map.\n"
     ]
    }
   ],
   "source": [
    "dems = list(analysis_directory.glob('*/*dem*.tif'))\n",
    "az_angle_maps = list(analysis_directory.glob('*/*lv_phi*.tif'))\n",
    "inc_angle_maps = list(analysis_directory.glob('*/*lv_theta*.tif'))\n",
    "\n",
    "if len(dems) > 0:\n",
    "    print(\"Success: Found at least 1 DEM.\")\n",
    "else:\n",
    "    raise FileNotFoundError(\"Failed to find at least 1 DEM. \\\n",
    "    \\nYou will not be able to successfully run a MintPy time-series unless you reorder your HyP3 project \\\n",
    "with DEMS or provide one from another source.\")\n",
    "    \n",
    "if len(az_angle_maps) > 0:\n",
    "    print(\"Success: Found at least 1 Azimuth Angle Map.\")\n",
    "else:\n",
    "    raise FileNotFoundError(\"Failed to find at least 1 Azimuth Angle Map. \\\n",
    "    \\nYou will not be able to successfully run a MintPy time-series unless your reorder your HyP3 project \\\n",
    "with 'Include Look Vectors' option selected.\")\n",
    "    \n",
    "if len(inc_angle_maps) > 0:\n",
    "    print(\"Success: Found at least 1 Incidence Angle Map.\")\n",
    "else:\n",
    "    raise FileNotFoundError(\"Failed to find at least 1 Incidence Angle Map. \\\n",
    "    \\nYou will not be able to successfully run a MintPy time-series unless your reorder your HyP3 project \\\n",
    "with 'Include Inc. Angle Map' option selected.\")"
   ]
  },
  {
   "cell_type": "markdown",
   "metadata": {},
   "source": [
    "# 3. Subset the Stack and Cleanup Unused Files\n",
    "\n",
    "**Delete unneeded files:**"
   ]
  },
  {
   "cell_type": "code",
   "execution_count": 19,
   "metadata": {},
   "outputs": [],
   "source": [
    "for pattern in [\"xml\",\"png\",\"kmz\",\"md.txt\"]:\n",
    "    unneeded_files = analysis_directory.glob(f\"*/*.{pattern}\")\n",
    "    for file in unneeded_files:\n",
    "        file.unlink()"
   ]
  },
  {
   "cell_type": "markdown",
   "metadata": {},
   "source": [
    "**Project all tiffs to Predominant UTM**"
   ]
  },
  {
   "cell_type": "code",
   "execution_count": 20,
   "metadata": {},
   "outputs": [],
   "source": [
    "from typing import List, Union, Dict\n",
    "from collections import Counter\n",
    "\n",
    "def get_projection(img_path: Union[Path, str]) -> Union[str, None]:\n",
    "    \"\"\"\n",
    "    Takes: a string or posix path to a product in a UTM projection\n",
    "\n",
    "    Returns: the projection (as a string) or None if none found\n",
    "    \"\"\"\n",
    "    img_path = str(img_path)\n",
    "    try:\n",
    "        info = gdal.Info(img_path, format='json')['coordinateSystem']['wkt']\n",
    "    except KeyError:\n",
    "        return None\n",
    "    except TypeError:\n",
    "        raise FileNotFoundError\n",
    "\n",
    "    regex = 'ID\\[\"EPSG\",[0-9]{4,5}\\]\\]$'\n",
    "    results = re.search(regex, info)\n",
    "    if results:\n",
    "        return results.group(0).split(',')[1][:-2]\n",
    "    else:\n",
    "        return None\n",
    "\n",
    "def get_projections(tiff_paths: List[Union[Path, str]]) -> Dict:\n",
    "    \"\"\"\n",
    "    Takes: List of string or posix paths to geotiffs\n",
    "    \n",
    "    Returns: Dictionary key: epsg, value: number of tiffs in that epsg \n",
    "    \"\"\"\n",
    "    epsgs = []\n",
    "    for p in tiff_paths:\n",
    "        epsgs.append(get_projection(p))\n",
    "\n",
    "    epsgs = dict(Counter(epsgs))\n",
    "    return epsgs\n",
    "\n",
    "def get_res(tiff):\n",
    "    tiff = str(tiff)\n",
    "    f =  gdal.Open(tiff)\n",
    "    return f.GetGeoTransform()[1] \n",
    "\n",
    "def get_no_data_val(pth):\n",
    "    pth = str(pth)\n",
    "    f = gdal.Open(str(pth))\n",
    "    if f.GetRasterBand(1).DataType > 5:\n",
    "        no_data_val = f.GetRasterBand(1).GetNoDataValue()\n",
    "        return np.nan if no_data_val == None else f.GetRasterBand(1).GetNoDataValue()\n",
    "    else:\n",
    "        return 0"
   ]
  },
  {
   "cell_type": "code",
   "execution_count": 21,
   "metadata": {},
   "outputs": [],
   "source": [
    "fnames = list(analysis_directory.glob('*/*.tif'))\n",
    "fnames.sort()\n",
    "epsgs = get_projections(fnames)\n",
    "predominant_epsg = None if len(epsgs) == 1 else max(epsgs, key=epsgs.get)\n",
    "\n",
    "if predominant_epsg:\n",
    "    for pth in fnames:\n",
    "        src_SRS = get_projection(str(pth))\n",
    "        res = get_res(pth)\n",
    "        if src_SRS != predominant_epsg:\n",
    "            res = get_res(pth)\n",
    "            no_data_val = get_no_data_val(pth)\n",
    "    \n",
    "            temp = pth.parent/f\"temp_{pth.stem}.tif\"\n",
    "            pth.rename(temp)\n",
    "\n",
    "            warp_options = {\n",
    "                \"dstSRS\":f\"EPSG:{predominant_epsg}\", \"srcSRS\":f\"EPSG:{src_SRS}\",\n",
    "                \"targetAlignedPixels\":True,\n",
    "                \"xRes\":res, \"yRes\":res,\n",
    "                \"dstNodata\": no_data_val\n",
    "            }\n",
    "            gdal.Warp(str(pth), str(temp), **warp_options)\n",
    "            temp.unlink()"
   ]
  },
  {
   "cell_type": "markdown",
   "metadata": {
    "hideOutput": true
   },
   "source": [
    "**Determine the maximum and common extents of the stack and plot an Area-of_Interest Selector:**"
   ]
  },
  {
   "cell_type": "code",
   "execution_count": 22,
   "metadata": {},
   "outputs": [
    {
     "name": "stdout",
     "output_type": "stream",
     "text": [
      "[-13620667.043142518, 5598962.7359120045, -13148403.057654168, 6078039.951655663]\n",
      "[-13574727.309105193, 5747852.58849672, -13194133.933720663, 5862997.251054166]\n"
     ]
    },
    {
     "data": {
      "application/vnd.jupyter.widget-view+json": {
       "model_id": "5950451d207f451994c2387d68634d21",
       "version_major": 2,
       "version_minor": 0
      },
      "image/png": "[encoded data removed]",
      "text/html": [
       "\n",
       "            <div style=\"display: inline-block;\">\n",
       "                <div class=\"jupyter-widgets widget-label\" style=\"text-align: center;\">\n",
       "                    Figure\n",
       "                </div>\n",
       "                <img src='data:image/png;base64,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' width=1000.0/>\n",
       "            </div>\n",
       "        "
      ],
      "text/plain": [
       "Canvas(toolbar=Toolbar(toolitems=[('Home', 'Reset original view', 'home', 'home'), ('Back', 'Back to previous …"
      ]
     },
     "metadata": {},
     "output_type": "display_data"
    }
   ],
   "source": [
    "amp = list(analysis_directory.glob(f'*/*_amp*.tif'))\n",
    "max_extents = asfn.get_max_extents(amp)\n",
    "xmin, ymin, xmax, ymax = transform_bounds(int(asfn.get_projection(str(amp[0]))), 3857, *max_extents)\n",
    "max_extents = [xmin, ymin, xmax, ymax]\n",
    "\n",
    "common_extents = asfn.get_common_coverage_extents(amp)\n",
    "xmin, ymin, xmax, ymax = transform_bounds(int(asfn.get_projection(str(amp[0]))), 3857, *common_extents)\n",
    "common_extents = [xmin, ymin, xmax, ymax]\n",
    "\n",
    "print(max_extents)\n",
    "print(common_extents)\n",
    "\n",
    "aoi = asfn.AOI_Selector(max_extents, common_extents, figsize=(10, 8))"
   ]
  },
  {
   "cell_type": "markdown",
   "metadata": {},
   "source": [
    "**Convert the subset corner coordinates from Web-Mercator back to the input data's EPSG:** "
   ]
  },
  {
   "cell_type": "code",
   "execution_count": 23,
   "metadata": {},
   "outputs": [
    {
     "name": "stdout",
     "output_type": "stream",
     "text": [
      "AOI Corner Coordinates:\n",
      "upper left corner: [570443.3611860278, 5255744.384130941]\n",
      "lower right corner: [869269.6641761363, 4999448.401229979]\n"
     ]
    }
   ],
   "source": [
    "try:\n",
    "    xmin, ymin, xmax, ymax = transform_bounds(3857, \n",
    "                                          int(asfn.get_projection(str(amp[0]))), \n",
    "                                          *[aoi.x1, aoi.y1, aoi.x2, aoi.y2])\n",
    "    ul = [xmin, ymax]\n",
    "    lr = [xmax, ymin]\n",
    "    print(f\"AOI Corner Coordinates:\")\n",
    "    print(f\"upper left corner: {ul}\")\n",
    "    print(f\"lower right corner: {lr}\")\n",
    "except TypeError:\n",
    "    print('TypeError')\n",
    "    display(Markdown(f'<text style=color:red>This error may occur if an AOI was not selected.</text>'))\n",
    "    display(Markdown(f'<text style=color:red>Note that the square tool icon in the AOI selector menu is <b>NOT</b> the selection tool. It is the zoom tool.</text>'))"
   ]
  },
  {
   "cell_type": "markdown",
   "metadata": {},
   "source": [
    "**Crop the stack to the AOI and reproject to lat-lon:**"
   ]
  },
  {
   "cell_type": "code",
   "execution_count": 24,
   "metadata": {},
   "outputs": [],
   "source": [
    "fnames = list(analysis_directory.glob('*/*.tif'))\n",
    "fnames.sort()\n",
    "\n",
    "for i, fname in enumerate(fnames):\n",
    "    clip = fname.parent/f\"{fname.stem}_clip.tif\"\n",
    "    gdal.Translate(destName=str(clip), srcDS=str(fname), projWin=[ul[0], ul[1], lr[0], lr[1]])\n",
    "    gdal.Warp(str(clip), str(clip), dstSRS='EPSG:4326', dstNodata=0)\n",
    "    fname.unlink() "
   ]
  },
  {
   "cell_type": "markdown",
   "metadata": {},
   "source": [
    "**Remove any subset scenes containing no data:**"
   ]
  },
  {
   "cell_type": "code",
   "execution_count": 25,
   "metadata": {},
   "outputs": [
    {
     "name": "stdout",
     "output_type": "stream",
     "text": [
      "No Geotiffs were removed\n"
     ]
    }
   ],
   "source": [
    "fnames = list(analysis_directory.glob('*/*.tif*'))\n",
    "fnames = [str(f) for f in fnames]\n",
    "fnames.sort()\n",
    "\n",
    "removed = []\n",
    "for f in fnames:\n",
    "    if not \"dem\" in str(f):\n",
    "        raster = gdal.Open(f)\n",
    "        if raster:\n",
    "            band = raster.ReadAsArray()\n",
    "            if np.count_nonzero(band) < 1:\n",
    "                Path(f).unlink()\n",
    "                removed.append(f)\n",
    "\n",
    "if len(removed) == 0:\n",
    "    print(\"No Geotiffs were removed\")\n",
    "else:\n",
    "    print(f\"{len(removed)} GeoTiffs removed:\")\n",
    "    for f in removed:\n",
    "        print(f)"
   ]
  },
  {
   "cell_type": "markdown",
   "metadata": {
    "tags": []
   },
   "source": [
    "# 4. Proceed to the MintPy Time-Series Notebook\n",
    "\n",
    "**Run the code cell below for a link to the MintPy_Time_Series_From_Prepared_Data_Stack notebook:**"
   ]
  },
  {
   "cell_type": "markdown",
   "metadata": {},
   "source": [
    "Describe what each notebook does in bottom links"
   ]
  },
  {
   "cell_type": "code",
   "execution_count": 26,
   "metadata": {},
   "outputs": [
    {
     "data": {
      "text/html": [
       "Open <a href='MintPy_Time_Series_From_Prepared_Data_Stack.ipynb'>MintPy_Time_Series_From_Prepared_Data_Stack.ipynb</a> to run an InSAR time-series analysis on your data using MintPy"
      ],
      "text/plain": [
       "<IPython.core.display.HTML object>"
      ]
     },
     "metadata": {},
     "output_type": "display_data"
    }
   ],
   "source": [
    "# from pathlib import Path\n",
    "from IPython.display import display, HTML\n",
    "\n",
    "current = Path.cwd()\n",
    "abs_path = Path('/home/jovyan/notebooks/SAR_Training/English/Master/MintPy_Time_Series_From_Prepared_Data_Stack.ipynb')\n",
    "relative_path = abs_path.relative_to(current)    \n",
    "\n",
    "link_t = f\"Open <a href='{relative_path}'>MintPy_Time_Series_From_Prepared_Data_Stack.ipynb</a> to run an InSAR time-series analysis on your data using MintPy\"\n",
    "html = HTML(link_t)\n",
    "display(html)"
   ]
  },
  {
   "cell_type": "markdown",
   "metadata": {},
   "source": [
    "*Prepare_HyP3_InSAR_Stack_for_MintPy.ipynb - Version 1.2.3 - October 2023*\n",
    "   \n",
    "*Version Changes*\n",
    "\n",
    "- *Project all tiffs to same UTM before subsetting with AOI_Selector*"
   ]
  },
  {
   "cell_type": "code",
   "execution_count": null,
   "metadata": {},
   "outputs": [],
   "source": []
  }
 ],
 "metadata": {
  "kernelspec": {
   "display_name": "osl_mintpy [conda env:.local-osl_mintpy]",
   "language": "python",
   "name": "conda-env-.local-osl_mintpy-py"
  },
  "language_info": {
   "codemirror_mode": {
    "name": "ipython",
    "version": 3
   },
   "file_extension": ".py",
   "mimetype": "text/x-python",
   "name": "python",
   "nbconvert_exporter": "python",
   "pygments_lexer": "ipython3",
   "version": "3.9.0"
  }
 },
 "nbformat": 4,
 "nbformat_minor": 4
}
